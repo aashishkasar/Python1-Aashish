{
 "cells": [
  {
   "cell_type": "code",
   "execution_count": 1,
   "id": "12e7941b",
   "metadata": {},
   "outputs": [],
   "source": [
    "#string---It is a sequence of character present \n",
    "#inside a double \"  or  single' Quot.\n",
    "\n",
    "var1=\"abcd123@33\""
   ]
  },
  {
   "cell_type": "code",
   "execution_count": 2,
   "id": "ca30e4e0",
   "metadata": {},
   "outputs": [
    {
     "data": {
      "text/plain": [
       "str"
      ]
     },
     "execution_count": 2,
     "metadata": {},
     "output_type": "execute_result"
    }
   ],
   "source": [
    "type(var1)"
   ]
  },
  {
   "cell_type": "code",
   "execution_count": 3,
   "id": "4ebcbe52",
   "metadata": {},
   "outputs": [
    {
     "data": {
      "text/plain": [
       "'@'"
      ]
     },
     "execution_count": 3,
     "metadata": {},
     "output_type": "execute_result"
    }
   ],
   "source": [
    "var1[7]"
   ]
  },
  {
   "cell_type": "code",
   "execution_count": 4,
   "id": "900bf1ae",
   "metadata": {},
   "outputs": [
    {
     "data": {
      "text/plain": [
       "'@'"
      ]
     },
     "execution_count": 4,
     "metadata": {},
     "output_type": "execute_result"
    }
   ],
   "source": [
    "var1[-3]"
   ]
  },
  {
   "cell_type": "code",
   "execution_count": 5,
   "id": "40536e7d",
   "metadata": {},
   "outputs": [],
   "source": [
    "#slicing\n",
    "var2=\"abcde@\""
   ]
  },
  {
   "cell_type": "code",
   "execution_count": 6,
   "id": "61c30a87",
   "metadata": {},
   "outputs": [
    {
     "data": {
      "text/plain": [
       "'abc'"
      ]
     },
     "execution_count": 6,
     "metadata": {},
     "output_type": "execute_result"
    }
   ],
   "source": [
    "var2[0:3]"
   ]
  },
  {
   "cell_type": "code",
   "execution_count": 7,
   "id": "f065f77f",
   "metadata": {},
   "outputs": [
    {
     "data": {
      "text/plain": [
       "'bcde'"
      ]
     },
     "execution_count": 7,
     "metadata": {},
     "output_type": "execute_result"
    }
   ],
   "source": [
    "var2[-5:-1]"
   ]
  },
  {
   "cell_type": "code",
   "execution_count": 8,
   "id": "ffd5ef78",
   "metadata": {},
   "outputs": [],
   "source": [
    "var3=\"abcdefghijklmnopqrstuvwxyz\""
   ]
  },
  {
   "cell_type": "code",
   "execution_count": 9,
   "id": "05fa17e9",
   "metadata": {},
   "outputs": [
    {
     "data": {
      "text/plain": [
       "'jklmnopqrs'"
      ]
     },
     "execution_count": 9,
     "metadata": {},
     "output_type": "execute_result"
    }
   ],
   "source": [
    "#positive slicing\n",
    "var3[9:19]"
   ]
  },
  {
   "cell_type": "code",
   "execution_count": 10,
   "id": "f5e7c91a",
   "metadata": {},
   "outputs": [
    {
     "data": {
      "text/plain": [
       "'jklmnopqrs'"
      ]
     },
     "execution_count": 10,
     "metadata": {},
     "output_type": "execute_result"
    }
   ],
   "source": [
    "#negative slicing\n",
    "var3[-17:-7]"
   ]
  },
  {
   "cell_type": "code",
   "execution_count": 11,
   "id": "83d9c037",
   "metadata": {},
   "outputs": [],
   "source": [
    "#upper()\n",
    "\n",
    "var3=\"abcdefg\""
   ]
  },
  {
   "cell_type": "code",
   "execution_count": 12,
   "id": "002037d9",
   "metadata": {},
   "outputs": [
    {
     "data": {
      "text/plain": [
       "'ABCDEFG'"
      ]
     },
     "execution_count": 12,
     "metadata": {},
     "output_type": "execute_result"
    }
   ],
   "source": [
    "var3.upper()"
   ]
  },
  {
   "cell_type": "code",
   "execution_count": 13,
   "id": "1b3c4a1f",
   "metadata": {},
   "outputs": [],
   "source": [
    "var4=\"ABCDEFG\""
   ]
  },
  {
   "cell_type": "code",
   "execution_count": 14,
   "id": "eebb94f2",
   "metadata": {},
   "outputs": [
    {
     "data": {
      "text/plain": [
       "'abcdefg'"
      ]
     },
     "execution_count": 14,
     "metadata": {},
     "output_type": "execute_result"
    }
   ],
   "source": [
    "var4.lower()"
   ]
  },
  {
   "cell_type": "code",
   "execution_count": 15,
   "id": "455cc0ea",
   "metadata": {},
   "outputs": [
    {
     "ename": "AttributeError",
     "evalue": "'int' object has no attribute 'upper'",
     "output_type": "error",
     "traceback": [
      "\u001b[1;31m---------------------------------------------------------------------------\u001b[0m",
      "\u001b[1;31mAttributeError\u001b[0m                            Traceback (most recent call last)",
      "Input \u001b[1;32mIn [15]\u001b[0m, in \u001b[0;36m<cell line: 2>\u001b[1;34m()\u001b[0m\n\u001b[0;32m      1\u001b[0m var5\u001b[38;5;241m=\u001b[39m\u001b[38;5;241m123\u001b[39m\n\u001b[1;32m----> 2\u001b[0m \u001b[43mvar5\u001b[49m\u001b[38;5;241;43m.\u001b[39;49m\u001b[43mupper\u001b[49m()\n",
      "\u001b[1;31mAttributeError\u001b[0m: 'int' object has no attribute 'upper'"
     ]
    }
   ],
   "source": [
    "var5=123\n",
    "var5.upper()"
   ]
  },
  {
   "cell_type": "code",
   "execution_count": 16,
   "id": "fb2ae42a",
   "metadata": {},
   "outputs": [
    {
     "data": {
      "text/plain": [
       "'Asddaf'"
      ]
     },
     "execution_count": 16,
     "metadata": {},
     "output_type": "execute_result"
    }
   ],
   "source": [
    "#capitalize() \n",
    "\"\"\"it will convert the first character in a string into uppercase \n",
    "and rest ofthe charactercwill be in lower case.\"\"\"\n",
    "\n",
    "var3=\"asddAF\"\n",
    "var3.capitalize()"
   ]
  },
  {
   "cell_type": "code",
   "execution_count": 17,
   "id": "b470628d",
   "metadata": {},
   "outputs": [
    {
     "data": {
      "text/plain": [
       "'1adasd'"
      ]
     },
     "execution_count": 17,
     "metadata": {},
     "output_type": "execute_result"
    }
   ],
   "source": [
    "var3=\"1adasd\"\n",
    "var3.capitalize()"
   ]
  },
  {
   "cell_type": "code",
   "execution_count": null,
   "id": "0b381c91",
   "metadata": {},
   "outputs": [],
   "source": []
  },
  {
   "cell_type": "code",
   "execution_count": 18,
   "id": "a5ddb990",
   "metadata": {},
   "outputs": [
    {
     "data": {
      "text/plain": [
       "'Python Java Visual'"
      ]
     },
     "execution_count": 18,
     "metadata": {},
     "output_type": "execute_result"
    }
   ],
   "source": [
    "#title()\n",
    "\"\"\"It will convert the first character of a word iside a string into upper case\"\"\"\n",
    "\n",
    "var4=\"python java visual\"\n",
    "var4.title()"
   ]
  },
  {
   "cell_type": "code",
   "execution_count": 19,
   "id": "915393fc",
   "metadata": {},
   "outputs": [
    {
     "data": {
      "text/plain": [
       "'1Python Java Visual'"
      ]
     },
     "execution_count": 19,
     "metadata": {},
     "output_type": "execute_result"
    }
   ],
   "source": [
    "var4=\"1python java visual\"\n",
    "var4.title()"
   ]
  },
  {
   "cell_type": "code",
   "execution_count": 20,
   "id": "4dc3cc75",
   "metadata": {},
   "outputs": [
    {
     "data": {
      "text/plain": [
       "'123Python Java Visual'"
      ]
     },
     "execution_count": 20,
     "metadata": {},
     "output_type": "execute_result"
    }
   ],
   "source": [
    "var4=\"123python java visual\"\n",
    "var4.title()"
   ]
  },
  {
   "cell_type": "code",
   "execution_count": 21,
   "id": "77d77c93",
   "metadata": {},
   "outputs": [
    {
     "data": {
      "text/plain": [
       "'Java Python'"
      ]
     },
     "execution_count": 21,
     "metadata": {},
     "output_type": "execute_result"
    }
   ],
   "source": [
    "var4=\"jAVA pytHon\"\n",
    "var4.title()"
   ]
  },
  {
   "cell_type": "code",
   "execution_count": 22,
   "id": "0fefc5b4",
   "metadata": {},
   "outputs": [
    {
     "data": {
      "text/plain": [
       "'It will convert the upper case character in a string into lower case and vice-versa'"
      ]
     },
     "execution_count": 22,
     "metadata": {},
     "output_type": "execute_result"
    }
   ],
   "source": [
    "#swapcase() \n",
    "\"\"\"It will convert the upper case character in a string into lower case and vice-versa\"\"\""
   ]
  },
  {
   "cell_type": "code",
   "execution_count": 23,
   "id": "8c149884",
   "metadata": {},
   "outputs": [
    {
     "data": {
      "text/plain": [
       "'ASADASsada'"
      ]
     },
     "execution_count": 23,
     "metadata": {},
     "output_type": "execute_result"
    }
   ],
   "source": [
    "var5=\"asadasSADA\"\n",
    "var5.swapcase()"
   ]
  },
  {
   "cell_type": "code",
   "execution_count": 24,
   "id": "cb66f30d",
   "metadata": {},
   "outputs": [
    {
     "data": {
      "text/plain": [
       "'ADSA@D1234'"
      ]
     },
     "execution_count": 24,
     "metadata": {},
     "output_type": "execute_result"
    }
   ],
   "source": [
    "var5=\"adsa@d1234\"\n",
    "var5.swapcase()"
   ]
  },
  {
   "cell_type": "code",
   "execution_count": 25,
   "id": "ff82780b",
   "metadata": {},
   "outputs": [],
   "source": [
    "#Concatination Technic \"\"\"It will combinig multiple string into a single string\"\"\"\n",
    "\n",
    "\n",
    "var7=\"abcdef\"\n",
    "var8=\"ghijk\"\n",
    "var9=var7+var8"
   ]
  },
  {
   "cell_type": "code",
   "execution_count": 26,
   "id": "5872412e",
   "metadata": {},
   "outputs": [
    {
     "data": {
      "text/plain": [
       "'abcdefghijk'"
      ]
     },
     "execution_count": 26,
     "metadata": {},
     "output_type": "execute_result"
    }
   ],
   "source": [
    "var9"
   ]
  },
  {
   "cell_type": "code",
   "execution_count": 1,
   "id": "d520d094",
   "metadata": {},
   "outputs": [
    {
     "data": {
      "text/plain": [
       "'AbCdE'"
      ]
     },
     "execution_count": 1,
     "metadata": {},
     "output_type": "execute_result"
    }
   ],
   "source": [
    "var=\"abcdefgh\"\n",
    "var[0].upper()+var[1]+var[2].upper()+var[3]+var[4].upper()"
   ]
  },
  {
   "cell_type": "code",
   "execution_count": 28,
   "id": "25d20cd7",
   "metadata": {},
   "outputs": [
    {
     "data": {
      "text/plain": [
       "'abCDEFgh'"
      ]
     },
     "execution_count": 28,
     "metadata": {},
     "output_type": "execute_result"
    }
   ],
   "source": [
    "x=\"abcdefgh\"\n",
    "x[0:2]+x[2:6].upper()+x[6:]"
   ]
  },
  {
   "cell_type": "code",
   "execution_count": 29,
   "id": "6f1c927e",
   "metadata": {},
   "outputs": [
    {
     "data": {
      "text/plain": [
       "'ABCDefgh'"
      ]
     },
     "execution_count": 29,
     "metadata": {},
     "output_type": "execute_result"
    }
   ],
   "source": [
    "x=\"abcdEFGH\"\n",
    "x[0:4].upper()+x[4:].lower()"
   ]
  },
  {
   "cell_type": "code",
   "execution_count": 30,
   "id": "2968bcc0",
   "metadata": {},
   "outputs": [
    {
     "data": {
      "text/plain": [
       "3"
      ]
     },
     "execution_count": 30,
     "metadata": {},
     "output_type": "execute_result"
    }
   ],
   "source": [
    "#count() \"\"\"It will count how many times a particular character in presnt iside a string\"\"\"\n",
    "\n",
    "x=\"aaadefg\"\n",
    "x.count(\"a\")"
   ]
  },
  {
   "cell_type": "code",
   "execution_count": 31,
   "id": "c1f6524a",
   "metadata": {},
   "outputs": [
    {
     "data": {
      "text/plain": [
       "2"
      ]
     },
     "execution_count": 31,
     "metadata": {},
     "output_type": "execute_result"
    }
   ],
   "source": [
    "x=\"dasasddeeadradaa\"\n",
    "x.count(\"ad\")"
   ]
  },
  {
   "cell_type": "code",
   "execution_count": 32,
   "id": "05d7a25b",
   "metadata": {},
   "outputs": [
    {
     "data": {
      "text/plain": [
       "2"
      ]
     },
     "execution_count": 32,
     "metadata": {},
     "output_type": "execute_result"
    }
   ],
   "source": [
    "var11=\"1321987412488112\"\n",
    "var11.count(\"12\")"
   ]
  },
  {
   "cell_type": "code",
   "execution_count": 33,
   "id": "41e14d9c",
   "metadata": {},
   "outputs": [
    {
     "data": {
      "text/plain": [
       "4"
      ]
     },
     "execution_count": 33,
     "metadata": {},
     "output_type": "execute_result"
    }
   ],
   "source": [
    "var12=\"abcdaaaa\"\n",
    "var12.count(\"a\",3,8)"
   ]
  },
  {
   "cell_type": "code",
   "execution_count": 34,
   "id": "81f9550e",
   "metadata": {},
   "outputs": [
    {
     "data": {
      "text/plain": [
       "4"
      ]
     },
     "execution_count": 34,
     "metadata": {},
     "output_type": "execute_result"
    }
   ],
   "source": [
    "var12=\"abcdaaaa\"\n",
    "var12.count(\"a\",3,)"
   ]
  },
  {
   "cell_type": "code",
   "execution_count": 35,
   "id": "13b9fadd",
   "metadata": {},
   "outputs": [
    {
     "data": {
      "text/plain": [
       "'@b@d@b@d'"
      ]
     },
     "execution_count": 35,
     "metadata": {},
     "output_type": "execute_result"
    }
   ],
   "source": [
    "#replace() \"\"\"To replace a single character or Sequence of character in a string.\"\"\"\n",
    "\n",
    "\n",
    "x=\"abadabad\"\n",
    "x.replace(\"a\",\"@\")"
   ]
  },
  {
   "cell_type": "code",
   "execution_count": 36,
   "id": "7eb3e8e8",
   "metadata": {},
   "outputs": [
    {
     "data": {
      "text/plain": [
       "'@ad@ad'"
      ]
     },
     "execution_count": 36,
     "metadata": {},
     "output_type": "execute_result"
    }
   ],
   "source": [
    "x=\"abadabad\"\n",
    "x.replace(\"ab\",\"@\")"
   ]
  },
  {
   "cell_type": "code",
   "execution_count": 37,
   "id": "986f993a",
   "metadata": {},
   "outputs": [
    {
     "data": {
      "text/plain": [
       "'@b@d@b@d'"
      ]
     },
     "execution_count": 37,
     "metadata": {},
     "output_type": "execute_result"
    }
   ],
   "source": [
    "x=\"abadabad\"\n",
    "x.replace(\"a\",\"@\",4)"
   ]
  },
  {
   "cell_type": "code",
   "execution_count": 38,
   "id": "b60a01bb",
   "metadata": {},
   "outputs": [
    {
     "data": {
      "text/plain": [
       "'$badabad'"
      ]
     },
     "execution_count": 38,
     "metadata": {},
     "output_type": "execute_result"
    }
   ],
   "source": [
    "x=\"abadabad\"\n",
    "x.replace(\"a\",\"$\",1)"
   ]
  },
  {
   "cell_type": "code",
   "execution_count": 39,
   "id": "2518f46b",
   "metadata": {},
   "outputs": [
    {
     "data": {
      "text/plain": [
       "'ab$dabad'"
      ]
     },
     "execution_count": 39,
     "metadata": {},
     "output_type": "execute_result"
    }
   ],
   "source": [
    "x=\"abadabad\"\n",
    "x[0:2]+x[2:3].replace(\"a\",\"$\")+x[3:]"
   ]
  },
  {
   "cell_type": "code",
   "execution_count": 40,
   "id": "e7f010f7",
   "metadata": {},
   "outputs": [
    {
     "data": {
      "text/plain": [
       "0"
      ]
     },
     "execution_count": 40,
     "metadata": {},
     "output_type": "execute_result"
    }
   ],
   "source": [
    "#index() \"\"\"Index method will return the index value of a character occuring at first Instance. \"\"\"\n",
    "\n",
    "x=\"abadabad\"\n",
    "x.index(\"a\")"
   ]
  },
  {
   "cell_type": "code",
   "execution_count": 41,
   "id": "1667f576",
   "metadata": {},
   "outputs": [
    {
     "data": {
      "text/plain": [
       "2"
      ]
     },
     "execution_count": 41,
     "metadata": {},
     "output_type": "execute_result"
    }
   ],
   "source": [
    "x=\"abadabad\"\n",
    "x.index(\"a\",1,)"
   ]
  },
  {
   "cell_type": "code",
   "execution_count": 42,
   "id": "0564c6df",
   "metadata": {},
   "outputs": [
    {
     "data": {
      "text/plain": [
       "-1"
      ]
     },
     "execution_count": 42,
     "metadata": {},
     "output_type": "execute_result"
    }
   ],
   "source": [
    "#find() \"\"\"Same Defination Like Index\"\"\"\n",
    "\n",
    "x=\"abadabad\"\n",
    "x.find(\"J\")"
   ]
  },
  {
   "cell_type": "code",
   "execution_count": 43,
   "id": "3810ca05",
   "metadata": {},
   "outputs": [
    {
     "data": {
      "text/plain": [
       "-1"
      ]
     },
     "execution_count": 43,
     "metadata": {},
     "output_type": "execute_result"
    }
   ],
   "source": [
    "x=\"abadabad\"\n",
    "x.find('A')"
   ]
  },
  {
   "cell_type": "code",
   "execution_count": 44,
   "id": "f3d07381",
   "metadata": {},
   "outputs": [],
   "source": [
    "#14-07-2022\n",
    "\n",
    "#spit()\n"
   ]
  },
  {
   "cell_type": "code",
   "execution_count": 45,
   "id": "07a6377d",
   "metadata": {},
   "outputs": [
    {
     "data": {
      "text/plain": [
       "['python', 'java', 'c++', 'c', 'visual']"
      ]
     },
     "execution_count": 45,
     "metadata": {},
     "output_type": "execute_result"
    }
   ],
   "source": [
    "var14=\"python java c++ c visual\"\n",
    "var14.split()"
   ]
  },
  {
   "cell_type": "code",
   "execution_count": 46,
   "id": "cd033d74",
   "metadata": {},
   "outputs": [
    {
     "data": {
      "text/plain": [
       "['pythonjavac++cvisual']"
      ]
     },
     "execution_count": 46,
     "metadata": {},
     "output_type": "execute_result"
    }
   ],
   "source": [
    "var14=\"pythonjavac++cvisual\"\n",
    "var14.split()"
   ]
  },
  {
   "cell_type": "code",
   "execution_count": 47,
   "id": "c76147fe",
   "metadata": {},
   "outputs": [],
   "source": [
    "#partition"
   ]
  },
  {
   "cell_type": "code",
   "execution_count": 48,
   "id": "0a8bb8d7",
   "metadata": {},
   "outputs": [
    {
     "data": {
      "text/plain": [
       "('ab', 'c', '')"
      ]
     },
     "execution_count": 48,
     "metadata": {},
     "output_type": "execute_result"
    }
   ],
   "source": [
    "var15=\"abc\"\n",
    "var15.partition(\"c\")"
   ]
  },
  {
   "cell_type": "code",
   "execution_count": 49,
   "id": "25a4aa7c",
   "metadata": {},
   "outputs": [
    {
     "data": {
      "text/plain": [
       "('java', ' ', 'python c++')"
      ]
     },
     "execution_count": 49,
     "metadata": {},
     "output_type": "execute_result"
    }
   ],
   "source": [
    "var15=\"java python c++\"\n",
    "var15.partition(\" \")"
   ]
  },
  {
   "cell_type": "code",
   "execution_count": 50,
   "id": "cba8e8e8",
   "metadata": {},
   "outputs": [
    {
     "data": {
      "text/plain": [
       "('javapythonc++', '', '')"
      ]
     },
     "execution_count": 50,
     "metadata": {},
     "output_type": "execute_result"
    }
   ],
   "source": [
    "var15=\"javapythonc++\"\n",
    "var15.partition(\" \")"
   ]
  },
  {
   "cell_type": "code",
   "execution_count": 51,
   "id": "3c037cf5",
   "metadata": {},
   "outputs": [
    {
     "data": {
      "text/plain": [
       "('', ' ', 'javapythonc++')"
      ]
     },
     "execution_count": 51,
     "metadata": {},
     "output_type": "execute_result"
    }
   ],
   "source": [
    "var15=\" javapythonc++\"\n",
    "var15.partition(\" \")"
   ]
  },
  {
   "cell_type": "code",
   "execution_count": 52,
   "id": "c0d425fd",
   "metadata": {},
   "outputs": [
    {
     "data": {
      "text/plain": [
       "('rohit kumar 1234', ',', ' aashish k 123')"
      ]
     },
     "execution_count": 52,
     "metadata": {},
     "output_type": "execute_result"
    }
   ],
   "source": [
    "fullname=\"rohit kumar 1234, aashish k 123\"\n",
    "fullname.partition(\",\")"
   ]
  },
  {
   "cell_type": "code",
   "execution_count": 53,
   "id": "26326712",
   "metadata": {},
   "outputs": [],
   "source": [
    "#strip()"
   ]
  },
  {
   "cell_type": "code",
   "execution_count": 54,
   "id": "b1cf6282",
   "metadata": {},
   "outputs": [
    {
     "data": {
      "text/plain": [
       "'apple'"
      ]
     },
     "execution_count": 54,
     "metadata": {},
     "output_type": "execute_result"
    }
   ],
   "source": [
    "var16=\" apple \"\n",
    "var16.strip(\" \") #--default will be space"
   ]
  },
  {
   "cell_type": "code",
   "execution_count": 55,
   "id": "e4b9dd2c",
   "metadata": {},
   "outputs": [
    {
     "data": {
      "text/plain": [
       "'apple'"
      ]
     },
     "execution_count": 55,
     "metadata": {},
     "output_type": "execute_result"
    }
   ],
   "source": [
    "var16=\"@apple@\"\n",
    "var16.strip(\"@\")"
   ]
  },
  {
   "cell_type": "code",
   "execution_count": 56,
   "id": "d01c8516",
   "metadata": {},
   "outputs": [
    {
     "data": {
      "text/plain": [
       "'apple'"
      ]
     },
     "execution_count": 56,
     "metadata": {},
     "output_type": "execute_result"
    }
   ],
   "source": [
    "var16=\"@apple\"\n",
    "var16.strip(\"@\")"
   ]
  },
  {
   "cell_type": "code",
   "execution_count": 57,
   "id": "4b6ba419",
   "metadata": {},
   "outputs": [
    {
     "data": {
      "text/plain": [
       "'ap@ple'"
      ]
     },
     "execution_count": 57,
     "metadata": {},
     "output_type": "execute_result"
    }
   ],
   "source": [
    "var16=\"@ap@ple@\"\n",
    "var16.strip(\"@\")"
   ]
  },
  {
   "cell_type": "code",
   "execution_count": 58,
   "id": "d827a6c5",
   "metadata": {},
   "outputs": [
    {
     "data": {
      "text/plain": [
       "' apple'"
      ]
     },
     "execution_count": 58,
     "metadata": {},
     "output_type": "execute_result"
    }
   ],
   "source": [
    "var16=\" apple@\"\n",
    "var16.strip(\"@\")"
   ]
  },
  {
   "cell_type": "code",
   "execution_count": 59,
   "id": "58a8d995",
   "metadata": {},
   "outputs": [
    {
     "data": {
      "text/plain": [
       "'sds'"
      ]
     },
     "execution_count": 59,
     "metadata": {},
     "output_type": "execute_result"
    }
   ],
   "source": [
    "var17=\"@@sds@@\"\n",
    "var17.strip(\"@\")"
   ]
  },
  {
   "cell_type": "code",
   "execution_count": 60,
   "id": "b55f85a8",
   "metadata": {},
   "outputs": [
    {
     "data": {
      "text/plain": [
       "'sds'"
      ]
     },
     "execution_count": 60,
     "metadata": {},
     "output_type": "execute_result"
    }
   ],
   "source": [
    "var17=\" @@sds@@\"\n",
    "var17.strip(\" @\")"
   ]
  },
  {
   "cell_type": "code",
   "execution_count": 61,
   "id": "b3f640f7",
   "metadata": {},
   "outputs": [
    {
     "data": {
      "text/plain": [
       "'def'"
      ]
     },
     "execution_count": 61,
     "metadata": {},
     "output_type": "execute_result"
    }
   ],
   "source": [
    "var17=\"abcdefab\"\n",
    "var17.strip(\"bac\")"
   ]
  },
  {
   "cell_type": "code",
   "execution_count": 62,
   "id": "ec08c3a1",
   "metadata": {},
   "outputs": [
    {
     "data": {
      "text/plain": [
       "'cde'"
      ]
     },
     "execution_count": 62,
     "metadata": {},
     "output_type": "execute_result"
    }
   ],
   "source": [
    "var17=\"abcdefab\"\n",
    "var17.strip(\" fab\")"
   ]
  },
  {
   "cell_type": "code",
   "execution_count": 63,
   "id": "96a61ad7",
   "metadata": {},
   "outputs": [],
   "source": [
    "#statswith()"
   ]
  },
  {
   "cell_type": "code",
   "execution_count": 64,
   "id": "abd672da",
   "metadata": {},
   "outputs": [
    {
     "data": {
      "text/plain": [
       "True"
      ]
     },
     "execution_count": 64,
     "metadata": {},
     "output_type": "execute_result"
    }
   ],
   "source": [
    "var18=\"abcd@@@@@\"\n",
    "var18.startswith(\"a\")"
   ]
  },
  {
   "cell_type": "code",
   "execution_count": 65,
   "id": "42a4cb84",
   "metadata": {},
   "outputs": [
    {
     "data": {
      "text/plain": [
       "False"
      ]
     },
     "execution_count": 65,
     "metadata": {},
     "output_type": "execute_result"
    }
   ],
   "source": [
    "var18=\"abcd@@@@@\"\n",
    "var18.startswith(\"b\")"
   ]
  },
  {
   "cell_type": "code",
   "execution_count": 66,
   "id": "62e741ab",
   "metadata": {},
   "outputs": [
    {
     "data": {
      "text/plain": [
       "True"
      ]
     },
     "execution_count": 66,
     "metadata": {},
     "output_type": "execute_result"
    }
   ],
   "source": [
    "var18=\"abcd@@@@@\"\n",
    "var18.startswith(\"b\",1)"
   ]
  },
  {
   "cell_type": "code",
   "execution_count": 67,
   "id": "820aa98e",
   "metadata": {},
   "outputs": [],
   "source": [
    "#endswith"
   ]
  },
  {
   "cell_type": "code",
   "execution_count": 68,
   "id": "9e9ecfe0",
   "metadata": {},
   "outputs": [
    {
     "data": {
      "text/plain": [
       "True"
      ]
     },
     "execution_count": 68,
     "metadata": {},
     "output_type": "execute_result"
    }
   ],
   "source": [
    "var19=\"abcd@@@@@\"\n",
    "var19.endswith(\"@\")"
   ]
  },
  {
   "cell_type": "code",
   "execution_count": 69,
   "id": "d1d596af",
   "metadata": {},
   "outputs": [
    {
     "data": {
      "text/plain": [
       "True"
      ]
     },
     "execution_count": 69,
     "metadata": {},
     "output_type": "execute_result"
    }
   ],
   "source": [
    "var19=\"abcd@@@@@\"\n",
    "var19.endswith(\"d\",1,4)"
   ]
  },
  {
   "cell_type": "code",
   "execution_count": 70,
   "id": "0383e13f",
   "metadata": {},
   "outputs": [],
   "source": [
    "#isalpha() ---is to check whether your string is having all character as alphabets "
   ]
  },
  {
   "cell_type": "code",
   "execution_count": 71,
   "id": "77a5c440",
   "metadata": {},
   "outputs": [
    {
     "data": {
      "text/plain": [
       "True"
      ]
     },
     "execution_count": 71,
     "metadata": {},
     "output_type": "execute_result"
    }
   ],
   "source": [
    "var20=\"asdsadsasdasd\"\n",
    "var20.isalpha()"
   ]
  },
  {
   "cell_type": "code",
   "execution_count": 72,
   "id": "0a0a87bf",
   "metadata": {},
   "outputs": [
    {
     "data": {
      "text/plain": [
       "False"
      ]
     },
     "execution_count": 72,
     "metadata": {},
     "output_type": "execute_result"
    }
   ],
   "source": [
    "var20=\"asdsadsas23dasd\"\n",
    "var20.isalpha()"
   ]
  },
  {
   "cell_type": "code",
   "execution_count": 73,
   "id": "98dc6312",
   "metadata": {},
   "outputs": [],
   "source": [
    "#isdigit()---is to check whether your string is having all vcharacter as numeric"
   ]
  },
  {
   "cell_type": "code",
   "execution_count": 74,
   "id": "bb0239e7",
   "metadata": {},
   "outputs": [
    {
     "data": {
      "text/plain": [
       "False"
      ]
     },
     "execution_count": 74,
     "metadata": {},
     "output_type": "execute_result"
    }
   ],
   "source": [
    "var20=\"1mdlkmfd4\"\n",
    "var20.isdigit()"
   ]
  },
  {
   "cell_type": "code",
   "execution_count": 75,
   "id": "34f40870",
   "metadata": {},
   "outputs": [
    {
     "data": {
      "text/plain": [
       "True"
      ]
     },
     "execution_count": 75,
     "metadata": {},
     "output_type": "execute_result"
    }
   ],
   "source": [
    "var20=\"1326\"\n",
    "var20.isdigit()"
   ]
  },
  {
   "cell_type": "code",
   "execution_count": 76,
   "id": "9f39d23b",
   "metadata": {},
   "outputs": [
    {
     "data": {
      "text/plain": [
       "False"
      ]
     },
     "execution_count": 76,
     "metadata": {},
     "output_type": "execute_result"
    }
   ],
   "source": [
    "var20=\"13.26\"\n",
    "var20.isdigit()"
   ]
  },
  {
   "cell_type": "code",
   "execution_count": 77,
   "id": "897be493",
   "metadata": {},
   "outputs": [],
   "source": [
    "#isalnum()---is to check whether your string is having all character as numeric or alphabet"
   ]
  },
  {
   "cell_type": "code",
   "execution_count": 78,
   "id": "173ace39",
   "metadata": {},
   "outputs": [
    {
     "data": {
      "text/plain": [
       "True"
      ]
     },
     "execution_count": 78,
     "metadata": {},
     "output_type": "execute_result"
    }
   ],
   "source": [
    "var21=\"1aaaa22\"\n",
    "var21.isalnum()"
   ]
  },
  {
   "cell_type": "code",
   "execution_count": 79,
   "id": "882013b2",
   "metadata": {},
   "outputs": [
    {
     "data": {
      "text/plain": [
       "False"
      ]
     },
     "execution_count": 79,
     "metadata": {},
     "output_type": "execute_result"
    }
   ],
   "source": [
    "var21=\"1aaaa22-\"\n",
    "var21.isalnum()"
   ]
  },
  {
   "cell_type": "code",
   "execution_count": 80,
   "id": "870eb6c9",
   "metadata": {},
   "outputs": [],
   "source": [
    "#isupper()"
   ]
  },
  {
   "cell_type": "code",
   "execution_count": 81,
   "id": "1b9925c5",
   "metadata": {},
   "outputs": [
    {
     "data": {
      "text/plain": [
       "False"
      ]
     },
     "execution_count": 81,
     "metadata": {},
     "output_type": "execute_result"
    }
   ],
   "source": [
    "var22='asdd'\n",
    "var22.isupper()"
   ]
  },
  {
   "cell_type": "code",
   "execution_count": 82,
   "id": "89033797",
   "metadata": {},
   "outputs": [],
   "source": [
    "#islower()"
   ]
  },
  {
   "cell_type": "code",
   "execution_count": 83,
   "id": "d864950a",
   "metadata": {},
   "outputs": [
    {
     "data": {
      "text/plain": [
       "True"
      ]
     },
     "execution_count": 83,
     "metadata": {},
     "output_type": "execute_result"
    }
   ],
   "source": [
    "var22='asdd'\n",
    "var22.islower()"
   ]
  },
  {
   "cell_type": "code",
   "execution_count": 84,
   "id": "35b26ecc",
   "metadata": {},
   "outputs": [
    {
     "data": {
      "text/plain": [
       "True"
      ]
     },
     "execution_count": 84,
     "metadata": {},
     "output_type": "execute_result"
    }
   ],
   "source": [
    "var22='ASDSAasddsAD'\n",
    "var22.lower().islower()"
   ]
  },
  {
   "cell_type": "code",
   "execution_count": 85,
   "id": "f1fcffa6",
   "metadata": {},
   "outputs": [
    {
     "data": {
      "text/plain": [
       "True"
      ]
     },
     "execution_count": 85,
     "metadata": {},
     "output_type": "execute_result"
    }
   ],
   "source": [
    "var22='ASDSAasddsAD'\n",
    "var22.upper().isupper()"
   ]
  },
  {
   "cell_type": "code",
   "execution_count": 86,
   "id": "69783cd8",
   "metadata": {},
   "outputs": [],
   "source": [
    "#istitle()"
   ]
  },
  {
   "cell_type": "code",
   "execution_count": 87,
   "id": "d150111f",
   "metadata": {},
   "outputs": [
    {
     "data": {
      "text/plain": [
       "False"
      ]
     },
     "execution_count": 87,
     "metadata": {},
     "output_type": "execute_result"
    }
   ],
   "source": [
    "var22=\"python java ccc\"\n",
    "var22.istitle()"
   ]
  },
  {
   "cell_type": "code",
   "execution_count": 88,
   "id": "5943c6f2",
   "metadata": {},
   "outputs": [
    {
     "data": {
      "text/plain": [
       "True"
      ]
     },
     "execution_count": 88,
     "metadata": {},
     "output_type": "execute_result"
    }
   ],
   "source": [
    "var22=\"Python Java Ccc\"\n",
    "var22.title().istitle()"
   ]
  },
  {
   "cell_type": "code",
   "execution_count": 89,
   "id": "325f940f",
   "metadata": {},
   "outputs": [],
   "source": [
    "#isspace()--- to check all the character are spaces"
   ]
  },
  {
   "cell_type": "code",
   "execution_count": 90,
   "id": "b6fa6864",
   "metadata": {},
   "outputs": [
    {
     "data": {
      "text/plain": [
       "True"
      ]
     },
     "execution_count": 90,
     "metadata": {},
     "output_type": "execute_result"
    }
   ],
   "source": [
    "var23=\"   \"\n",
    "var23.isspace()"
   ]
  },
  {
   "cell_type": "code",
   "execution_count": 91,
   "id": "1e6a4634",
   "metadata": {},
   "outputs": [
    {
     "data": {
      "text/plain": [
       "False"
      ]
     },
     "execution_count": 91,
     "metadata": {},
     "output_type": "execute_result"
    }
   ],
   "source": [
    "var22=\"\"\n",
    "var22.isspace()"
   ]
  },
  {
   "cell_type": "code",
   "execution_count": 92,
   "id": "45834015",
   "metadata": {},
   "outputs": [
    {
     "data": {
      "text/plain": [
       "False"
      ]
     },
     "execution_count": 92,
     "metadata": {},
     "output_type": "execute_result"
    }
   ],
   "source": [
    "var22=\" asd ASF  \"\n",
    "var22.isspace()"
   ]
  },
  {
   "cell_type": "code",
   "execution_count": 93,
   "id": "f9f47dff",
   "metadata": {},
   "outputs": [],
   "source": [
    "#maketrans()---this mathod will make a mapping table which can be use in \n",
    "    #translate method to translate the character.\n",
    "    \n",
    "#translate()---this method help us to translate the character by using\n",
    "    #the mapping table which we got from maketrance method.\n",
    "\n"
   ]
  },
  {
   "cell_type": "code",
   "execution_count": 94,
   "id": "1478e0f4",
   "metadata": {},
   "outputs": [],
   "source": [
    "var24=\"asjhfassaiiasdi\""
   ]
  },
  {
   "cell_type": "code",
   "execution_count": 95,
   "id": "3f7a28c9",
   "metadata": {},
   "outputs": [],
   "source": [
    "table=var24.maketrans(\"asi\",\"@$!\")"
   ]
  },
  {
   "cell_type": "code",
   "execution_count": 96,
   "id": "20f0ce4b",
   "metadata": {},
   "outputs": [
    {
     "data": {
      "text/plain": [
       "{97: 64, 115: 36, 105: 33}"
      ]
     },
     "execution_count": 96,
     "metadata": {},
     "output_type": "execute_result"
    }
   ],
   "source": [
    "table"
   ]
  },
  {
   "cell_type": "code",
   "execution_count": 97,
   "id": "3bdd2e1c",
   "metadata": {},
   "outputs": [
    {
     "data": {
      "text/plain": [
       "'@$jhf@$$@!!@$d!'"
      ]
     },
     "execution_count": 97,
     "metadata": {},
     "output_type": "execute_result"
    }
   ],
   "source": [
    "var24.translate(table)"
   ]
  },
  {
   "cell_type": "code",
   "execution_count": 4,
   "id": "583e9889",
   "metadata": {},
   "outputs": [],
   "source": [
    "var25=\"aassfefiiasfi\""
   ]
  },
  {
   "cell_type": "code",
   "execution_count": 5,
   "id": "3efa8936",
   "metadata": {},
   "outputs": [],
   "source": [
    "table=var25.maketrans(\"ase\",\"@$!\")"
   ]
  },
  {
   "cell_type": "code",
   "execution_count": 6,
   "id": "66ffb405",
   "metadata": {},
   "outputs": [
    {
     "data": {
      "text/plain": [
       "{97: 64, 115: 36, 101: 33}"
      ]
     },
     "execution_count": 6,
     "metadata": {},
     "output_type": "execute_result"
    }
   ],
   "source": [
    "table"
   ]
  },
  {
   "cell_type": "code",
   "execution_count": 7,
   "id": "a22d8c05",
   "metadata": {},
   "outputs": [
    {
     "data": {
      "text/plain": [
       "'@@$$f!fii@$fi'"
      ]
     },
     "execution_count": 7,
     "metadata": {},
     "output_type": "execute_result"
    }
   ],
   "source": [
    "var25.translate(table)"
   ]
  },
  {
   "cell_type": "code",
   "execution_count": 102,
   "id": "6abc7c7e",
   "metadata": {},
   "outputs": [],
   "source": [
    "#len()---is mainly use to knoe the how many character is present inside the string\n"
   ]
  },
  {
   "cell_type": "code",
   "execution_count": 103,
   "id": "90d61954",
   "metadata": {},
   "outputs": [
    {
     "data": {
      "text/plain": [
       "5"
      ]
     },
     "execution_count": 103,
     "metadata": {},
     "output_type": "execute_result"
    }
   ],
   "source": [
    "x=\"abcdf\"\n",
    "len(x)"
   ]
  },
  {
   "cell_type": "code",
   "execution_count": 104,
   "id": "0bb46076",
   "metadata": {},
   "outputs": [
    {
     "data": {
      "text/plain": [
       "6"
      ]
     },
     "execution_count": 104,
     "metadata": {},
     "output_type": "execute_result"
    }
   ],
   "source": [
    "x=\" abcdf\"\n",
    "len(x)"
   ]
  },
  {
   "cell_type": "code",
   "execution_count": 105,
   "id": "a4aa45cf",
   "metadata": {},
   "outputs": [
    {
     "data": {
      "text/plain": [
       "5"
      ]
     },
     "execution_count": 105,
     "metadata": {},
     "output_type": "execute_result"
    }
   ],
   "source": [
    "x=\" abcdf\"\n",
    "len(x.strip())"
   ]
  },
  {
   "cell_type": "code",
   "execution_count": 106,
   "id": "d7994b16",
   "metadata": {},
   "outputs": [
    {
     "data": {
      "text/plain": [
       "97"
      ]
     },
     "execution_count": 106,
     "metadata": {},
     "output_type": "execute_result"
    }
   ],
   "source": [
    "#ascii values\n",
    "\n",
    "\n",
    "x=\"a\"\n",
    "ord(x)"
   ]
  },
  {
   "cell_type": "code",
   "execution_count": 107,
   "id": "8e2d4c65",
   "metadata": {},
   "outputs": [
    {
     "data": {
      "text/plain": [
       "'0b1100001'"
      ]
     },
     "execution_count": 107,
     "metadata": {},
     "output_type": "execute_result"
    }
   ],
   "source": [
    "bin(97)"
   ]
  },
  {
   "cell_type": "code",
   "execution_count": 108,
   "id": "be846994",
   "metadata": {},
   "outputs": [
    {
     "data": {
      "text/plain": [
       "'a'"
      ]
     },
     "execution_count": 108,
     "metadata": {},
     "output_type": "execute_result"
    }
   ],
   "source": [
    "chr(97)"
   ]
  },
  {
   "cell_type": "code",
   "execution_count": 124,
   "id": "783ec8f9",
   "metadata": {},
   "outputs": [],
   "source": [
    "#15-07-2022\n",
    "\n",
    "#isidentifier()---is use to check where your strig can be used as an identifier or not"
   ]
  },
  {
   "cell_type": "code",
   "execution_count": 110,
   "id": "2a7d91c4",
   "metadata": {},
   "outputs": [
    {
     "data": {
      "text/plain": [
       "True"
      ]
     },
     "execution_count": 110,
     "metadata": {},
     "output_type": "execute_result"
    }
   ],
   "source": [
    "var22=\"var1\"\n",
    "var22.isidentifier()"
   ]
  },
  {
   "cell_type": "code",
   "execution_count": 111,
   "id": "cd79774a",
   "metadata": {},
   "outputs": [
    {
     "data": {
      "text/plain": [
       "True"
      ]
     },
     "execution_count": 111,
     "metadata": {},
     "output_type": "execute_result"
    }
   ],
   "source": [
    "var22=\"var1_\"\n",
    "var22.isidentifier()"
   ]
  },
  {
   "cell_type": "code",
   "execution_count": 112,
   "id": "fe2d127a",
   "metadata": {},
   "outputs": [
    {
     "data": {
      "text/plain": [
       "True"
      ]
     },
     "execution_count": 112,
     "metadata": {},
     "output_type": "execute_result"
    }
   ],
   "source": [
    "var22=\"_var1\"\n",
    "var22.isidentifier()"
   ]
  },
  {
   "cell_type": "code",
   "execution_count": 113,
   "id": "34379e6f",
   "metadata": {},
   "outputs": [
    {
     "data": {
      "text/plain": [
       "False"
      ]
     },
     "execution_count": 113,
     "metadata": {},
     "output_type": "execute_result"
    }
   ],
   "source": [
    "var22=\"1_var1\"\n",
    "var22.isidentifier()"
   ]
  },
  {
   "cell_type": "code",
   "execution_count": 114,
   "id": "023a58c6",
   "metadata": {},
   "outputs": [
    {
     "data": {
      "text/plain": [
       "False"
      ]
     },
     "execution_count": 114,
     "metadata": {},
     "output_type": "execute_result"
    }
   ],
   "source": [
    "var22=\"var1 \"\n",
    "var22.isidentifier()"
   ]
  },
  {
   "cell_type": "code",
   "execution_count": 115,
   "id": "c4984c98",
   "metadata": {},
   "outputs": [],
   "source": [
    "#format() method\n",
    "\n"
   ]
  },
  {
   "cell_type": "code",
   "execution_count": 116,
   "id": "5626e9d1",
   "metadata": {},
   "outputs": [
    {
     "data": {
      "text/plain": [
       "'my name is vijay my age is 55'"
      ]
     },
     "execution_count": 116,
     "metadata": {},
     "output_type": "execute_result"
    }
   ],
   "source": [
    "name=\"vijay\"\n",
    "age=55\n",
    "\n",
    "\"my name is {} my age is {}\".format(name,age)"
   ]
  },
  {
   "cell_type": "code",
   "execution_count": 117,
   "id": "17e53cf1",
   "metadata": {},
   "outputs": [
    {
     "data": {
      "text/plain": [
       "'my name is virat my age is 33 my height is 5.1 my weight is 70 my gender is male'"
      ]
     },
     "execution_count": 117,
     "metadata": {},
     "output_type": "execute_result"
    }
   ],
   "source": [
    "name=\"virat\"\n",
    "age=33\n",
    "height=5.10\n",
    "weight=70\n",
    "gender=\"male\"\n",
    "\n",
    "\"my name is {} my age is {} my height is {} my weight is {} my gender is {}\".format(name,age,height,weight,gender)"
   ]
  },
  {
   "cell_type": "code",
   "execution_count": 118,
   "id": "3645d195",
   "metadata": {},
   "outputs": [
    {
     "data": {
      "text/plain": [
       "'my name is virat my age is 33 my height is 5.1 my weight is 70 my gender is male'"
      ]
     },
     "execution_count": 118,
     "metadata": {},
     "output_type": "execute_result"
    }
   ],
   "source": [
    "name=\"virat\"\n",
    "age=33\n",
    "height=5.10\n",
    "weight=70\n",
    "gender=\"male\"\n",
    "\n",
    "bio=\"my name is {} my age is {} my height is {} my weight is {} my gender is {}\"\n",
    "bio.format(name,age,height,weight,gender)"
   ]
  },
  {
   "cell_type": "code",
   "execution_count": 119,
   "id": "d1cad786",
   "metadata": {},
   "outputs": [],
   "source": [
    "#string()\n"
   ]
  },
  {
   "cell_type": "code",
   "execution_count": 120,
   "id": "520f3af8",
   "metadata": {},
   "outputs": [],
   "source": [
    "#escape characte\n"
   ]
  },
  {
   "cell_type": "code",
   "execution_count": 121,
   "id": "cd2a1f6e",
   "metadata": {},
   "outputs": [
    {
     "name": "stdout",
     "output_type": "stream",
     "text": [
      "my name is virat\n",
      " my age is 33\n",
      " my height is 5.1\n",
      " my gender is male\n"
     ]
    }
   ],
   "source": [
    "#creat four dynamic variable called as name,age,height,name,gender.\n",
    "\n",
    "name=\"virat\"\n",
    "age=33\n",
    "height=5.10\n",
    "gender=\"male\"\n",
    "\n",
    "bio=\"my name is {}\\n my age is {}\\n my height is {}\\n my gender is {}\"\n",
    "print(bio.format(name,age,height,gender))"
   ]
  },
  {
   "cell_type": "code",
   "execution_count": 122,
   "id": "993a0821",
   "metadata": {},
   "outputs": [
    {
     "name": "stdout",
     "output_type": "stream",
     "text": [
      "what is your name \n",
      "what is your age\n",
      "what is your height\n",
      "what is your gender\n",
      "my name is \n",
      " my age is \n",
      " my height is \n",
      " my gender is \n"
     ]
    }
   ],
   "source": [
    "#creat four dynamic variable called as name,age,height,name,gender.\n",
    "\n",
    "name=input(\"what is your name \")\n",
    "age=input(\"what is your age\")\n",
    "height=input(\"what is your height\")\n",
    "gender=input(\"what is your gender\")\n",
    "\n",
    "bio=\"my name is {}\\n my age is {}\\n my height is {}\\n my gender is {}\"\n",
    "print(bio.format(name,age,height,gender))"
   ]
  },
  {
   "cell_type": "code",
   "execution_count": 1,
   "id": "6cd2035c",
   "metadata": {},
   "outputs": [
    {
     "name": "stdout",
     "output_type": "stream",
     "text": [
      "what is your name Virat\n",
      "what is your age33\n",
      "what is your height175\n",
      "what is your gendermale\n",
      "my name is Virat\n",
      " my age is 33\n",
      " my height is 175\n",
      " my gender is male\n"
     ]
    }
   ],
   "source": [
    "#creat four dynamic variable called as name,age,height,name,gender.\n",
    "\n",
    "name=input(\"what is your name \")\n",
    "age=input(\"what is your age\")\n",
    "height=input(\"what is your height\")\n",
    "gender=input(\"what is your gender\")\n",
    "\n",
    "bio=\"my name is {}\\n my age is {}\\n my height is {}\\n my gender is {}\"\n",
    "print(bio.format(name,age,height,gender))"
   ]
  },
  {
   "cell_type": "code",
   "execution_count": null,
   "id": "91aec458",
   "metadata": {},
   "outputs": [],
   "source": []
  }
 ],
 "metadata": {
  "kernelspec": {
   "display_name": "Python 3 (ipykernel)",
   "language": "python",
   "name": "python3"
  },
  "language_info": {
   "codemirror_mode": {
    "name": "ipython",
    "version": 3
   },
   "file_extension": ".py",
   "mimetype": "text/x-python",
   "name": "python",
   "nbconvert_exporter": "python",
   "pygments_lexer": "ipython3",
   "version": "3.9.12"
  }
 },
 "nbformat": 4,
 "nbformat_minor": 5
}

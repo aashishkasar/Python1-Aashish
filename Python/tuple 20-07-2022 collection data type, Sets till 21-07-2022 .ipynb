{
 "cells": [
  {
   "cell_type": "code",
   "execution_count": 1,
   "id": "923f0264",
   "metadata": {},
   "outputs": [],
   "source": [
    "#tuple"
   ]
  },
  {
   "cell_type": "code",
   "execution_count": 2,
   "id": "5c541059",
   "metadata": {},
   "outputs": [],
   "source": [
    "x=(1,2,3,4,\"a\",\"b\")"
   ]
  },
  {
   "cell_type": "code",
   "execution_count": 4,
   "id": "3859b062",
   "metadata": {},
   "outputs": [
    {
     "data": {
      "text/plain": [
       "tuple"
      ]
     },
     "execution_count": 4,
     "metadata": {},
     "output_type": "execute_result"
    }
   ],
   "source": [
    "type(x)"
   ]
  },
  {
   "cell_type": "code",
   "execution_count": 5,
   "id": "47f8b0c1",
   "metadata": {},
   "outputs": [],
   "source": [
    "#collection data type\n",
    "#Sets"
   ]
  },
  {
   "cell_type": "code",
   "execution_count": 6,
   "id": "740db15b",
   "metadata": {},
   "outputs": [],
   "source": [
    "l=[1,2,1,2,1,3,4,5,6,1,8,9]"
   ]
  },
  {
   "cell_type": "code",
   "execution_count": 8,
   "id": "203c1cfd",
   "metadata": {},
   "outputs": [
    {
     "data": {
      "text/plain": [
       "[1, 2, 3, 4, 5, 6, 8, 9]"
      ]
     },
     "execution_count": 8,
     "metadata": {},
     "output_type": "execute_result"
    }
   ],
   "source": [
    "list(set(l))"
   ]
  },
  {
   "cell_type": "code",
   "execution_count": 9,
   "id": "ef67689e",
   "metadata": {},
   "outputs": [],
   "source": [
    "x=\"abcabcdeffde\""
   ]
  },
  {
   "cell_type": "code",
   "execution_count": 10,
   "id": "292664bc",
   "metadata": {},
   "outputs": [
    {
     "data": {
      "text/plain": [
       "{'a', 'b', 'c', 'd', 'e', 'f'}"
      ]
     },
     "execution_count": 10,
     "metadata": {},
     "output_type": "execute_result"
    }
   ],
   "source": [
    "set(x)"
   ]
  },
  {
   "cell_type": "code",
   "execution_count": 12,
   "id": "086cd92b",
   "metadata": {},
   "outputs": [],
   "source": [
    "y=[]"
   ]
  },
  {
   "cell_type": "code",
   "execution_count": 13,
   "id": "f8567d50",
   "metadata": {},
   "outputs": [],
   "source": [
    "y.extend(x)"
   ]
  },
  {
   "cell_type": "code",
   "execution_count": 14,
   "id": "a16307e8",
   "metadata": {},
   "outputs": [
    {
     "data": {
      "text/plain": [
       "{'a', 'b', 'c', 'd', 'e', 'f'}"
      ]
     },
     "execution_count": 14,
     "metadata": {},
     "output_type": "execute_result"
    }
   ],
   "source": [
    "set(y)"
   ]
  },
  {
   "cell_type": "code",
   "execution_count": 15,
   "id": "c7224387",
   "metadata": {},
   "outputs": [],
   "source": [
    "\n",
    "\n",
    "# join()----string method"
   ]
  },
  {
   "cell_type": "code",
   "execution_count": 16,
   "id": "abfd4fbe",
   "metadata": {},
   "outputs": [],
   "source": [
    "x=[\"a\",\"b\",\"c\"]"
   ]
  },
  {
   "cell_type": "code",
   "execution_count": 18,
   "id": "6bf99dc5",
   "metadata": {},
   "outputs": [
    {
     "data": {
      "text/plain": [
       "'a b c'"
      ]
     },
     "execution_count": 18,
     "metadata": {},
     "output_type": "execute_result"
    }
   ],
   "source": [
    "\" \".join(x)"
   ]
  },
  {
   "cell_type": "code",
   "execution_count": 19,
   "id": "5b058c7a",
   "metadata": {},
   "outputs": [],
   "source": [
    "x=[\"java\",\"python\",\"c++\"]"
   ]
  },
  {
   "cell_type": "code",
   "execution_count": 20,
   "id": "1afaeb48",
   "metadata": {},
   "outputs": [
    {
     "data": {
      "text/plain": [
       "'javapythonc++'"
      ]
     },
     "execution_count": 20,
     "metadata": {},
     "output_type": "execute_result"
    }
   ],
   "source": [
    "\"\".join(x)"
   ]
  },
  {
   "cell_type": "code",
   "execution_count": 21,
   "id": "727243b2",
   "metadata": {},
   "outputs": [],
   "source": [
    "y={\"java\",\"python\",\"c++\"}"
   ]
  },
  {
   "cell_type": "code",
   "execution_count": 22,
   "id": "df91f286",
   "metadata": {},
   "outputs": [
    {
     "data": {
      "text/plain": [
       "'javapythonc++'"
      ]
     },
     "execution_count": 22,
     "metadata": {},
     "output_type": "execute_result"
    }
   ],
   "source": [
    "\"\".join(x)"
   ]
  },
  {
   "cell_type": "code",
   "execution_count": null,
   "id": "12e06e7e",
   "metadata": {},
   "outputs": [],
   "source": []
  },
  {
   "cell_type": "code",
   "execution_count": 2,
   "id": "75583ed2",
   "metadata": {},
   "outputs": [],
   "source": [
    "#add()--- 21-07-2022\n"
   ]
  },
  {
   "cell_type": "code",
   "execution_count": 3,
   "id": "d52e1c4c",
   "metadata": {},
   "outputs": [],
   "source": [
    "x={1,2,3,4}"
   ]
  },
  {
   "cell_type": "code",
   "execution_count": 4,
   "id": "be162d3b",
   "metadata": {},
   "outputs": [],
   "source": [
    "x.add(\"abcd\")"
   ]
  },
  {
   "cell_type": "code",
   "execution_count": 5,
   "id": "036ca377",
   "metadata": {},
   "outputs": [
    {
     "data": {
      "text/plain": [
       "{1, 2, 3, 4, 'abcd'}"
      ]
     },
     "execution_count": 5,
     "metadata": {},
     "output_type": "execute_result"
    }
   ],
   "source": [
    "x"
   ]
  },
  {
   "cell_type": "code",
   "execution_count": 6,
   "id": "9609a6f9",
   "metadata": {},
   "outputs": [],
   "source": [
    "#update()\n"
   ]
  },
  {
   "cell_type": "code",
   "execution_count": 7,
   "id": "b31cae6f",
   "metadata": {},
   "outputs": [],
   "source": [
    "x={1,2}"
   ]
  },
  {
   "cell_type": "code",
   "execution_count": 8,
   "id": "ece30176",
   "metadata": {},
   "outputs": [],
   "source": [
    "x.update([3,4,5,6])"
   ]
  },
  {
   "cell_type": "code",
   "execution_count": 9,
   "id": "b4e7d30b",
   "metadata": {},
   "outputs": [
    {
     "data": {
      "text/plain": [
       "{1, 2, 3, 4, 5, 6}"
      ]
     },
     "execution_count": 9,
     "metadata": {},
     "output_type": "execute_result"
    }
   ],
   "source": [
    "x"
   ]
  },
  {
   "cell_type": "code",
   "execution_count": 10,
   "id": "06ba7fe8",
   "metadata": {},
   "outputs": [],
   "source": [
    "x.update({13,14,15,16})"
   ]
  },
  {
   "cell_type": "code",
   "execution_count": 12,
   "id": "d80f40d3",
   "metadata": {},
   "outputs": [
    {
     "data": {
      "text/plain": [
       "{1, 2, 3, 4, 5, 6, 13, 14, 15, 16}"
      ]
     },
     "execution_count": 12,
     "metadata": {},
     "output_type": "execute_result"
    }
   ],
   "source": [
    "x"
   ]
  },
  {
   "cell_type": "code",
   "execution_count": 13,
   "id": "60b321cb",
   "metadata": {},
   "outputs": [],
   "source": [
    "x.update(\"abcdef\")"
   ]
  },
  {
   "cell_type": "code",
   "execution_count": 14,
   "id": "e78a11b6",
   "metadata": {},
   "outputs": [
    {
     "data": {
      "text/plain": [
       "{1, 13, 14, 15, 16, 2, 3, 4, 5, 6, 'a', 'b', 'c', 'd', 'e', 'f'}"
      ]
     },
     "execution_count": 14,
     "metadata": {},
     "output_type": "execute_result"
    }
   ],
   "source": [
    "x"
   ]
  },
  {
   "cell_type": "code",
   "execution_count": 15,
   "id": "7fe66298",
   "metadata": {},
   "outputs": [],
   "source": [
    "#remove()"
   ]
  },
  {
   "cell_type": "code",
   "execution_count": 16,
   "id": "d6f8acc2",
   "metadata": {},
   "outputs": [
    {
     "data": {
      "text/plain": [
       "{1, 13, 14, 15, 16, 2, 3, 4, 5, 6, 'a', 'b', 'c', 'd', 'e', 'f'}"
      ]
     },
     "execution_count": 16,
     "metadata": {},
     "output_type": "execute_result"
    }
   ],
   "source": [
    "x"
   ]
  },
  {
   "cell_type": "code",
   "execution_count": 17,
   "id": "f2129395",
   "metadata": {},
   "outputs": [],
   "source": [
    "x.remove(\"b\")"
   ]
  },
  {
   "cell_type": "code",
   "execution_count": 18,
   "id": "979cda84",
   "metadata": {},
   "outputs": [
    {
     "data": {
      "text/plain": [
       "{1, 13, 14, 15, 16, 2, 3, 4, 5, 6, 'a', 'c', 'd', 'e', 'f'}"
      ]
     },
     "execution_count": 18,
     "metadata": {},
     "output_type": "execute_result"
    }
   ],
   "source": [
    "x"
   ]
  },
  {
   "cell_type": "code",
   "execution_count": 19,
   "id": "810a88e9",
   "metadata": {},
   "outputs": [],
   "source": [
    "#update multiple value\n",
    "# update()"
   ]
  },
  {
   "cell_type": "code",
   "execution_count": 2,
   "id": "f0bc66f6",
   "metadata": {},
   "outputs": [
    {
     "ename": "NameError",
     "evalue": "name 'x' is not defined",
     "output_type": "error",
     "traceback": [
      "\u001b[1;31m---------------------------------------------------------------------------\u001b[0m",
      "\u001b[1;31mNameError\u001b[0m                                 Traceback (most recent call last)",
      "Input \u001b[1;32mIn [2]\u001b[0m, in \u001b[0;36m<cell line: 1>\u001b[1;34m()\u001b[0m\n\u001b[1;32m----> 1\u001b[0m \u001b[43mx\u001b[49m\u001b[38;5;241m.\u001b[39mupdate()\n",
      "\u001b[1;31mNameError\u001b[0m: name 'x' is not defined"
     ]
    }
   ],
   "source": [
    "x.update()"
   ]
  },
  {
   "cell_type": "code",
   "execution_count": null,
   "id": "1757ed10",
   "metadata": {},
   "outputs": [],
   "source": []
  }
 ],
 "metadata": {
  "kernelspec": {
   "display_name": "Python 3 (ipykernel)",
   "language": "python",
   "name": "python3"
  },
  "language_info": {
   "codemirror_mode": {
    "name": "ipython",
    "version": 3
   },
   "file_extension": ".py",
   "mimetype": "text/x-python",
   "name": "python",
   "nbconvert_exporter": "python",
   "pygments_lexer": "ipython3",
   "version": "3.9.12"
  }
 },
 "nbformat": 4,
 "nbformat_minor": 5
}

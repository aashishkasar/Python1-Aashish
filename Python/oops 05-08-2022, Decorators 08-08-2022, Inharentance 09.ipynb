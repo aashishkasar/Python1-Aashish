{
 "cells": [
  {
   "cell_type": "markdown",
   "id": "0855119d",
   "metadata": {},
   "source": [
    "## oops"
   ]
  },
  {
   "cell_type": "code",
   "execution_count": 1,
   "id": "3cdd0c8d",
   "metadata": {},
   "outputs": [
    {
     "name": "stdout",
     "output_type": "stream",
     "text": [
      "<class 'int'>\n"
     ]
    }
   ],
   "source": [
    "x=1\n",
    "print(type(x))"
   ]
  },
  {
   "cell_type": "code",
   "execution_count": 2,
   "id": "d0dbf182",
   "metadata": {},
   "outputs": [
    {
     "name": "stdout",
     "output_type": "stream",
     "text": [
      "<class 'float'>\n"
     ]
    }
   ],
   "source": [
    "x=1.1\n",
    "print(type(x))"
   ]
  },
  {
   "cell_type": "code",
   "execution_count": 4,
   "id": "574a4ba4",
   "metadata": {},
   "outputs": [
    {
     "name": "stdout",
     "output_type": "stream",
     "text": [
      "<class 'list'>\n"
     ]
    }
   ],
   "source": [
    "x=[1.1]\n",
    "print(type(x))"
   ]
  },
  {
   "cell_type": "code",
   "execution_count": 5,
   "id": "bc71dc3e",
   "metadata": {},
   "outputs": [
    {
     "name": "stdout",
     "output_type": "stream",
     "text": [
      "<class 'tuple'>\n"
     ]
    }
   ],
   "source": [
    "x=(1,)\n",
    "print(type(x))     #tuple write aftesr char ,"
   ]
  },
  {
   "cell_type": "code",
   "execution_count": 2,
   "id": "14cfa9d4",
   "metadata": {},
   "outputs": [],
   "source": [
    "class HumanBeing:\n",
    "    pass\n",
    "    "
   ]
  },
  {
   "cell_type": "code",
   "execution_count": 3,
   "id": "ed9a77f3",
   "metadata": {},
   "outputs": [
    {
     "data": {
      "text/plain": [
       "__main__.HumanBeing"
      ]
     },
     "execution_count": 3,
     "metadata": {},
     "output_type": "execute_result"
    }
   ],
   "source": [
    "person1=HumanBeing()\n",
    "type(person1)"
   ]
  },
  {
   "cell_type": "code",
   "execution_count": 4,
   "id": "53130a69",
   "metadata": {},
   "outputs": [],
   "source": [
    "person2=HumanBeing()\n",
    "person3=HumanBeing()"
   ]
  },
  {
   "cell_type": "code",
   "execution_count": 7,
   "id": "9e30abca",
   "metadata": {},
   "outputs": [
    {
     "data": {
      "text/plain": [
       "__main__.HumanBeing"
      ]
     },
     "execution_count": 7,
     "metadata": {},
     "output_type": "execute_result"
    }
   ],
   "source": [
    "type(person2)"
   ]
  },
  {
   "cell_type": "code",
   "execution_count": 8,
   "id": "6ce47e76",
   "metadata": {},
   "outputs": [
    {
     "data": {
      "text/plain": [
       "__main__.HumanBeing"
      ]
     },
     "execution_count": 8,
     "metadata": {},
     "output_type": "execute_result"
    }
   ],
   "source": [
    "type(person3)"
   ]
  },
  {
   "cell_type": "code",
   "execution_count": null,
   "id": "d978a256",
   "metadata": {},
   "outputs": [],
   "source": []
  },
  {
   "cell_type": "markdown",
   "id": "ac058fa2",
   "metadata": {},
   "source": [
    "## oops 08-08-2022"
   ]
  },
  {
   "cell_type": "code",
   "execution_count": 9,
   "id": "de8d25c6",
   "metadata": {},
   "outputs": [],
   "source": [
    "class HumanBeing:\n",
    "    #attributes--variable\n",
    "    #method--functions\n",
    "    pass\n"
   ]
  },
  {
   "cell_type": "code",
   "execution_count": null,
   "id": "38372ebb",
   "metadata": {},
   "outputs": [],
   "source": [
    "class HumanBeing:"
   ]
  },
  {
   "cell_type": "code",
   "execution_count": 10,
   "id": "1167dd92",
   "metadata": {},
   "outputs": [],
   "source": [
    "person1=HumanBeing()"
   ]
  },
  {
   "cell_type": "code",
   "execution_count": 11,
   "id": "342b53cb",
   "metadata": {},
   "outputs": [
    {
     "data": {
      "text/plain": [
       "__main__.HumanBeing"
      ]
     },
     "execution_count": 11,
     "metadata": {},
     "output_type": "execute_result"
    }
   ],
   "source": [
    "type(person1)"
   ]
  },
  {
   "cell_type": "code",
   "execution_count": 12,
   "id": "a2ca6431",
   "metadata": {},
   "outputs": [],
   "source": [
    "class HumanBeing:\n",
    "    legs=2\n",
    "    ears=2\n",
    "    nose=1\n",
    "    eyes=2"
   ]
  },
  {
   "cell_type": "code",
   "execution_count": 13,
   "id": "c7562bc4",
   "metadata": {},
   "outputs": [],
   "source": [
    "person1=HumanBeing()"
   ]
  },
  {
   "cell_type": "code",
   "execution_count": 15,
   "id": "11cd58e9",
   "metadata": {},
   "outputs": [
    {
     "data": {
      "text/plain": [
       "2"
      ]
     },
     "execution_count": 15,
     "metadata": {},
     "output_type": "execute_result"
    }
   ],
   "source": [
    "person1.legs"
   ]
  },
  {
   "cell_type": "code",
   "execution_count": 16,
   "id": "918588b6",
   "metadata": {},
   "outputs": [
    {
     "data": {
      "text/plain": [
       "2"
      ]
     },
     "execution_count": 16,
     "metadata": {},
     "output_type": "execute_result"
    }
   ],
   "source": [
    "person1.eyes"
   ]
  },
  {
   "cell_type": "code",
   "execution_count": 17,
   "id": "9bc51894",
   "metadata": {},
   "outputs": [],
   "source": [
    "class HumanBeing:\n",
    "    legs=2\n",
    "    ears=2\n",
    "    nose=1\n",
    "    eyes=2\n",
    "    def talk(self):\n",
    "        return (\"i can talk\")"
   ]
  },
  {
   "cell_type": "code",
   "execution_count": 20,
   "id": "b0a62fc9",
   "metadata": {},
   "outputs": [
    {
     "data": {
      "text/plain": [
       "'i can talk'"
      ]
     },
     "execution_count": 20,
     "metadata": {},
     "output_type": "execute_result"
    }
   ],
   "source": [
    "person1=HumanBeing()\n",
    "person1.talk()"
   ]
  },
  {
   "cell_type": "code",
   "execution_count": 21,
   "id": "577cfcfe",
   "metadata": {},
   "outputs": [],
   "source": [
    "class HumanBeing:\n",
    "    def talk(self):\n",
    "        return (\"i can talk\")\n",
    "    def walk(self):\n",
    "        return ('i can walk')"
   ]
  },
  {
   "cell_type": "code",
   "execution_count": 23,
   "id": "e42ae64b",
   "metadata": {},
   "outputs": [],
   "source": [
    "ob1=HumanBeing()"
   ]
  },
  {
   "cell_type": "code",
   "execution_count": 24,
   "id": "30d813f9",
   "metadata": {},
   "outputs": [
    {
     "data": {
      "text/plain": [
       "'i can talk'"
      ]
     },
     "execution_count": 24,
     "metadata": {},
     "output_type": "execute_result"
    }
   ],
   "source": [
    "ob1.talk()"
   ]
  },
  {
   "cell_type": "code",
   "execution_count": 25,
   "id": "7072b4f4",
   "metadata": {},
   "outputs": [
    {
     "data": {
      "text/plain": [
       "'i can walk'"
      ]
     },
     "execution_count": 25,
     "metadata": {},
     "output_type": "execute_result"
    }
   ],
   "source": [
    "ob1.walk()"
   ]
  },
  {
   "cell_type": "code",
   "execution_count": 36,
   "id": "5402b3bc",
   "metadata": {},
   "outputs": [],
   "source": [
    "class HumanBeing:\n",
    "    #constructor\n",
    "    def __init__(self,weight,height):\n",
    "        self.weight=weight\n",
    "        self.height=height"
   ]
  },
  {
   "cell_type": "code",
   "execution_count": 37,
   "id": "738b8d5f",
   "metadata": {},
   "outputs": [],
   "source": [
    "p1=HumanBeing(10,20)"
   ]
  },
  {
   "cell_type": "code",
   "execution_count": 28,
   "id": "5a9171b0",
   "metadata": {},
   "outputs": [
    {
     "data": {
      "text/plain": [
       "10"
      ]
     },
     "execution_count": 28,
     "metadata": {},
     "output_type": "execute_result"
    }
   ],
   "source": []
  },
  {
   "cell_type": "code",
   "execution_count": 38,
   "id": "6083abe8",
   "metadata": {},
   "outputs": [
    {
     "data": {
      "text/plain": [
       "10"
      ]
     },
     "execution_count": 38,
     "metadata": {},
     "output_type": "execute_result"
    }
   ],
   "source": [
    "p1.weight"
   ]
  },
  {
   "cell_type": "code",
   "execution_count": 39,
   "id": "dd4bff3c",
   "metadata": {},
   "outputs": [],
   "source": [
    "p2=HumanBeing(12,30)   "
   ]
  },
  {
   "cell_type": "code",
   "execution_count": 42,
   "id": "0253107b",
   "metadata": {},
   "outputs": [
    {
     "data": {
      "text/plain": [
       "30"
      ]
     },
     "execution_count": 42,
     "metadata": {},
     "output_type": "execute_result"
    }
   ],
   "source": [
    "p2.height"
   ]
  },
  {
   "cell_type": "code",
   "execution_count": 43,
   "id": "10618b80",
   "metadata": {},
   "outputs": [
    {
     "data": {
      "text/plain": [
       "12"
      ]
     },
     "execution_count": 43,
     "metadata": {},
     "output_type": "execute_result"
    }
   ],
   "source": [
    "p2.weight"
   ]
  },
  {
   "cell_type": "code",
   "execution_count": null,
   "id": "cbdcc05c",
   "metadata": {},
   "outputs": [],
   "source": []
  },
  {
   "cell_type": "code",
   "execution_count": 3,
   "id": "13f36e05",
   "metadata": {},
   "outputs": [],
   "source": [
    "class HumanBeign:\n",
    "    #class attrbute\n",
    "    eyes=2\n",
    "    legs=2\n",
    "    nose=1\n",
    "    def __init__(self,color,weight,height,gender):\n",
    "        #intance attribute\n",
    "        self.color=color\n",
    "        self.weight=weight\n",
    "        self.height=height\n",
    "        self.gender=gender"
   ]
  },
  {
   "cell_type": "code",
   "execution_count": 4,
   "id": "bcf52f08",
   "metadata": {},
   "outputs": [],
   "source": [
    "c1=HumanBeign(\"black\",3,12,\"m\")"
   ]
  },
  {
   "cell_type": "code",
   "execution_count": 5,
   "id": "16709ccc",
   "metadata": {},
   "outputs": [
    {
     "data": {
      "text/plain": [
       "2"
      ]
     },
     "execution_count": 5,
     "metadata": {},
     "output_type": "execute_result"
    }
   ],
   "source": [
    "c1.legs"
   ]
  },
  {
   "cell_type": "code",
   "execution_count": 6,
   "id": "67a7d8fe",
   "metadata": {},
   "outputs": [
    {
     "data": {
      "text/plain": [
       "'black'"
      ]
     },
     "execution_count": 6,
     "metadata": {},
     "output_type": "execute_result"
    }
   ],
   "source": [
    "c1.color"
   ]
  },
  {
   "cell_type": "code",
   "execution_count": 11,
   "id": "3119b352",
   "metadata": {},
   "outputs": [
    {
     "data": {
      "text/plain": [
       "2"
      ]
     },
     "execution_count": 11,
     "metadata": {},
     "output_type": "execute_result"
    }
   ],
   "source": [
    "HumanBeign.legs #"
   ]
  },
  {
   "cell_type": "code",
   "execution_count": 7,
   "id": "b70975b9",
   "metadata": {},
   "outputs": [],
   "source": [
    "c2=HumanBeign(\"white\",4,7,\"f\")"
   ]
  },
  {
   "cell_type": "code",
   "execution_count": 9,
   "id": "0482ea53",
   "metadata": {
    "scrolled": true
   },
   "outputs": [
    {
     "data": {
      "text/plain": [
       "7"
      ]
     },
     "execution_count": 9,
     "metadata": {},
     "output_type": "execute_result"
    }
   ],
   "source": [
    "c2.height"
   ]
  },
  {
   "cell_type": "code",
   "execution_count": 10,
   "id": "b3c8b248",
   "metadata": {},
   "outputs": [
    {
     "data": {
      "text/plain": [
       "'f'"
      ]
     },
     "execution_count": 10,
     "metadata": {},
     "output_type": "execute_result"
    }
   ],
   "source": [
    "c2.gender"
   ]
  },
  {
   "cell_type": "code",
   "execution_count": 15,
   "id": "875b5b6c",
   "metadata": {},
   "outputs": [],
   "source": [
    "class HumanBeign:\n",
    "    #class attrbute\n",
    "    eyes=2\n",
    "    legs=2\n",
    "    nose=1\n",
    "    def __init__(self,color,weight,height,gender):\n",
    "        #intance attribute\n",
    "        self.color=color\n",
    "        self.weight=weight\n",
    "        self.height=height\n",
    "        self.gender=gender\n",
    "    def talk(self):\n",
    "        return \"my color is {}, my weight is {},\\\n",
    "        my height is{},gender={}\".\\\n",
    "    format(self.color,self.weight,self.height,self.gender)"
   ]
  },
  {
   "cell_type": "code",
   "execution_count": 16,
   "id": "34632bfc",
   "metadata": {},
   "outputs": [],
   "source": [
    "c1=HumanBeign(\"white\",2,15,\"f\")"
   ]
  },
  {
   "cell_type": "code",
   "execution_count": 17,
   "id": "3f5718bf",
   "metadata": {},
   "outputs": [
    {
     "data": {
      "text/plain": [
       "'my color is white, my weight is 2,        my height is15,gender=f'"
      ]
     },
     "execution_count": 17,
     "metadata": {},
     "output_type": "execute_result"
    }
   ],
   "source": [
    "c1.talk()"
   ]
  },
  {
   "cell_type": "code",
   "execution_count": 18,
   "id": "a1c96191",
   "metadata": {},
   "outputs": [],
   "source": [
    "c2=HumanBeign(\"white\",2,\"cm15\",\"f\")"
   ]
  },
  {
   "cell_type": "code",
   "execution_count": 21,
   "id": "f2bac204",
   "metadata": {},
   "outputs": [
    {
     "data": {
      "text/plain": [
       "'my color is white, my weight is 2,        my height iscm15,gender=f'"
      ]
     },
     "execution_count": 21,
     "metadata": {},
     "output_type": "execute_result"
    }
   ],
   "source": [
    "c2.talk()"
   ]
  },
  {
   "cell_type": "code",
   "execution_count": null,
   "id": "0236c2c8",
   "metadata": {},
   "outputs": [],
   "source": []
  },
  {
   "cell_type": "markdown",
   "id": "bcaef085",
   "metadata": {},
   "source": [
    "## Generators"
   ]
  },
  {
   "cell_type": "code",
   "execution_count": 20,
   "id": "8ab28a5b",
   "metadata": {},
   "outputs": [],
   "source": [
    "def f1():\n",
    "    yield 10\n",
    "    yield 20\n",
    "    yield 30"
   ]
  },
  {
   "cell_type": "code",
   "execution_count": 21,
   "id": "3ec7170d",
   "metadata": {},
   "outputs": [],
   "source": [
    "x=f1()"
   ]
  },
  {
   "cell_type": "code",
   "execution_count": 22,
   "id": "6fbfcd87",
   "metadata": {},
   "outputs": [
    {
     "name": "stdout",
     "output_type": "stream",
     "text": [
      "10\n",
      "20\n",
      "30\n"
     ]
    }
   ],
   "source": [
    "for y in x:\n",
    "    print(y)"
   ]
  },
  {
   "cell_type": "code",
   "execution_count": 35,
   "id": "8be6320e",
   "metadata": {},
   "outputs": [],
   "source": [
    "x=f1()"
   ]
  },
  {
   "cell_type": "code",
   "execution_count": 36,
   "id": "a56d585a",
   "metadata": {},
   "outputs": [
    {
     "data": {
      "text/plain": [
       "10"
      ]
     },
     "execution_count": 36,
     "metadata": {},
     "output_type": "execute_result"
    }
   ],
   "source": [
    "next(x)"
   ]
  },
  {
   "cell_type": "code",
   "execution_count": 37,
   "id": "7b57a9f9",
   "metadata": {},
   "outputs": [
    {
     "data": {
      "text/plain": [
       "20"
      ]
     },
     "execution_count": 37,
     "metadata": {},
     "output_type": "execute_result"
    }
   ],
   "source": [
    "next(x)"
   ]
  },
  {
   "cell_type": "code",
   "execution_count": 38,
   "id": "63a4f4c4",
   "metadata": {},
   "outputs": [
    {
     "data": {
      "text/plain": [
       "30"
      ]
     },
     "execution_count": 38,
     "metadata": {},
     "output_type": "execute_result"
    }
   ],
   "source": [
    "next(x)"
   ]
  },
  {
   "cell_type": "code",
   "execution_count": 39,
   "id": "e6e163d9",
   "metadata": {},
   "outputs": [
    {
     "ename": "StopIteration",
     "evalue": "",
     "output_type": "error",
     "traceback": [
      "\u001b[1;31m---------------------------------------------------------------------------\u001b[0m",
      "\u001b[1;31mStopIteration\u001b[0m                             Traceback (most recent call last)",
      "Input \u001b[1;32mIn [39]\u001b[0m, in \u001b[0;36m<cell line: 1>\u001b[1;34m()\u001b[0m\n\u001b[1;32m----> 1\u001b[0m \u001b[38;5;28;43mnext\u001b[39;49m\u001b[43m(\u001b[49m\u001b[43mx\u001b[49m\u001b[43m)\u001b[49m\n",
      "\u001b[1;31mStopIteration\u001b[0m: "
     ]
    }
   ],
   "source": [
    "next(x)"
   ]
  },
  {
   "cell_type": "markdown",
   "id": "112642e5",
   "metadata": {},
   "source": [
    "## Decorators"
   ]
  },
  {
   "cell_type": "code",
   "execution_count": 44,
   "id": "a1fe2da8",
   "metadata": {},
   "outputs": [],
   "source": [
    "\n",
    "def f1():\n",
    "    print(\"welcome\")\n",
    "    print(\"bye\")"
   ]
  },
  {
   "cell_type": "code",
   "execution_count": 45,
   "id": "42ed54a3",
   "metadata": {},
   "outputs": [],
   "source": [
    "#decprators\n",
    "def d(function):\n",
    "    def wrapper():\n",
    "        print(\"hi\")\n",
    "        function()\n",
    "    return wrapper"
   ]
  },
  {
   "cell_type": "code",
   "execution_count": 46,
   "id": "e72490b0",
   "metadata": {},
   "outputs": [],
   "source": [
    "x=d(f1)"
   ]
  },
  {
   "cell_type": "code",
   "execution_count": 47,
   "id": "e93199d6",
   "metadata": {},
   "outputs": [
    {
     "name": "stdout",
     "output_type": "stream",
     "text": [
      "hi\n",
      "welcome\n",
      "bye\n"
     ]
    }
   ],
   "source": [
    "x()"
   ]
  },
  {
   "cell_type": "code",
   "execution_count": 48,
   "id": "21b0ffbb",
   "metadata": {},
   "outputs": [],
   "source": [
    "#decprators\n",
    "def d(function):\n",
    "    def wrapper():\n",
    "        function()\n",
    "        print(\"hi\")\n",
    "    return wrapper"
   ]
  },
  {
   "cell_type": "code",
   "execution_count": 49,
   "id": "bc6032aa",
   "metadata": {},
   "outputs": [],
   "source": [
    "x=d(f1)"
   ]
  },
  {
   "cell_type": "code",
   "execution_count": 50,
   "id": "abad7934",
   "metadata": {},
   "outputs": [
    {
     "name": "stdout",
     "output_type": "stream",
     "text": [
      "welcome\n",
      "bye\n",
      "hi\n"
     ]
    }
   ],
   "source": [
    "x()"
   ]
  },
  {
   "cell_type": "code",
   "execution_count": 51,
   "id": "7d9ee4cc",
   "metadata": {},
   "outputs": [],
   "source": [
    "@d\n",
    "def f1():\n",
    "    print(\"welcome\")\n",
    "    print(\"bye\")"
   ]
  },
  {
   "cell_type": "code",
   "execution_count": 52,
   "id": "50622ee5",
   "metadata": {},
   "outputs": [
    {
     "name": "stdout",
     "output_type": "stream",
     "text": [
      "welcome\n",
      "bye\n",
      "hi\n"
     ]
    }
   ],
   "source": [
    "f1()"
   ]
  },
  {
   "cell_type": "code",
   "execution_count": 53,
   "id": "2f0558ab",
   "metadata": {},
   "outputs": [],
   "source": [
    "@d\n",
    "def f2():\n",
    "    print(\"java\")"
   ]
  },
  {
   "cell_type": "code",
   "execution_count": 54,
   "id": "0ec68c43",
   "metadata": {},
   "outputs": [
    {
     "name": "stdout",
     "output_type": "stream",
     "text": [
      "java\n",
      "hi\n"
     ]
    }
   ],
   "source": [
    "f2()"
   ]
  },
  {
   "cell_type": "markdown",
   "id": "8f848e89",
   "metadata": {},
   "source": [
    "## Program run timing"
   ]
  },
  {
   "cell_type": "code",
   "execution_count": 8,
   "id": "5f6859f9",
   "metadata": {},
   "outputs": [
    {
     "data": {
      "text/plain": [
       "1659958759.375445"
      ]
     },
     "execution_count": 8,
     "metadata": {},
     "output_type": "execute_result"
    }
   ],
   "source": [
    "import time\n",
    "time.time()"
   ]
  },
  {
   "cell_type": "code",
   "execution_count": 9,
   "id": "bfeefe7c",
   "metadata": {},
   "outputs": [],
   "source": [
    "def f1():\n",
    "    x=[]\n",
    "    for y in range(1,100):\n",
    "        x.append(y)\n",
    "    return x  "
   ]
  },
  {
   "cell_type": "code",
   "execution_count": 10,
   "id": "bf03b939",
   "metadata": {},
   "outputs": [],
   "source": [
    "def d(function):\n",
    "    def wrapper():\n",
    "        x=time.time()\n",
    "        function()\n",
    "        y=time.time()\n",
    "        return y-x\n",
    "    return wrapper"
   ]
  },
  {
   "cell_type": "code",
   "execution_count": 11,
   "id": "90da00c5",
   "metadata": {},
   "outputs": [],
   "source": [
    "@d\n",
    "def f1():\n",
    "    x=[]\n",
    "    for y in range(1,10000000):\n",
    "        x.append(y)\n",
    "    return"
   ]
  },
  {
   "cell_type": "code",
   "execution_count": 12,
   "id": "9fbacd22",
   "metadata": {},
   "outputs": [
    {
     "data": {
      "text/plain": [
       "0.7238113880157471"
      ]
     },
     "execution_count": 12,
     "metadata": {},
     "output_type": "execute_result"
    }
   ],
   "source": [
    "f1()"
   ]
  },
  {
   "cell_type": "code",
   "execution_count": null,
   "id": "576465b1",
   "metadata": {},
   "outputs": [],
   "source": []
  },
  {
   "cell_type": "markdown",
   "id": "77a2b6ca",
   "metadata": {},
   "source": [
    "## Inheritance 09-08-2022"
   ]
  },
  {
   "cell_type": "code",
   "execution_count": 1,
   "id": "f7a7f762",
   "metadata": {},
   "outputs": [],
   "source": [
    "#Two types\n",
    "#1)multilevel inheritance\n",
    "#2)multiple Inheritance"
   ]
  },
  {
   "cell_type": "code",
   "execution_count": 49,
   "id": "fe7df980",
   "metadata": {},
   "outputs": [],
   "source": [
    "class LivingThings:\n",
    "    def breath(self):\n",
    "        return \"we all can breath\"\n",
    "class HumanBeing(LivingThings):       #living things parent class #\n",
    "    pass\n",
    "class Animal(LivingThings):\n",
    "    pass\n",
    "class Plants(LivingThings):\n",
    "    pass\n",
    "class Birds(LivingThings):\n",
    "    pass"
   ]
  },
  {
   "cell_type": "code",
   "execution_count": 50,
   "id": "1421df62",
   "metadata": {},
   "outputs": [],
   "source": [
    "p1=Plants()"
   ]
  },
  {
   "cell_type": "code",
   "execution_count": 51,
   "id": "eabb74d8",
   "metadata": {},
   "outputs": [
    {
     "data": {
      "text/plain": [
       "'we all can breath'"
      ]
     },
     "execution_count": 51,
     "metadata": {},
     "output_type": "execute_result"
    }
   ],
   "source": [
    "p1.breath()"
   ]
  },
  {
   "cell_type": "code",
   "execution_count": 52,
   "id": "01913251",
   "metadata": {},
   "outputs": [],
   "source": [
    "p2=Birds()"
   ]
  },
  {
   "cell_type": "code",
   "execution_count": 53,
   "id": "f398a474",
   "metadata": {},
   "outputs": [
    {
     "data": {
      "text/plain": [
       "'we all can breath'"
      ]
     },
     "execution_count": 53,
     "metadata": {},
     "output_type": "execute_result"
    }
   ],
   "source": [
    "p2.breath()"
   ]
  },
  {
   "cell_type": "code",
   "execution_count": null,
   "id": "0e722589",
   "metadata": {},
   "outputs": [],
   "source": []
  },
  {
   "cell_type": "markdown",
   "id": "6937c165",
   "metadata": {},
   "source": [
    "## Multiple class:"
   ]
  },
  {
   "cell_type": "code",
   "execution_count": 38,
   "id": "88cca89f",
   "metadata": {},
   "outputs": [],
   "source": [
    "class AB1():\n",
    "    def breath(self):\n",
    "        return \"we all an breath\"\n",
    "class AB2():\n",
    "    def swim(self):\n",
    "        return \"we all can swim\"\n",
    "class ab(AB1,AB2):\n",
    "    pass"
   ]
  },
  {
   "cell_type": "code",
   "execution_count": 39,
   "id": "b8643592",
   "metadata": {},
   "outputs": [],
   "source": [
    "o=ab()"
   ]
  },
  {
   "cell_type": "code",
   "execution_count": 40,
   "id": "d3be5c1d",
   "metadata": {},
   "outputs": [
    {
     "data": {
      "text/plain": [
       "'we all an breath'"
      ]
     },
     "execution_count": 40,
     "metadata": {},
     "output_type": "execute_result"
    }
   ],
   "source": [
    "o.breath()"
   ]
  },
  {
   "cell_type": "code",
   "execution_count": 41,
   "id": "e03dad64",
   "metadata": {},
   "outputs": [
    {
     "data": {
      "text/plain": [
       "'we all can swim'"
      ]
     },
     "execution_count": 41,
     "metadata": {},
     "output_type": "execute_result"
    }
   ],
   "source": [
    "o.swim()"
   ]
  },
  {
   "cell_type": "code",
   "execution_count": null,
   "id": "b0280548",
   "metadata": {},
   "outputs": [],
   "source": []
  },
  {
   "cell_type": "code",
   "execution_count": 43,
   "id": "f3e046d3",
   "metadata": {},
   "outputs": [],
   "source": [
    "class AB1():\n",
    "    def breath(self):\n",
    "        return \"we all can breath\"\n",
    "class AB2():\n",
    "    def Swim(self):\n",
    "        return \"we all can swimming\"\n",
    "class AB3():\n",
    "    def swim(self):\n",
    "        return \"we all can swim\"\n",
    "class ab(AB1,AB2,AB3):      #multiple class\n",
    "    pass"
   ]
  },
  {
   "cell_type": "code",
   "execution_count": 44,
   "id": "04b92640",
   "metadata": {},
   "outputs": [],
   "source": [
    "o=ab()"
   ]
  },
  {
   "cell_type": "code",
   "execution_count": 48,
   "id": "fb813032",
   "metadata": {},
   "outputs": [
    {
     "data": {
      "text/plain": [
       "'we all can breath'"
      ]
     },
     "execution_count": 48,
     "metadata": {},
     "output_type": "execute_result"
    }
   ],
   "source": [
    "o.breath()"
   ]
  },
  {
   "cell_type": "code",
   "execution_count": 54,
   "id": "87383fc4",
   "metadata": {},
   "outputs": [
    {
     "data": {
      "text/plain": [
       "'we all can swim'"
      ]
     },
     "execution_count": 54,
     "metadata": {},
     "output_type": "execute_result"
    }
   ],
   "source": [
    "o.swim()"
   ]
  },
  {
   "cell_type": "code",
   "execution_count": null,
   "id": "4c338fe0",
   "metadata": {},
   "outputs": [],
   "source": []
  },
  {
   "cell_type": "markdown",
   "id": "6a1efaa2",
   "metadata": {},
   "source": [
    "## Multilevel Inheritance"
   ]
  },
  {
   "cell_type": "code",
   "execution_count": 56,
   "id": "01a02228",
   "metadata": {},
   "outputs": [],
   "source": [
    "class AB1:\n",
    "    def breath(self):\n",
    "        return \"we all can breath\"\n",
    "class AB2(AB1):\n",
    "    def swim(self):\n",
    "        return \"we all can swimming\"\n",
    "class AB3(AB2):\n",
    "    def run(self):\n",
    "        return \"we all can run\"\n",
    "class AB4(AB3): #----------------------------------multilevel inheritance\n",
    "    def walk(self):\n",
    "        return \"we all can walk\""
   ]
  },
  {
   "cell_type": "code",
   "execution_count": 57,
   "id": "1ac437ea",
   "metadata": {},
   "outputs": [],
   "source": [
    "o=AB4()"
   ]
  },
  {
   "cell_type": "code",
   "execution_count": 58,
   "id": "8813a3c0",
   "metadata": {},
   "outputs": [
    {
     "data": {
      "text/plain": [
       "'we all can walk'"
      ]
     },
     "execution_count": 58,
     "metadata": {},
     "output_type": "execute_result"
    }
   ],
   "source": [
    "o.walk()"
   ]
  },
  {
   "cell_type": "code",
   "execution_count": 59,
   "id": "a0511682",
   "metadata": {},
   "outputs": [
    {
     "data": {
      "text/plain": [
       "'we all can swimming'"
      ]
     },
     "execution_count": 59,
     "metadata": {},
     "output_type": "execute_result"
    }
   ],
   "source": [
    "o.swim()"
   ]
  },
  {
   "cell_type": "code",
   "execution_count": 60,
   "id": "8c119876",
   "metadata": {},
   "outputs": [
    {
     "data": {
      "text/plain": [
       "'we all can breath'"
      ]
     },
     "execution_count": 60,
     "metadata": {},
     "output_type": "execute_result"
    }
   ],
   "source": [
    "o.breath()"
   ]
  },
  {
   "cell_type": "code",
   "execution_count": 61,
   "id": "6cbb90e4",
   "metadata": {},
   "outputs": [
    {
     "data": {
      "text/plain": [
       "'we all can run'"
      ]
     },
     "execution_count": 61,
     "metadata": {},
     "output_type": "execute_result"
    }
   ],
   "source": [
    "o.run()"
   ]
  },
  {
   "cell_type": "code",
   "execution_count": null,
   "id": "b04d9992",
   "metadata": {},
   "outputs": [],
   "source": []
  },
  {
   "cell_type": "markdown",
   "id": "f5009a52",
   "metadata": {},
   "source": [
    "## Method Overloading"
   ]
  },
  {
   "cell_type": "code",
   "execution_count": 2,
   "id": "2dfac32b",
   "metadata": {},
   "outputs": [],
   "source": [
    "class HB:\n",
    "    def __init__(self,x):\n",
    "        self.x=10\n",
    "        def M1(self):\n",
    "            print(self.x)"
   ]
  },
  {
   "cell_type": "code",
   "execution_count": 3,
   "id": "35483fec",
   "metadata": {},
   "outputs": [],
   "source": [
    "class HB1(HB):\n",
    "    def __init__ (self,y):\n",
    "        self.y=20\n",
    "    def M1(self):\n",
    "        print(self.y)"
   ]
  },
  {
   "cell_type": "code",
   "execution_count": 4,
   "id": "6df93200",
   "metadata": {},
   "outputs": [],
   "source": [
    "ob=HB1(10)"
   ]
  },
  {
   "cell_type": "code",
   "execution_count": 8,
   "id": "e6aced34",
   "metadata": {},
   "outputs": [
    {
     "data": {
      "text/plain": [
       "20"
      ]
     },
     "execution_count": 8,
     "metadata": {},
     "output_type": "execute_result"
    }
   ],
   "source": [
    "ob.y"
   ]
  },
  {
   "cell_type": "markdown",
   "id": "aaee2e22",
   "metadata": {},
   "source": [
    "## Inerloop"
   ]
  },
  {
   "cell_type": "code",
   "execution_count": 80,
   "id": "56b1101d",
   "metadata": {},
   "outputs": [
    {
     "name": "stdout",
     "output_type": "stream",
     "text": [
      "1 1\n",
      "2 1\n",
      "3 1\n"
     ]
    }
   ],
   "source": [
    "for y in range(1,4):\n",
    "    for z in range(1,2):\n",
    "        print(y,z)"
   ]
  },
  {
   "cell_type": "code",
   "execution_count": 81,
   "id": "38784cfb",
   "metadata": {},
   "outputs": [
    {
     "name": "stdout",
     "output_type": "stream",
     "text": [
      "1 1\n",
      "1 2\n",
      "2 1\n",
      "2 2\n",
      "3 1\n",
      "3 2\n"
     ]
    }
   ],
   "source": [
    "for y in range(1,4):\n",
    "    for z in range(1,3):\n",
    "        print(y,z)"
   ]
  },
  {
   "cell_type": "code",
   "execution_count": 84,
   "id": "7102829d",
   "metadata": {},
   "outputs": [
    {
     "name": "stdout",
     "output_type": "stream",
     "text": [
      "1 1\n",
      "1 2\n",
      "1 3\n",
      "1 4\n",
      "1 5\n",
      "2 1\n",
      "2 2\n",
      "2 3\n",
      "2 4\n",
      "2 5\n",
      "3 1\n",
      "3 2\n",
      "3 3\n",
      "3 4\n",
      "3 5\n"
     ]
    }
   ],
   "source": [
    "for y in range(1,4):\n",
    "    for z in range(1,6):\n",
    "        print(y,z)"
   ]
  },
  {
   "cell_type": "code",
   "execution_count": 85,
   "id": "66be4889",
   "metadata": {},
   "outputs": [
    {
     "name": "stdout",
     "output_type": "stream",
     "text": [
      "a A\n",
      "a B\n",
      "a C\n",
      "a D\n",
      "b A\n",
      "b B\n",
      "b C\n",
      "b D\n",
      "c A\n",
      "c B\n",
      "c C\n",
      "c D\n",
      "d A\n",
      "d B\n",
      "d C\n",
      "d D\n"
     ]
    }
   ],
   "source": [
    "x=\"abcd\"\n",
    "y=\"ABCD\"\n",
    "\n",
    "for w in range(len(x)):\n",
    "    for z in range(len(y)):\n",
    "        print(x[w],y[z])"
   ]
  },
  {
   "cell_type": "markdown",
   "id": "f0117bf4",
   "metadata": {},
   "source": [
    "## method overidding 10-08-2022"
   ]
  },
  {
   "cell_type": "code",
   "execution_count": 11,
   "id": "68a36b73",
   "metadata": {},
   "outputs": [],
   "source": [
    "class HB:\n",
    "    def __init__(self):   #----- parrent class\n",
    "        print(\"Hi\")\n",
    "        self.x=10\n",
    "class HB1(HB):\n",
    "    def __init__(self):  #-----cjild class\n",
    "        self.y=20\n",
    "        print(\"bye\")\n",
    "        super(). __init__()"
   ]
  },
  {
   "cell_type": "code",
   "execution_count": 12,
   "id": "1b441d15",
   "metadata": {},
   "outputs": [
    {
     "name": "stdout",
     "output_type": "stream",
     "text": [
      "bye\n",
      "Hi\n"
     ]
    }
   ],
   "source": [
    "ob=HB1()"
   ]
  },
  {
   "cell_type": "code",
   "execution_count": 13,
   "id": "ef6ae452",
   "metadata": {},
   "outputs": [
    {
     "data": {
      "text/plain": [
       "10"
      ]
     },
     "execution_count": 13,
     "metadata": {},
     "output_type": "execute_result"
    }
   ],
   "source": [
    "ob.x"
   ]
  },
  {
   "cell_type": "code",
   "execution_count": 14,
   "id": "145d09c3",
   "metadata": {},
   "outputs": [
    {
     "data": {
      "text/plain": [
       "20"
      ]
     },
     "execution_count": 14,
     "metadata": {},
     "output_type": "execute_result"
    }
   ],
   "source": [
    "ob.y"
   ]
  },
  {
   "cell_type": "code",
   "execution_count": 15,
   "id": "13993c3f",
   "metadata": {},
   "outputs": [
    {
     "name": "stdout",
     "output_type": "stream",
     "text": [
      "30\n"
     ]
    }
   ],
   "source": [
    "print(ob.y+ob.x)"
   ]
  },
  {
   "cell_type": "code",
   "execution_count": null,
   "id": "5095be15",
   "metadata": {},
   "outputs": [],
   "source": []
  }
 ],
 "metadata": {
  "kernelspec": {
   "display_name": "Python 3 (ipykernel)",
   "language": "python",
   "name": "python3"
  },
  "language_info": {
   "codemirror_mode": {
    "name": "ipython",
    "version": 3
   },
   "file_extension": ".py",
   "mimetype": "text/x-python",
   "name": "python",
   "nbconvert_exporter": "python",
   "pygments_lexer": "ipython3",
   "version": "3.9.13"
  }
 },
 "nbformat": 4,
 "nbformat_minor": 5
}

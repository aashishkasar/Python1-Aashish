{
 "cells": [
  {
   "cell_type": "code",
   "execution_count": 1,
   "id": "de613891",
   "metadata": {},
   "outputs": [],
   "source": [
    "#List\n",
    "\n",
    "x=[1,2,3,4,5,67,8]"
   ]
  },
  {
   "cell_type": "code",
   "execution_count": 2,
   "id": "f8d8ee40",
   "metadata": {},
   "outputs": [
    {
     "data": {
      "text/plain": [
       "list"
      ]
     },
     "execution_count": 2,
     "metadata": {},
     "output_type": "execute_result"
    }
   ],
   "source": [
    "type(x)"
   ]
  },
  {
   "cell_type": "code",
   "execution_count": 3,
   "id": "364f7689",
   "metadata": {},
   "outputs": [],
   "source": [
    "y=list((1,2,3,4,5))"
   ]
  },
  {
   "cell_type": "code",
   "execution_count": 4,
   "id": "f9bb7b64",
   "metadata": {},
   "outputs": [
    {
     "data": {
      "text/plain": [
       "list"
      ]
     },
     "execution_count": 4,
     "metadata": {},
     "output_type": "execute_result"
    }
   ],
   "source": [
    "type(y)"
   ]
  },
  {
   "cell_type": "code",
   "execution_count": 8,
   "id": "8930f565",
   "metadata": {},
   "outputs": [],
   "source": [
    "z=[1,2,3.2,4+4j,5,\"asfsdv\"]"
   ]
  },
  {
   "cell_type": "code",
   "execution_count": 9,
   "id": "6fe5d4e2",
   "metadata": {},
   "outputs": [
    {
     "data": {
      "text/plain": [
       "list"
      ]
     },
     "execution_count": 9,
     "metadata": {},
     "output_type": "execute_result"
    }
   ],
   "source": [
    "type(z)"
   ]
  },
  {
   "cell_type": "code",
   "execution_count": 10,
   "id": "24192723",
   "metadata": {},
   "outputs": [
    {
     "data": {
      "text/plain": [
       "6"
      ]
     },
     "execution_count": 10,
     "metadata": {},
     "output_type": "execute_result"
    }
   ],
   "source": [
    "len(z)"
   ]
  },
  {
   "cell_type": "code",
   "execution_count": 11,
   "id": "2ce044ab",
   "metadata": {},
   "outputs": [
    {
     "data": {
      "text/plain": [
       "'asfsdv'"
      ]
     },
     "execution_count": 11,
     "metadata": {},
     "output_type": "execute_result"
    }
   ],
   "source": [
    "z[-1]"
   ]
  },
  {
   "cell_type": "code",
   "execution_count": 12,
   "id": "70237d59",
   "metadata": {},
   "outputs": [
    {
     "data": {
      "text/plain": [
       "'asfsdv'"
      ]
     },
     "execution_count": 12,
     "metadata": {},
     "output_type": "execute_result"
    }
   ],
   "source": [
    "z[5]"
   ]
  },
  {
   "cell_type": "code",
   "execution_count": 13,
   "id": "463a14f0",
   "metadata": {},
   "outputs": [
    {
     "data": {
      "text/plain": [
       "[3.2, (4+4j), 5]"
      ]
     },
     "execution_count": 13,
     "metadata": {},
     "output_type": "execute_result"
    }
   ],
   "source": [
    "z[2:5]"
   ]
  },
  {
   "cell_type": "code",
   "execution_count": 14,
   "id": "13ba107a",
   "metadata": {},
   "outputs": [],
   "source": [
    "q=[1,1,1,1,1,1,\"ab\",\"ab\"]"
   ]
  },
  {
   "cell_type": "code",
   "execution_count": 15,
   "id": "bdc65093",
   "metadata": {},
   "outputs": [
    {
     "data": {
      "text/plain": [
       "list"
      ]
     },
     "execution_count": 15,
     "metadata": {},
     "output_type": "execute_result"
    }
   ],
   "source": [
    "type(q)"
   ]
  },
  {
   "cell_type": "code",
   "execution_count": 16,
   "id": "40957c47",
   "metadata": {},
   "outputs": [],
   "source": [
    "q=[1,2,3,\"a\",\"b\"]"
   ]
  },
  {
   "cell_type": "code",
   "execution_count": 18,
   "id": "cf529d74",
   "metadata": {},
   "outputs": [],
   "source": [
    "q[0]=100"
   ]
  },
  {
   "cell_type": "code",
   "execution_count": 19,
   "id": "5511fa1c",
   "metadata": {},
   "outputs": [
    {
     "data": {
      "text/plain": [
       "[100, 2, 3, 'a', 'b']"
      ]
     },
     "execution_count": 19,
     "metadata": {},
     "output_type": "execute_result"
    }
   ],
   "source": [
    "q"
   ]
  },
  {
   "cell_type": "code",
   "execution_count": 20,
   "id": "b1fd597f",
   "metadata": {},
   "outputs": [],
   "source": [
    "q[1:3]=200,100"
   ]
  },
  {
   "cell_type": "code",
   "execution_count": 21,
   "id": "4b0ed842",
   "metadata": {},
   "outputs": [
    {
     "data": {
      "text/plain": [
       "[100, 200, 100, 'a', 'b']"
      ]
     },
     "execution_count": 21,
     "metadata": {},
     "output_type": "execute_result"
    }
   ],
   "source": [
    "q"
   ]
  },
  {
   "cell_type": "code",
   "execution_count": 24,
   "id": "a01fe36c",
   "metadata": {},
   "outputs": [],
   "source": [
    "q[-1]=2+1j"
   ]
  },
  {
   "cell_type": "code",
   "execution_count": 23,
   "id": "2db963f5",
   "metadata": {},
   "outputs": [
    {
     "data": {
      "text/plain": [
       "[100, 200, 100, 'a', (2+1j)]"
      ]
     },
     "execution_count": 23,
     "metadata": {},
     "output_type": "execute_result"
    }
   ],
   "source": [
    "q"
   ]
  },
  {
   "cell_type": "code",
   "execution_count": 25,
   "id": "2d00ece2",
   "metadata": {},
   "outputs": [],
   "source": [
    "# list methods"
   ]
  },
  {
   "cell_type": "code",
   "execution_count": 26,
   "id": "41570da0",
   "metadata": {},
   "outputs": [],
   "source": [
    "#adding eliment"
   ]
  },
  {
   "cell_type": "code",
   "execution_count": 27,
   "id": "c8ac1e4c",
   "metadata": {},
   "outputs": [
    {
     "data": {
      "text/plain": [
       "[100, 200, 100, 'a', (2+1j)]"
      ]
     },
     "execution_count": 27,
     "metadata": {},
     "output_type": "execute_result"
    }
   ],
   "source": [
    "q"
   ]
  },
  {
   "cell_type": "code",
   "execution_count": 29,
   "id": "1bb5d3c0",
   "metadata": {},
   "outputs": [],
   "source": [
    "q[1:2]=10000,1.0"
   ]
  },
  {
   "cell_type": "code",
   "execution_count": 30,
   "id": "ecc8440a",
   "metadata": {},
   "outputs": [
    {
     "data": {
      "text/plain": [
       "[100, 10000, 1.0, 100, 'a', (2+1j)]"
      ]
     },
     "execution_count": 30,
     "metadata": {},
     "output_type": "execute_result"
    }
   ],
   "source": [
    "q"
   ]
  },
  {
   "cell_type": "code",
   "execution_count": 31,
   "id": "3bb8ab65",
   "metadata": {},
   "outputs": [],
   "source": [
    "# list methods"
   ]
  },
  {
   "cell_type": "code",
   "execution_count": 32,
   "id": "02f7a519",
   "metadata": {},
   "outputs": [],
   "source": [
    "#insert()----is to insert an element\n",
    "#into the specified location"
   ]
  },
  {
   "cell_type": "code",
   "execution_count": 33,
   "id": "d4c4f2ad",
   "metadata": {},
   "outputs": [],
   "source": [
    "x=[1,2,3,4]"
   ]
  },
  {
   "cell_type": "code",
   "execution_count": 36,
   "id": "aba1e3e0",
   "metadata": {},
   "outputs": [],
   "source": [
    "x.insert(2,\"abcdef\") #only insert one value at a time"
   ]
  },
  {
   "cell_type": "code",
   "execution_count": 37,
   "id": "718438b2",
   "metadata": {},
   "outputs": [
    {
     "data": {
      "text/plain": [
       "[1, 2, 'abcdef', 'abcdef', 3, 4]"
      ]
     },
     "execution_count": 37,
     "metadata": {},
     "output_type": "execute_result"
    }
   ],
   "source": [
    "x"
   ]
  },
  {
   "cell_type": "code",
   "execution_count": 38,
   "id": "e79428c6",
   "metadata": {},
   "outputs": [],
   "source": [
    "# append()----also used to an insert \n",
    "#into the  list at the end of the list"
   ]
  },
  {
   "cell_type": "code",
   "execution_count": 39,
   "id": "df650061",
   "metadata": {},
   "outputs": [],
   "source": [
    "x=[1,2,3,4]\n",
    "x.append(\"ab\")   # insert only one value at a time"
   ]
  },
  {
   "cell_type": "code",
   "execution_count": 40,
   "id": "631aa099",
   "metadata": {},
   "outputs": [
    {
     "data": {
      "text/plain": [
       "[1, 2, 3, 4, 'ab']"
      ]
     },
     "execution_count": 40,
     "metadata": {},
     "output_type": "execute_result"
    }
   ],
   "source": [
    "x"
   ]
  },
  {
   "cell_type": "code",
   "execution_count": 41,
   "id": "b8c7a697",
   "metadata": {},
   "outputs": [],
   "source": [
    "# extend()---\n"
   ]
  },
  {
   "cell_type": "code",
   "execution_count": 44,
   "id": "4e891d8b",
   "metadata": {},
   "outputs": [],
   "source": [
    "x=[1,2,3]\n",
    "x.extend([4,5,6,7,8])"
   ]
  },
  {
   "cell_type": "code",
   "execution_count": 45,
   "id": "923649fb",
   "metadata": {},
   "outputs": [
    {
     "data": {
      "text/plain": [
       "[1, 2, 3, 4, 5, 6, 7, 8]"
      ]
     },
     "execution_count": 45,
     "metadata": {},
     "output_type": "execute_result"
    }
   ],
   "source": [
    "x"
   ]
  },
  {
   "cell_type": "code",
   "execution_count": 47,
   "id": "2ef22774",
   "metadata": {},
   "outputs": [],
   "source": [
    "x=[\"a,b,c\"]\n",
    "x.extend([\"d,e,f\"])"
   ]
  },
  {
   "cell_type": "code",
   "execution_count": 48,
   "id": "e9a1c028",
   "metadata": {},
   "outputs": [
    {
     "data": {
      "text/plain": [
       "['a,b,c', 'd,e,f']"
      ]
     },
     "execution_count": 48,
     "metadata": {},
     "output_type": "execute_result"
    }
   ],
   "source": [
    "x"
   ]
  },
  {
   "cell_type": "code",
   "execution_count": 49,
   "id": "e5183d52",
   "metadata": {},
   "outputs": [],
   "source": [
    "# creat a calculataor\n",
    "\n",
    "x=10\n",
    "y=20"
   ]
  },
  {
   "cell_type": "code",
   "execution_count": 10,
   "id": "777d87ee",
   "metadata": {},
   "outputs": [
    {
     "name": "stdout",
     "output_type": "stream",
     "text": [
      "first number is  12\n",
      "second number is  3\n",
      "the sum of 12 & 3 is 15\n",
      "the sub of 12 & 3 is 9\n",
      "the mul of 12 & 3 is 36\n",
      "the div of 12 & 3 is 4.0\n",
      "the mod of 12 & 3 is 4.0\n"
     ]
    }
   ],
   "source": [
    "a=int(input('first number is  '))\n",
    "b=int(input('second number is  '))\n",
    "c=a+b\n",
    "d=a-b\n",
    "e=a*b\n",
    "f=a/b\n",
    "g=a%b\n",
    "print(\"the sum of {} & {} is {}\".format(a,b,c))\n",
    "print(\"the sub of {} & {} is {}\".format(a,b,d))\n",
    "print(\"the mul of {} & {} is {}\".format(a,b,e))\n",
    "print(\"the div of {} & {} is {}\".format(a,b,f))\n",
    "print(\"the mod of {} & {} is {}\".format(a,b,g))\n"
   ]
  },
  {
   "cell_type": "code",
   "execution_count": null,
   "id": "fb120351",
   "metadata": {},
   "outputs": [],
   "source": [
    "# creat and empty list then at time insert alphabet from a to f at Single time\n",
    "\n"
   ]
  },
  {
   "cell_type": "code",
   "execution_count": 7,
   "id": "0fad5ff7",
   "metadata": {},
   "outputs": [],
   "source": [
    "a=[]\n",
    "a.extend([\"abcdef\"])"
   ]
  },
  {
   "cell_type": "code",
   "execution_count": 8,
   "id": "15b31bd7",
   "metadata": {},
   "outputs": [
    {
     "data": {
      "text/plain": [
       "['abcdef']"
      ]
     },
     "execution_count": 8,
     "metadata": {},
     "output_type": "execute_result"
    }
   ],
   "source": [
    "a"
   ]
  },
  {
   "cell_type": "code",
   "execution_count": 1,
   "id": "1c60aeee",
   "metadata": {},
   "outputs": [],
   "source": [
    "#20-07-2022\n",
    "\n",
    "# remove()--- remove elements from a list, only one element at a time, \n",
    "#if it contains multiple element the it will remove \n",
    "#the first occurance of the elements specified, here use only index value"
   ]
  },
  {
   "cell_type": "code",
   "execution_count": 2,
   "id": "c0145f1a",
   "metadata": {},
   "outputs": [],
   "source": [
    "x=[\"a\",\"b\",\"c\",\"d\",1,1,2,3]"
   ]
  },
  {
   "cell_type": "code",
   "execution_count": 3,
   "id": "761cb133",
   "metadata": {},
   "outputs": [],
   "source": [
    "x.remove(\"a\")"
   ]
  },
  {
   "cell_type": "code",
   "execution_count": 4,
   "id": "44cf7041",
   "metadata": {},
   "outputs": [
    {
     "data": {
      "text/plain": [
       "['b', 'c', 'd', 1, 1, 2, 3]"
      ]
     },
     "execution_count": 4,
     "metadata": {},
     "output_type": "execute_result"
    }
   ],
   "source": [
    "x"
   ]
  },
  {
   "cell_type": "code",
   "execution_count": 11,
   "id": "d7fdd637",
   "metadata": {},
   "outputs": [],
   "source": [
    "# pop()--- remove elements from a list, only one element at a time, \n",
    "#if it contains multiple element the it will remove \n",
    "#the first occurance of the elements specified, here use only index value"
   ]
  },
  {
   "cell_type": "code",
   "execution_count": 7,
   "id": "67cdf8e3",
   "metadata": {},
   "outputs": [],
   "source": [
    "x=[\"a\",\"b\",\"c\",\"d\",1,1,2,3]"
   ]
  },
  {
   "cell_type": "code",
   "execution_count": 8,
   "id": "1d7263b9",
   "metadata": {},
   "outputs": [
    {
     "data": {
      "text/plain": [
       "'c'"
      ]
     },
     "execution_count": 8,
     "metadata": {},
     "output_type": "execute_result"
    }
   ],
   "source": [
    "x.pop(2)"
   ]
  },
  {
   "cell_type": "code",
   "execution_count": 9,
   "id": "0c4ce5b3",
   "metadata": {},
   "outputs": [],
   "source": [
    "x=[\"a\",\"b\",\"c\",\"d\",1,1,2,3]"
   ]
  },
  {
   "cell_type": "code",
   "execution_count": 10,
   "id": "cab21060",
   "metadata": {},
   "outputs": [
    {
     "data": {
      "text/plain": [
       "3"
      ]
     },
     "execution_count": 10,
     "metadata": {},
     "output_type": "execute_result"
    }
   ],
   "source": [
    "x.pop()"
   ]
  },
  {
   "cell_type": "code",
   "execution_count": 12,
   "id": "c0a44d73",
   "metadata": {},
   "outputs": [
    {
     "data": {
      "text/plain": [
       "2"
      ]
     },
     "execution_count": 12,
     "metadata": {},
     "output_type": "execute_result"
    }
   ],
   "source": [
    "x.pop()"
   ]
  },
  {
   "cell_type": "code",
   "execution_count": 13,
   "id": "428634ae",
   "metadata": {},
   "outputs": [],
   "source": [
    "#...keywords del"
   ]
  },
  {
   "cell_type": "code",
   "execution_count": 14,
   "id": "2d9cb8aa",
   "metadata": {},
   "outputs": [],
   "source": [
    "x=['a','b','c','d']"
   ]
  },
  {
   "cell_type": "code",
   "execution_count": 15,
   "id": "f142f1d6",
   "metadata": {},
   "outputs": [],
   "source": [
    "del x[2]"
   ]
  },
  {
   "cell_type": "code",
   "execution_count": 16,
   "id": "3e7e2298",
   "metadata": {},
   "outputs": [
    {
     "data": {
      "text/plain": [
       "['a', 'b', 'd']"
      ]
     },
     "execution_count": 16,
     "metadata": {},
     "output_type": "execute_result"
    }
   ],
   "source": [
    "x"
   ]
  },
  {
   "cell_type": "code",
   "execution_count": 18,
   "id": "efc83e60",
   "metadata": {},
   "outputs": [],
   "source": [
    "del x[:]"
   ]
  },
  {
   "cell_type": "code",
   "execution_count": 19,
   "id": "694f6856",
   "metadata": {},
   "outputs": [
    {
     "data": {
      "text/plain": [
       "[]"
      ]
     },
     "execution_count": 19,
     "metadata": {},
     "output_type": "execute_result"
    }
   ],
   "source": [
    "x"
   ]
  },
  {
   "cell_type": "code",
   "execution_count": 20,
   "id": "94f5bf45",
   "metadata": {},
   "outputs": [],
   "source": [
    "del x"
   ]
  },
  {
   "cell_type": "code",
   "execution_count": 21,
   "id": "8afc112a",
   "metadata": {},
   "outputs": [
    {
     "ename": "NameError",
     "evalue": "name 'x' is not defined",
     "output_type": "error",
     "traceback": [
      "\u001b[1;31m---------------------------------------------------------------------------\u001b[0m",
      "\u001b[1;31mNameError\u001b[0m                                 Traceback (most recent call last)",
      "Input \u001b[1;32mIn [21]\u001b[0m, in \u001b[0;36m<cell line: 1>\u001b[1;34m()\u001b[0m\n\u001b[1;32m----> 1\u001b[0m \u001b[43mx\u001b[49m\n",
      "\u001b[1;31mNameError\u001b[0m: name 'x' is not defined"
     ]
    }
   ],
   "source": [
    "x"
   ]
  },
  {
   "cell_type": "code",
   "execution_count": 22,
   "id": "61df01ad",
   "metadata": {},
   "outputs": [],
   "source": [
    "y=[2,3,4,6,5,7,1]"
   ]
  },
  {
   "cell_type": "code",
   "execution_count": 23,
   "id": "80f8e238",
   "metadata": {},
   "outputs": [],
   "source": [
    "# sort() -- mainly used to sort the elements\n",
    "#increasing order"
   ]
  },
  {
   "cell_type": "code",
   "execution_count": 3,
   "id": "3fe70053",
   "metadata": {},
   "outputs": [],
   "source": [
    "y=[2,3,4,6,5,7,1]\n",
    "y.sort()"
   ]
  },
  {
   "cell_type": "code",
   "execution_count": 4,
   "id": "4e4872b5",
   "metadata": {},
   "outputs": [
    {
     "data": {
      "text/plain": [
       "[1, 2, 3, 4, 5, 6, 7]"
      ]
     },
     "execution_count": 4,
     "metadata": {},
     "output_type": "execute_result"
    }
   ],
   "source": [
    "y"
   ]
  },
  {
   "cell_type": "code",
   "execution_count": 8,
   "id": "20bfe3ad",
   "metadata": {},
   "outputs": [],
   "source": [
    "y.sort(reverse=True)"
   ]
  },
  {
   "cell_type": "code",
   "execution_count": 10,
   "id": "61e44dc5",
   "metadata": {},
   "outputs": [
    {
     "data": {
      "text/plain": [
       "[7, 6, 5, 4, 3, 2, 1]"
      ]
     },
     "execution_count": 10,
     "metadata": {},
     "output_type": "execute_result"
    }
   ],
   "source": [
    "y"
   ]
  },
  {
   "cell_type": "code",
   "execution_count": 13,
   "id": "969ed6b0",
   "metadata": {},
   "outputs": [],
   "source": [
    "y.sort(reverse=False)"
   ]
  },
  {
   "cell_type": "code",
   "execution_count": 14,
   "id": "62321b23",
   "metadata": {},
   "outputs": [
    {
     "data": {
      "text/plain": [
       "[1, 2, 3, 4, 5, 6, 7]"
      ]
     },
     "execution_count": 14,
     "metadata": {},
     "output_type": "execute_result"
    }
   ],
   "source": [
    "y"
   ]
  },
  {
   "cell_type": "code",
   "execution_count": 43,
   "id": "bcffcb25",
   "metadata": {},
   "outputs": [],
   "source": [
    "# copy()\n",
    "\n",
    "x=[2,3,4,6,\"a\",\"b\"]\n",
    "\n",
    "y=x\n",
    "\n",
    "z=x.copy()"
   ]
  },
  {
   "cell_type": "code",
   "execution_count": 45,
   "id": "6cee0ec2",
   "metadata": {},
   "outputs": [
    {
     "data": {
      "text/plain": [
       "[2, 3, 4, 6, 'a', 'b']"
      ]
     },
     "execution_count": 45,
     "metadata": {},
     "output_type": "execute_result"
    }
   ],
   "source": [
    "z"
   ]
  },
  {
   "cell_type": "code",
   "execution_count": 47,
   "id": "ae4f5e75",
   "metadata": {},
   "outputs": [],
   "source": [
    "del z[0]"
   ]
  },
  {
   "cell_type": "code",
   "execution_count": 49,
   "id": "eb6d853d",
   "metadata": {},
   "outputs": [
    {
     "data": {
      "text/plain": [
       "[3, 4, 6, 'a', 'b']"
      ]
     },
     "execution_count": 49,
     "metadata": {},
     "output_type": "execute_result"
    }
   ],
   "source": [
    "z"
   ]
  },
  {
   "cell_type": "code",
   "execution_count": 50,
   "id": "a41cfeac",
   "metadata": {},
   "outputs": [
    {
     "data": {
      "text/plain": [
       "[2, 3, 4, 6, 'a', 'b']"
      ]
     },
     "execution_count": 50,
     "metadata": {},
     "output_type": "execute_result"
    }
   ],
   "source": [
    "x"
   ]
  },
  {
   "cell_type": "code",
   "execution_count": 51,
   "id": "eaa7ebca",
   "metadata": {},
   "outputs": [],
   "source": [
    "# count()"
   ]
  },
  {
   "cell_type": "code",
   "execution_count": 52,
   "id": "b6b5959f",
   "metadata": {},
   "outputs": [
    {
     "data": {
      "text/plain": [
       "1"
      ]
     },
     "execution_count": 52,
     "metadata": {},
     "output_type": "execute_result"
    }
   ],
   "source": [
    "x.count(2)"
   ]
  },
  {
   "cell_type": "code",
   "execution_count": 53,
   "id": "13b18e7e",
   "metadata": {},
   "outputs": [],
   "source": [
    "x=[2, 3, 4, 6,2,2,2]"
   ]
  },
  {
   "cell_type": "code",
   "execution_count": 54,
   "id": "baff86a1",
   "metadata": {},
   "outputs": [
    {
     "data": {
      "text/plain": [
       "4"
      ]
     },
     "execution_count": 54,
     "metadata": {},
     "output_type": "execute_result"
    }
   ],
   "source": [
    "x.count(2)"
   ]
  },
  {
   "cell_type": "markdown",
   "id": "9d1f47e1",
   "metadata": {},
   "source": [
    " #index()..."
   ]
  },
  {
   "cell_type": "code",
   "execution_count": 56,
   "id": "68101eb4",
   "metadata": {},
   "outputs": [],
   "source": [
    "x=[2, 3, 4, 6,2,2,2]"
   ]
  },
  {
   "cell_type": "code",
   "execution_count": 57,
   "id": "3e8305ae",
   "metadata": {},
   "outputs": [
    {
     "data": {
      "text/plain": [
       "[2, 3, 4, 6, 2, 2, 2]"
      ]
     },
     "execution_count": 57,
     "metadata": {},
     "output_type": "execute_result"
    }
   ],
   "source": [
    "x"
   ]
  },
  {
   "cell_type": "code",
   "execution_count": 58,
   "id": "ad3576d5",
   "metadata": {},
   "outputs": [],
   "source": [
    "x.clear()"
   ]
  },
  {
   "cell_type": "code",
   "execution_count": 59,
   "id": "37e5c604",
   "metadata": {},
   "outputs": [
    {
     "data": {
      "text/plain": [
       "[]"
      ]
     },
     "execution_count": 59,
     "metadata": {},
     "output_type": "execute_result"
    }
   ],
   "source": [
    "x"
   ]
  },
  {
   "cell_type": "code",
   "execution_count": 65,
   "id": "4b43dd0c",
   "metadata": {},
   "outputs": [],
   "source": [
    "\n",
    "\n",
    "a=['a','b','c','d']"
   ]
  },
  {
   "cell_type": "code",
   "execution_count": 66,
   "id": "a1657d29",
   "metadata": {},
   "outputs": [],
   "source": [
    "a[0]=a[0].upper()\n",
    "a[2]=a[2].upper()\n"
   ]
  },
  {
   "cell_type": "code",
   "execution_count": 67,
   "id": "7805ec92",
   "metadata": {},
   "outputs": [
    {
     "data": {
      "text/plain": [
       "['A', 'b', 'C', 'd']"
      ]
     },
     "execution_count": 67,
     "metadata": {},
     "output_type": "execute_result"
    }
   ],
   "source": [
    "a"
   ]
  },
  {
   "cell_type": "code",
   "execution_count": null,
   "id": "c1430a10",
   "metadata": {},
   "outputs": [],
   "source": [
    "#creat list"
   ]
  },
  {
   "cell_type": "code",
   "execution_count": 1,
   "id": "e8a92847",
   "metadata": {},
   "outputs": [
    {
     "name": "stdout",
     "output_type": "stream",
     "text": [
      "1\n",
      "2\n",
      "3\n"
     ]
    }
   ],
   "source": [
    "a=input()\n",
    "b=input()\n",
    "c=input()"
   ]
  },
  {
   "cell_type": "code",
   "execution_count": 2,
   "id": "b617b488",
   "metadata": {},
   "outputs": [],
   "source": [
    "z=[a,b,c]"
   ]
  },
  {
   "cell_type": "code",
   "execution_count": 3,
   "id": "b52c9e6d",
   "metadata": {},
   "outputs": [
    {
     "data": {
      "text/plain": [
       "['1', '2', '3']"
      ]
     },
     "execution_count": 3,
     "metadata": {},
     "output_type": "execute_result"
    }
   ],
   "source": [
    "z"
   ]
  },
  {
   "cell_type": "code",
   "execution_count": null,
   "id": "2b911c14",
   "metadata": {},
   "outputs": [],
   "source": [
    "a.split"
   ]
  }
 ],
 "metadata": {
  "kernelspec": {
   "display_name": "Python 3 (ipykernel)",
   "language": "python",
   "name": "python3"
  },
  "language_info": {
   "codemirror_mode": {
    "name": "ipython",
    "version": 3
   },
   "file_extension": ".py",
   "mimetype": "text/x-python",
   "name": "python",
   "nbconvert_exporter": "python",
   "pygments_lexer": "ipython3",
   "version": "3.9.12"
  }
 },
 "nbformat": 4,
 "nbformat_minor": 5
}

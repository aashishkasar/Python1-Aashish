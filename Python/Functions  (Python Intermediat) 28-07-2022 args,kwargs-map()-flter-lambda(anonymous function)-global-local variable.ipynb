{
 "cells": [
  {
   "cell_type": "code",
   "execution_count": 1,
   "id": "4b57ba1e",
   "metadata": {},
   "outputs": [],
   "source": [
    "#defining the function\n",
    "\n",
    "def f1():\n",
    "    print(\"hi\")"
   ]
  },
  {
   "cell_type": "code",
   "execution_count": 2,
   "id": "c606e42b",
   "metadata": {},
   "outputs": [
    {
     "name": "stdout",
     "output_type": "stream",
     "text": [
      "hi\n"
     ]
    }
   ],
   "source": [
    "#calling the function\n",
    "f1()"
   ]
  },
  {
   "cell_type": "code",
   "execution_count": 3,
   "id": "92d3f1b9",
   "metadata": {},
   "outputs": [
    {
     "name": "stdout",
     "output_type": "stream",
     "text": [
      "hi\n"
     ]
    }
   ],
   "source": [
    "f1()"
   ]
  },
  {
   "cell_type": "code",
   "execution_count": 4,
   "id": "c228621e",
   "metadata": {},
   "outputs": [],
   "source": [
    "def f2(x):\n",
    "    print(x)"
   ]
  },
  {
   "cell_type": "code",
   "execution_count": 5,
   "id": "c59bb9e8",
   "metadata": {},
   "outputs": [
    {
     "name": "stdout",
     "output_type": "stream",
     "text": [
      "100\n"
     ]
    }
   ],
   "source": [
    "f2(100)"
   ]
  },
  {
   "cell_type": "code",
   "execution_count": 12,
   "id": "876a5390",
   "metadata": {},
   "outputs": [],
   "source": [
    "def f3(x,y,z):\n",
    "    print(x)\n",
    "    print(y)\n",
    "    print(z)"
   ]
  },
  {
   "cell_type": "code",
   "execution_count": 13,
   "id": "37b037c4",
   "metadata": {},
   "outputs": [
    {
     "name": "stdout",
     "output_type": "stream",
     "text": [
      "1\n",
      "2\n",
      "3\n"
     ]
    }
   ],
   "source": [
    "f3(1,2,3)"
   ]
  },
  {
   "cell_type": "code",
   "execution_count": 17,
   "id": "10ab04f0",
   "metadata": {},
   "outputs": [],
   "source": [
    "def f4(x,y,z):\n",
    "    print(x,y,z)\n",
    "   "
   ]
  },
  {
   "cell_type": "code",
   "execution_count": 18,
   "id": "ee4167be",
   "metadata": {},
   "outputs": [
    {
     "name": "stdout",
     "output_type": "stream",
     "text": [
      "1 200 3555\n"
     ]
    }
   ],
   "source": [
    "f4(1,200,3555)"
   ]
  },
  {
   "cell_type": "code",
   "execution_count": 25,
   "id": "e5f102c3",
   "metadata": {},
   "outputs": [],
   "source": [
    "def f5(x=10,y=20):\n",
    "    print(x)\n",
    "    print(y)"
   ]
  },
  {
   "cell_type": "code",
   "execution_count": 27,
   "id": "23d63703",
   "metadata": {},
   "outputs": [
    {
     "name": "stdout",
     "output_type": "stream",
     "text": [
      "10\n",
      "20\n"
     ]
    }
   ],
   "source": [
    "f5()"
   ]
  },
  {
   "cell_type": "code",
   "execution_count": 28,
   "id": "f072b032",
   "metadata": {},
   "outputs": [
    {
     "name": "stdout",
     "output_type": "stream",
     "text": [
      "100\n",
      "200\n"
     ]
    }
   ],
   "source": [
    "f5(100,200)"
   ]
  },
  {
   "cell_type": "code",
   "execution_count": 32,
   "id": "24ee7ae4",
   "metadata": {},
   "outputs": [
    {
     "ename": "SyntaxError",
     "evalue": "non-default argument follows default argument (2886184773.py, line 1)",
     "output_type": "error",
     "traceback": [
      "\u001b[1;36m  Input \u001b[1;32mIn [32]\u001b[1;36m\u001b[0m\n\u001b[1;33m    def f5(x=10,y):\u001b[0m\n\u001b[1;37m                 ^\u001b[0m\n\u001b[1;31mSyntaxError\u001b[0m\u001b[1;31m:\u001b[0m non-default argument follows default argument\n"
     ]
    }
   ],
   "source": [
    "def f5(x=10,y):\n",
    "print(x)\n",
    "print(y)"
   ]
  },
  {
   "cell_type": "code",
   "execution_count": 34,
   "id": "dce5df4c",
   "metadata": {},
   "outputs": [],
   "source": [
    "def f5(y,x=10):\n",
    "    print(x)\n",
    "    print(y)"
   ]
  },
  {
   "cell_type": "code",
   "execution_count": 35,
   "id": "e408921c",
   "metadata": {},
   "outputs": [],
   "source": [
    "def f6(z,x=10,y=10):\n",
    "    pass"
   ]
  },
  {
   "cell_type": "code",
   "execution_count": 36,
   "id": "a2f0ee5a",
   "metadata": {},
   "outputs": [],
   "source": [
    "f6(10)"
   ]
  },
  {
   "cell_type": "code",
   "execution_count": 37,
   "id": "ee767314",
   "metadata": {},
   "outputs": [],
   "source": [
    "def f7(x,y=20,z=30):\n",
    "    print(x,y,z)"
   ]
  },
  {
   "cell_type": "code",
   "execution_count": 38,
   "id": "62e67c5f",
   "metadata": {},
   "outputs": [
    {
     "name": "stdout",
     "output_type": "stream",
     "text": [
      "1 2 3\n"
     ]
    }
   ],
   "source": [
    "f7(1,2,3)"
   ]
  },
  {
   "cell_type": "code",
   "execution_count": 39,
   "id": "7aa3c242",
   "metadata": {},
   "outputs": [
    {
     "name": "stdout",
     "output_type": "stream",
     "text": [
      "4 5 7\n"
     ]
    }
   ],
   "source": [
    "f7(4,5,7)"
   ]
  },
  {
   "cell_type": "code",
   "execution_count": 40,
   "id": "4d5b64d6",
   "metadata": {},
   "outputs": [],
   "source": [
    "def f7(x,z,y=20,):\n",
    "    print(x,y,z)"
   ]
  },
  {
   "cell_type": "code",
   "execution_count": 41,
   "id": "0a5a6aca",
   "metadata": {},
   "outputs": [
    {
     "name": "stdout",
     "output_type": "stream",
     "text": [
      "9 7 8\n"
     ]
    }
   ],
   "source": [
    "f7 (9,8,7)"
   ]
  },
  {
   "cell_type": "code",
   "execution_count": 42,
   "id": "ad558ad2",
   "metadata": {},
   "outputs": [
    {
     "name": "stdout",
     "output_type": "stream",
     "text": [
      "2 20 3\n"
     ]
    }
   ],
   "source": [
    "f7(2,3)"
   ]
  },
  {
   "cell_type": "code",
   "execution_count": 43,
   "id": "96e7eee1",
   "metadata": {},
   "outputs": [],
   "source": [
    "def f7(x,z,y=20,):\n",
    "    print(z,y,x)"
   ]
  },
  {
   "cell_type": "code",
   "execution_count": 44,
   "id": "d796f514",
   "metadata": {},
   "outputs": [
    {
     "name": "stdout",
     "output_type": "stream",
     "text": [
      "3 20 2\n"
     ]
    }
   ],
   "source": [
    "f7(2,3)"
   ]
  },
  {
   "cell_type": "code",
   "execution_count": 46,
   "id": "c1259557",
   "metadata": {},
   "outputs": [],
   "source": [
    "def f7(x,z,y=\"virat\",):\n",
    "    print(z,y,x)"
   ]
  },
  {
   "cell_type": "code",
   "execution_count": 47,
   "id": "f55870d0",
   "metadata": {},
   "outputs": [
    {
     "name": "stdout",
     "output_type": "stream",
     "text": [
      "24 virat 33\n"
     ]
    }
   ],
   "source": [
    "f7(33,24)"
   ]
  },
  {
   "cell_type": "code",
   "execution_count": 48,
   "id": "47014af6",
   "metadata": {},
   "outputs": [],
   "source": [
    "def f7(x,z=(8),y=\"virat\",):\n",
    "    print(z,y,x)"
   ]
  },
  {
   "cell_type": "code",
   "execution_count": 49,
   "id": "6be02753",
   "metadata": {},
   "outputs": [
    {
     "name": "stdout",
     "output_type": "stream",
     "text": [
      "8 virat 18\n"
     ]
    }
   ],
   "source": [
    "f7(18)"
   ]
  },
  {
   "cell_type": "code",
   "execution_count": 50,
   "id": "5af8e647",
   "metadata": {},
   "outputs": [],
   "source": [
    "def f7(x,z={8},y=\"virat\",):\n",
    "    print(z,y,x)"
   ]
  },
  {
   "cell_type": "code",
   "execution_count": 51,
   "id": "8b30e1de",
   "metadata": {},
   "outputs": [
    {
     "name": "stdout",
     "output_type": "stream",
     "text": [
      "321 virat 213\n"
     ]
    }
   ],
   "source": [
    "f7(213,321)"
   ]
  },
  {
   "cell_type": "code",
   "execution_count": 52,
   "id": "68faab57",
   "metadata": {},
   "outputs": [
    {
     "name": "stdout",
     "output_type": "stream",
     "text": [
      "rohit 23 45\n"
     ]
    }
   ],
   "source": [
    "f7(45,\"rohit\",23)"
   ]
  },
  {
   "cell_type": "code",
   "execution_count": 53,
   "id": "c6269dfa",
   "metadata": {},
   "outputs": [],
   "source": [
    "def f7(x,z={8},y=\"virat\",):\n",
    "    pass"
   ]
  },
  {
   "cell_type": "code",
   "execution_count": 81,
   "id": "adb609d0",
   "metadata": {},
   "outputs": [],
   "source": [
    "#creat a function name as calculator\n",
    "\n",
    "def calc(x,y,z):\n",
    "    if y==\"+\":\n",
    "        print(x+z)\n",
    "    elif y==\"-\":\n",
    "        print(x-z)\n",
    "    elif y==\"/\":\n",
    "        print(x/z)\n",
    "    elif y==\"*\":\n",
    "        print(x*z)\n",
    "        \n",
    "        \n"
   ]
  },
  {
   "cell_type": "code",
   "execution_count": 82,
   "id": "6392feb7",
   "metadata": {},
   "outputs": [
    {
     "name": "stdout",
     "output_type": "stream",
     "text": [
      "45\n"
     ]
    }
   ],
   "source": [
    "calc(5,\"*\",9)"
   ]
  },
  {
   "cell_type": "code",
   "execution_count": 1,
   "id": "e4f62d45",
   "metadata": {},
   "outputs": [],
   "source": [
    "#1)write a function to find the max of three numbers in a list.\n",
    "#2)write a python function to sume all the numbers in a list.\n",
    "#3)write a python that accetpts a string and calulate the number of upper case leeteers and loewr case.\n",
    "#9)write a python function that takes a number as a parameter and check the number is prime or not.\n",
    "#12)write a python function that checks wether a passed string is palindrom or not.\n",
    "#note:a palindrome is a word, phrase, or sequence that reads the same backward as forward, e.g., madam or nurses run."
   ]
  },
  {
   "cell_type": "code",
   "execution_count": 2,
   "id": "b4bea555",
   "metadata": {},
   "outputs": [],
   "source": [
    "#1)write a function to find the max of three numbers in a list.\n",
    "\n",
    "def max(x,y,z):\n",
    "    if  (x>=y) and (x>=z):\n",
    "        print(x)\n",
    "    elif (y>=z) and (y>=x):\n",
    "        print(y)\n",
    "    elif (z>=x) and (z>=y):\n",
    "        print(z)"
   ]
  },
  {
   "cell_type": "code",
   "execution_count": 4,
   "id": "2dd0e584",
   "metadata": {},
   "outputs": [
    {
     "name": "stdout",
     "output_type": "stream",
     "text": [
      "100\n"
     ]
    }
   ],
   "source": [
    "max(100,23,55)"
   ]
  },
  {
   "cell_type": "code",
   "execution_count": 1,
   "id": "4b7fe49f",
   "metadata": {},
   "outputs": [],
   "source": [
    "#type of argument 29-07-2022\n",
    "\n",
    "#positional argument\n",
    "\n"
   ]
  },
  {
   "cell_type": "code",
   "execution_count": null,
   "id": "f5905e0b",
   "metadata": {},
   "outputs": [],
   "source": [
    "\n"
   ]
  },
  {
   "cell_type": "code",
   "execution_count": 3,
   "id": "94739273",
   "metadata": {},
   "outputs": [],
   "source": [
    "#args\n",
    "\n",
    "def f4(*var):\n",
    "    print(var)"
   ]
  },
  {
   "cell_type": "code",
   "execution_count": 4,
   "id": "28385abc",
   "metadata": {},
   "outputs": [
    {
     "name": "stdout",
     "output_type": "stream",
     "text": [
      "(12, 233, 4, 675, 8, 354, 876, 234, 2)\n"
     ]
    }
   ],
   "source": [
    "f4(12,233,4,675,8,354,876,234,2)"
   ]
  },
  {
   "cell_type": "code",
   "execution_count": 5,
   "id": "38b6c4ab",
   "metadata": {},
   "outputs": [],
   "source": [
    "def f4(*var):\n",
    "    for y in var:\n",
    "        print(y)"
   ]
  },
  {
   "cell_type": "code",
   "execution_count": 8,
   "id": "ebb2c366",
   "metadata": {},
   "outputs": [
    {
     "name": "stdout",
     "output_type": "stream",
     "text": [
      "12\n",
      "233\n",
      "4\n",
      "675\n",
      "8\n",
      "354\n",
      "876\n",
      "234\n",
      "2\n"
     ]
    }
   ],
   "source": [
    "f4(12,233,4,675,8,354,876,234,2)"
   ]
  },
  {
   "cell_type": "code",
   "execution_count": 29,
   "id": "90680d99",
   "metadata": {},
   "outputs": [],
   "source": [
    "# **kwargs\n",
    "\n",
    "def f4(**var):\n",
    "    for y in var:\n",
    "        print(y)"
   ]
  },
  {
   "cell_type": "code",
   "execution_count": 30,
   "id": "af4fc0e4",
   "metadata": {},
   "outputs": [
    {
     "name": "stdout",
     "output_type": "stream",
     "text": [
      "name\n",
      "age\n",
      "weight\n"
     ]
    }
   ],
   "source": [
    "f4(name=\"kierthi\",age=23,weight=55)"
   ]
  },
  {
   "cell_type": "code",
   "execution_count": 25,
   "id": "58a7bf0e",
   "metadata": {},
   "outputs": [],
   "source": [
    "def f4(**var):\n",
    "    for y in var.values():\n",
    "        print(y)"
   ]
  },
  {
   "cell_type": "code",
   "execution_count": 33,
   "id": "86778825",
   "metadata": {},
   "outputs": [
    {
     "name": "stdout",
     "output_type": "stream",
     "text": [
      "name\n",
      "age\n",
      "weight\n"
     ]
    }
   ],
   "source": [
    "f4(name=\"kierthi\",age=23,weight=55)"
   ]
  },
  {
   "cell_type": "code",
   "execution_count": 37,
   "id": "9740ce1d",
   "metadata": {},
   "outputs": [],
   "source": [
    "def sum1(x,y,z):\n",
    "    print(x+y+z)"
   ]
  },
  {
   "cell_type": "code",
   "execution_count": 38,
   "id": "d74bc09a",
   "metadata": {},
   "outputs": [
    {
     "name": "stdout",
     "output_type": "stream",
     "text": [
      "33\n"
     ]
    }
   ],
   "source": [
    "var=sum1(10,11,12)"
   ]
  },
  {
   "cell_type": "code",
   "execution_count": 39,
   "id": "2ef79613",
   "metadata": {},
   "outputs": [
    {
     "name": "stdout",
     "output_type": "stream",
     "text": [
      "None\n"
     ]
    }
   ],
   "source": [
    "print(var)"
   ]
  },
  {
   "cell_type": "code",
   "execution_count": 40,
   "id": "725f3d6f",
   "metadata": {},
   "outputs": [],
   "source": [
    "def sum1(x,y,z):\n",
    "    return(x+y+z)"
   ]
  },
  {
   "cell_type": "code",
   "execution_count": 41,
   "id": "175880a8",
   "metadata": {},
   "outputs": [],
   "source": [
    "var=sum1(10,12,13)"
   ]
  },
  {
   "cell_type": "code",
   "execution_count": 42,
   "id": "c1cc6f89",
   "metadata": {},
   "outputs": [
    {
     "name": "stdout",
     "output_type": "stream",
     "text": [
      "35\n"
     ]
    }
   ],
   "source": [
    "print(var)"
   ]
  },
  {
   "cell_type": "code",
   "execution_count": null,
   "id": "595ba3e4",
   "metadata": {},
   "outputs": [],
   "source": []
  },
  {
   "cell_type": "code",
   "execution_count": 61,
   "id": "299b07eb",
   "metadata": {},
   "outputs": [],
   "source": [
    "def cal1(x,o,y):\n",
    "    if o==\"+\":\n",
    "        return x+y\n",
    "    elif o==\"-\":\n",
    "        return x-y\n",
    "    elif o==\"*\":\n",
    "        return x*y\n",
    "    elif o==\"**\":\n",
    "        return x**Y"
   ]
  },
  {
   "cell_type": "code",
   "execution_count": 62,
   "id": "8a74ec50",
   "metadata": {},
   "outputs": [
    {
     "data": {
      "text/plain": [
       "29"
      ]
     },
     "execution_count": 62,
     "metadata": {},
     "output_type": "execute_result"
    }
   ],
   "source": [
    "cal1(10,\"+\",19)"
   ]
  },
  {
   "cell_type": "code",
   "execution_count": 63,
   "id": "04a28450",
   "metadata": {},
   "outputs": [],
   "source": [
    "# Rock paper sciesor #probability"
   ]
  },
  {
   "cell_type": "code",
   "execution_count": 92,
   "id": "3e214221",
   "metadata": {},
   "outputs": [],
   "source": [
    "\n",
    "def var(x,y):\n",
    "    if x==\"rock\" and y==\"scissor\":\n",
    "        print(\"rock Win\")\n",
    "    elif x==\"rock\" and y==\"paper\":  \n",
    "        print(\"paper win\")\n",
    "    elif x==\"rock\" and y==\"rock\":\n",
    "        print(\"tie\")\n",
    "    elif x==\"paper\" and \"paper\":\n",
    "        print(\"tie\")\n",
    "    elif x==\"paper\" and \"scissor\":\n",
    "        print(\"scissor win\")\n",
    "    elif x==\"scissor\" and \"scissor\":\n",
    "        print(\"tie\")\n",
    "    elif x==\"scissor\" and \"paper\": \n",
    "        print(\"scissor win\",)"
   ]
  },
  {
   "cell_type": "code",
   "execution_count": 93,
   "id": "024681af",
   "metadata": {},
   "outputs": [
    {
     "name": "stdout",
     "output_type": "stream",
     "text": [
      "tie\n"
     ]
    }
   ],
   "source": [
    "var('scissor','paper')"
   ]
  },
  {
   "cell_type": "code",
   "execution_count": 1,
   "id": "e6f401fb",
   "metadata": {},
   "outputs": [],
   "source": []
  },
  {
   "cell_type": "code",
   "execution_count": 2,
   "id": "5661ed2e",
   "metadata": {},
   "outputs": [],
   "source": [
    "#Ananymas function 1-08-2022\n",
    "#lamda\n",
    "\n",
    "#lambda x:expression\n"
   ]
  },
  {
   "cell_type": "code",
   "execution_count": 3,
   "id": "b3fdd39c",
   "metadata": {},
   "outputs": [],
   "source": [
    "def sqaure1(x):\n",
    "    return x**2"
   ]
  },
  {
   "cell_type": "code",
   "execution_count": 4,
   "id": "16afab97",
   "metadata": {},
   "outputs": [],
   "source": [
    "square=lambda x:x**2"
   ]
  },
  {
   "cell_type": "code",
   "execution_count": 5,
   "id": "d4bc1c03",
   "metadata": {},
   "outputs": [
    {
     "data": {
      "text/plain": [
       "4"
      ]
     },
     "execution_count": 5,
     "metadata": {},
     "output_type": "execute_result"
    }
   ],
   "source": [
    "square(2)"
   ]
  },
  {
   "cell_type": "code",
   "execution_count": 6,
   "id": "57c78209",
   "metadata": {},
   "outputs": [],
   "source": [
    "def sum2(x,y,z):\n",
    "    return x+y+z"
   ]
  },
  {
   "cell_type": "code",
   "execution_count": 7,
   "id": "aa376187",
   "metadata": {},
   "outputs": [],
   "source": [
    "sum3=lambda x,y,z:x+y+z"
   ]
  },
  {
   "cell_type": "code",
   "execution_count": 11,
   "id": "0e97da28",
   "metadata": {},
   "outputs": [],
   "source": [
    "x=sum3(1,2,3)"
   ]
  },
  {
   "cell_type": "code",
   "execution_count": 12,
   "id": "b879e4b0",
   "metadata": {},
   "outputs": [
    {
     "data": {
      "text/plain": [
       "6"
      ]
     },
     "execution_count": 12,
     "metadata": {},
     "output_type": "execute_result"
    }
   ],
   "source": [
    "x"
   ]
  },
  {
   "cell_type": "code",
   "execution_count": 13,
   "id": "434a5a36",
   "metadata": {},
   "outputs": [],
   "source": [
    "x=sum2(1,2,3)"
   ]
  },
  {
   "cell_type": "code",
   "execution_count": 16,
   "id": "9d1d4ee4",
   "metadata": {},
   "outputs": [
    {
     "name": "stdout",
     "output_type": "stream",
     "text": [
      "6\n"
     ]
    }
   ],
   "source": [
    "print(x)"
   ]
  },
  {
   "cell_type": "code",
   "execution_count": 15,
   "id": "465dee2f",
   "metadata": {},
   "outputs": [
    {
     "name": "stdout",
     "output_type": "stream",
     "text": [
      "6\n"
     ]
    }
   ],
   "source": [
    "print(x)"
   ]
  },
  {
   "cell_type": "code",
   "execution_count": 32,
   "id": "9dfa828a",
   "metadata": {},
   "outputs": [],
   "source": [
    "def sq(*var):\n",
    "    x=[]\n",
    "    for y in var:\n",
    "        x.append(y**2)\n",
    "    return x"
   ]
  },
  {
   "cell_type": "code",
   "execution_count": 33,
   "id": "5cf499a6",
   "metadata": {},
   "outputs": [],
   "source": [
    "an=sq(1,2,3,4,5,6,7,8,9,10)"
   ]
  },
  {
   "cell_type": "code",
   "execution_count": 34,
   "id": "160f1be6",
   "metadata": {},
   "outputs": [
    {
     "name": "stdout",
     "output_type": "stream",
     "text": [
      "[1, 4, 9, 16, 25, 36, 49, 64, 81, 100]\n"
     ]
    }
   ],
   "source": [
    "print(an)"
   ]
  },
  {
   "cell_type": "code",
   "execution_count": 36,
   "id": "aa256ad3",
   "metadata": {},
   "outputs": [],
   "source": [
    "def cub(*var):\n",
    "    x=[]\n",
    "    for y in var:\n",
    "        x.append(y**3)\n",
    "    return x"
   ]
  },
  {
   "cell_type": "code",
   "execution_count": 37,
   "id": "a468e1d8",
   "metadata": {},
   "outputs": [],
   "source": [
    "ad=cub(1,2,3,4,5,6,7,8,9,10)"
   ]
  },
  {
   "cell_type": "code",
   "execution_count": 35,
   "id": "4806f286",
   "metadata": {},
   "outputs": [
    {
     "name": "stdout",
     "output_type": "stream",
     "text": [
      "[1, 8, 27, 64, 125, 216, 343, 512, 729, 1000]\n"
     ]
    }
   ],
   "source": [
    "print(ad)"
   ]
  },
  {
   "cell_type": "code",
   "execution_count": 38,
   "id": "e56fd9b3",
   "metadata": {},
   "outputs": [],
   "source": [
    "def cub(var):\n",
    "    return var**3\n",
    "  "
   ]
  },
  {
   "cell_type": "code",
   "execution_count": 44,
   "id": "0b01d1d0",
   "metadata": {},
   "outputs": [
    {
     "ename": "TypeError",
     "evalue": "unsupported operand type(s) for ** or pow(): 'tuple' and 'int'",
     "output_type": "error",
     "traceback": [
      "\u001b[1;31m---------------------------------------------------------------------------\u001b[0m",
      "\u001b[1;31mTypeError\u001b[0m                                 Traceback (most recent call last)",
      "Input \u001b[1;32mIn [44]\u001b[0m, in \u001b[0;36m<cell line: 1>\u001b[1;34m()\u001b[0m\n\u001b[1;32m----> 1\u001b[0m \u001b[38;5;28;43mlist\u001b[39;49m\u001b[43m(\u001b[49m\u001b[38;5;28;43mmap\u001b[39;49m\u001b[43m(\u001b[49m\u001b[43mcub\u001b[49m\u001b[43m,\u001b[49m\u001b[43m[\u001b[49m\u001b[38;5;241;43m1\u001b[39;49m\u001b[43m,\u001b[49m\u001b[38;5;241;43m2\u001b[39;49m\u001b[43m,\u001b[49m\u001b[38;5;241;43m3\u001b[39;49m\u001b[43m,\u001b[49m\u001b[38;5;241;43m4\u001b[39;49m\u001b[43m,\u001b[49m\u001b[38;5;241;43m5\u001b[39;49m\u001b[43m,\u001b[49m\u001b[43m]\u001b[49m\u001b[43m)\u001b[49m\u001b[43m)\u001b[49m\n",
      "Input \u001b[1;32mIn [38]\u001b[0m, in \u001b[0;36mcub\u001b[1;34m(*var)\u001b[0m\n\u001b[0;32m      1\u001b[0m \u001b[38;5;28;01mdef\u001b[39;00m \u001b[38;5;21mcub\u001b[39m(\u001b[38;5;241m*\u001b[39mvar):\n\u001b[1;32m----> 2\u001b[0m     \u001b[38;5;28;01mreturn\u001b[39;00m \u001b[43mvar\u001b[49m\u001b[38;5;241;43m*\u001b[39;49m\u001b[38;5;241;43m*\u001b[39;49m\u001b[38;5;241;43m3\u001b[39;49m\n",
      "\u001b[1;31mTypeError\u001b[0m: unsupported operand type(s) for ** or pow(): 'tuple' and 'int'"
     ]
    }
   ],
   "source": [
    "list(map(cub,[1,2,3,4,5,]))"
   ]
  },
  {
   "cell_type": "code",
   "execution_count": 45,
   "id": "20205389",
   "metadata": {},
   "outputs": [],
   "source": [
    "def char(*a):\n",
    "    y=[]\n",
    "    for z in x:\n",
    "        y.append(z.upper())"
   ]
  },
  {
   "cell_type": "code",
   "execution_count": 48,
   "id": "b0101852",
   "metadata": {},
   "outputs": [],
   "source": [
    "def char1(x):\n",
    "    return x.upper()\n",
    "\n",
    "x=(map(char1,[\"a\",\"b\",\"c\",\"d\",]))"
   ]
  },
  {
   "cell_type": "code",
   "execution_count": 49,
   "id": "384d9526",
   "metadata": {},
   "outputs": [
    {
     "data": {
      "text/plain": [
       "['A', 'B', 'C', 'D']"
      ]
     },
     "execution_count": 49,
     "metadata": {},
     "output_type": "execute_result"
    }
   ],
   "source": [
    "list(x)"
   ]
  },
  {
   "cell_type": "code",
   "execution_count": 50,
   "id": "778db79b",
   "metadata": {},
   "outputs": [
    {
     "data": {
      "text/plain": [
       "['A', 'B', 'C', 'D']"
      ]
     },
     "execution_count": 50,
     "metadata": {},
     "output_type": "execute_result"
    }
   ],
   "source": [
    "list(map(lambda x:x.upper(),[\"a\",\"b\",\"c\",\"d\",]))"
   ]
  },
  {
   "cell_type": "code",
   "execution_count": 55,
   "id": "1f5ad491",
   "metadata": {},
   "outputs": [
    {
     "data": {
      "text/plain": [
       "[int, float, str]"
      ]
     },
     "execution_count": 55,
     "metadata": {},
     "output_type": "execute_result"
    }
   ],
   "source": [
    "list(map(lambda x:type(x),[1,2.2,\"a\"]))"
   ]
  },
  {
   "cell_type": "code",
   "execution_count": 57,
   "id": "d4681203",
   "metadata": {},
   "outputs": [
    {
     "data": {
      "text/plain": [
       "[int, float, str]"
      ]
     },
     "execution_count": 57,
     "metadata": {},
     "output_type": "execute_result"
    }
   ],
   "source": [
    "list(map(type,[1,2.2,\"a\"]))"
   ]
  },
  {
   "cell_type": "code",
   "execution_count": 58,
   "id": "1e5684c0",
   "metadata": {},
   "outputs": [
    {
     "data": {
      "text/plain": [
       "[int, float, str, complex]"
      ]
     },
     "execution_count": 58,
     "metadata": {},
     "output_type": "execute_result"
    }
   ],
   "source": [
    "list(map(type,[1,2.2,\"a\",2+1j]))"
   ]
  },
  {
   "cell_type": "code",
   "execution_count": 60,
   "id": "0ba63738",
   "metadata": {},
   "outputs": [
    {
     "data": {
      "text/plain": [
       "[8]"
      ]
     },
     "execution_count": 60,
     "metadata": {},
     "output_type": "execute_result"
    }
   ],
   "source": [
    "#by using map of functuon try to get lenth of string\n",
    "\n",
    "list(map(len,[\"aadnkjad\"]))"
   ]
  },
  {
   "cell_type": "code",
   "execution_count": 61,
   "id": "70cbc9ac",
   "metadata": {},
   "outputs": [
    {
     "data": {
      "text/plain": [
       "[6]"
      ]
     },
     "execution_count": 61,
     "metadata": {},
     "output_type": "execute_result"
    }
   ],
   "source": [
    "list(map(lambda x:len(x),[\"asakda\"]))"
   ]
  },
  {
   "cell_type": "code",
   "execution_count": 62,
   "id": "e31f7b88",
   "metadata": {},
   "outputs": [
    {
     "data": {
      "text/plain": [
       "[3, 3]"
      ]
     },
     "execution_count": 62,
     "metadata": {},
     "output_type": "execute_result"
    }
   ],
   "source": [
    "list(map(lambda x:len(x),[\"asa\" ,\"kda\"]))"
   ]
  },
  {
   "cell_type": "code",
   "execution_count": 63,
   "id": "596b7d82",
   "metadata": {},
   "outputs": [],
   "source": [
    "x=lambda x:x%2==0"
   ]
  },
  {
   "cell_type": "code",
   "execution_count": 64,
   "id": "338de169",
   "metadata": {},
   "outputs": [
    {
     "data": {
      "text/plain": [
       "True"
      ]
     },
     "execution_count": 64,
     "metadata": {},
     "output_type": "execute_result"
    }
   ],
   "source": [
    "x(2)"
   ]
  },
  {
   "cell_type": "code",
   "execution_count": 66,
   "id": "29ea9986",
   "metadata": {},
   "outputs": [
    {
     "data": {
      "text/plain": [
       "[False, True, False, True, False, True, False, True, False, True]"
      ]
     },
     "execution_count": 66,
     "metadata": {},
     "output_type": "execute_result"
    }
   ],
   "source": [
    "list(map(lambda x:x%2==0,[1,2,3,4,5,6,7,8,9,10]))"
   ]
  },
  {
   "cell_type": "code",
   "execution_count": 67,
   "id": "2d189321",
   "metadata": {},
   "outputs": [
    {
     "data": {
      "text/plain": [
       "[2, 4, 6, 8, 10]"
      ]
     },
     "execution_count": 67,
     "metadata": {},
     "output_type": "execute_result"
    }
   ],
   "source": [
    "list(filter(lambda x:x%2==0,[1,2,3,4,5,6,7,8,9,10]))"
   ]
  },
  {
   "cell_type": "code",
   "execution_count": 68,
   "id": "3086db6f",
   "metadata": {},
   "outputs": [
    {
     "data": {
      "text/plain": [
       "[1, 3, 5, 7, 9]"
      ]
     },
     "execution_count": 68,
     "metadata": {},
     "output_type": "execute_result"
    }
   ],
   "source": [
    "list(filter(lambda x:x%2!=0,[1,2,3,4,5,6,7,8,9,10]))"
   ]
  },
  {
   "cell_type": "code",
   "execution_count": 70,
   "id": "ba6fe678",
   "metadata": {},
   "outputs": [
    {
     "data": {
      "text/plain": [
       "[2, 4, 6, 8, 10, 12, 14, 16, 18, 20]"
      ]
     },
     "execution_count": 70,
     "metadata": {},
     "output_type": "execute_result"
    }
   ],
   "source": [
    "list(map(lambda x,y:x+y,[1,2,3,4,5,6,7,8,9,10],[1,2,3,4,5,6,7,8,9,10]))"
   ]
  },
  {
   "cell_type": "code",
   "execution_count": 71,
   "id": "05986959",
   "metadata": {},
   "outputs": [
    {
     "data": {
      "text/plain": [
       "[2, 4, 6, 8, 10, 12, 14, 16]"
      ]
     },
     "execution_count": 71,
     "metadata": {},
     "output_type": "execute_result"
    }
   ],
   "source": [
    "list(map(lambda x,y:x+y,[1,2,3,4,5,6,7,8,9,10],[1,2,3,4,5,6,7,8,]))"
   ]
  },
  {
   "cell_type": "code",
   "execution_count": 88,
   "id": "e0af11b4",
   "metadata": {},
   "outputs": [
    {
     "data": {
      "text/plain": [
       "[2, 4, 6, 8, 10, 12, 14, 16]"
      ]
     },
     "execution_count": 88,
     "metadata": {},
     "output_type": "execute_result"
    }
   ],
   "source": [
    "list(map(lambda x,y=10:x+y,[1,2,3,4,5,6,7,8,9,10],[1,2,3,4,5,6,7,8,]))"
   ]
  },
  {
   "cell_type": "code",
   "execution_count": 78,
   "id": "0ab24a0f",
   "metadata": {},
   "outputs": [
    {
     "data": {
      "text/plain": [
       "['@B@', 'B@B@', '@@@', 'C@']"
      ]
     },
     "execution_count": 78,
     "metadata": {},
     "output_type": "execute_result"
    }
   ],
   "source": [
    "list(map(lambda a:a.replace(\"A\",\"@\"),[\"ABA\",\"BABA\",\"AAA\",\"CA\"]))"
   ]
  },
  {
   "cell_type": "code",
   "execution_count": 79,
   "id": "d7260af4",
   "metadata": {},
   "outputs": [],
   "source": [
    "#lcal global"
   ]
  },
  {
   "cell_type": "code",
   "execution_count": 82,
   "id": "a2a01a2a",
   "metadata": {},
   "outputs": [],
   "source": [
    "var2=20\n",
    "def f1():\n",
    "    global var1\n",
    "    var1=100\n",
    "    var2=200"
   ]
  },
  {
   "cell_type": "code",
   "execution_count": 83,
   "id": "a18130b6",
   "metadata": {},
   "outputs": [],
   "source": [
    "f1()"
   ]
  },
  {
   "cell_type": "code",
   "execution_count": 84,
   "id": "52370f0b",
   "metadata": {},
   "outputs": [
    {
     "data": {
      "text/plain": [
       "20"
      ]
     },
     "execution_count": 84,
     "metadata": {},
     "output_type": "execute_result"
    }
   ],
   "source": [
    "var2"
   ]
  },
  {
   "cell_type": "code",
   "execution_count": 85,
   "id": "9dc08fe7",
   "metadata": {},
   "outputs": [],
   "source": [
    "var2=20\n",
    "def f1():\n",
    "    global var1,var2\n",
    "    var1=100\n",
    "    var2=200"
   ]
  },
  {
   "cell_type": "code",
   "execution_count": 86,
   "id": "9bae74dd",
   "metadata": {},
   "outputs": [],
   "source": [
    "f1()"
   ]
  },
  {
   "cell_type": "code",
   "execution_count": 87,
   "id": "22f0abf7",
   "metadata": {},
   "outputs": [
    {
     "data": {
      "text/plain": [
       "200"
      ]
     },
     "execution_count": 87,
     "metadata": {},
     "output_type": "execute_result"
    }
   ],
   "source": [
    "var2"
   ]
  },
  {
   "cell_type": "code",
   "execution_count": null,
   "id": "82caff84",
   "metadata": {},
   "outputs": [],
   "source": [
    " v"
   ]
  }
 ],
 "metadata": {
  "kernelspec": {
   "display_name": "Python 3 (ipykernel)",
   "language": "python",
   "name": "python3"
  },
  "language_info": {
   "codemirror_mode": {
    "name": "ipython",
    "version": 3
   },
   "file_extension": ".py",
   "mimetype": "text/x-python",
   "name": "python",
   "nbconvert_exporter": "python",
   "pygments_lexer": "ipython3",
   "version": "3.9.13"
  }
 },
 "nbformat": 4,
 "nbformat_minor": 5
}

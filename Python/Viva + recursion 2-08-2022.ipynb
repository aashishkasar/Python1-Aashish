{
 "cells": [
  {
   "cell_type": "code",
   "execution_count": null,
   "id": "309b8a5f",
   "metadata": {},
   "outputs": [],
   "source": []
  },
  {
   "cell_type": "code",
   "execution_count": 22,
   "id": "8195b675",
   "metadata": {},
   "outputs": [],
   "source": [
    "def sleep_in(weekday,vacation):\n",
    "    if weekday==False and vacation==False:\n",
    "        return True\n",
    "    elif weekday==True and vacation==False:\n",
    "        return False\n",
    "    elif weekday==False and vacation==True:\n",
    "        return True\n"
   ]
  },
  {
   "cell_type": "code",
   "execution_count": 25,
   "id": "597a5df8",
   "metadata": {},
   "outputs": [
    {
     "data": {
      "text/plain": [
       "True"
      ]
     },
     "execution_count": 25,
     "metadata": {},
     "output_type": "execute_result"
    }
   ],
   "source": [
    "sleep_in(False,False)"
   ]
  },
  {
   "cell_type": "code",
   "execution_count": 8,
   "id": "b9f8ea58",
   "metadata": {},
   "outputs": [
    {
     "data": {
      "text/plain": [
       "3"
      ]
     },
     "execution_count": 8,
     "metadata": {},
     "output_type": "execute_result"
    }
   ],
   "source": [
    "def sum_double(a,b):\n",
    "    if a==b:\n",
    "        return (a+b)*2\n",
    "    else:\n",
    "        return a+b\n",
    "sum_double(1,2)        "
   ]
  },
  {
   "cell_type": "code",
   "execution_count": 9,
   "id": "7b14bc28",
   "metadata": {},
   "outputs": [
    {
     "data": {
      "text/plain": [
       "8"
      ]
     },
     "execution_count": 9,
     "metadata": {},
     "output_type": "execute_result"
    }
   ],
   "source": [
    "def diff21(n):\n",
    "    if n<21:\n",
    "        return 21-n\n",
    "    else:\n",
    "        return (n-21)*2\n",
    "diff21(13)"
   ]
  },
  {
   "cell_type": "code",
   "execution_count": 10,
   "id": "dcf6df0d",
   "metadata": {},
   "outputs": [
    {
     "ename": "SyntaxError",
     "evalue": "invalid syntax (1917496821.py, line 3)",
     "output_type": "error",
     "traceback": [
      "\u001b[1;36m  Input \u001b[1;32mIn [10]\u001b[1;36m\u001b[0m\n\u001b[1;33m    return str.[0:2]*2\u001b[0m\n\u001b[1;37m               ^\u001b[0m\n\u001b[1;31mSyntaxError\u001b[0m\u001b[1;31m:\u001b[0m invalid syntax\n"
     ]
    }
   ],
   "source": [
    "def extra_end(str):\n",
    "    if str==\"Hello\":\n",
    "        return str.[-2:]\n",
    "    elif str==\"ab\":\n",
    "        return str*2\n",
    "    elif str==\"Hi\":\n",
    "        return Hi*2\n",
    "extra_end(str)    "
   ]
  },
  {
   "cell_type": "code",
   "execution_count": 11,
   "id": "c728a6bd",
   "metadata": {},
   "outputs": [],
   "source": [
    "def extra_end(str):\n",
    "    return str[-2:]*3    "
   ]
  },
  {
   "cell_type": "code",
   "execution_count": 12,
   "id": "cb101ce6",
   "metadata": {},
   "outputs": [
    {
     "data": {
      "text/plain": [
       "'lololo'"
      ]
     },
     "execution_count": 12,
     "metadata": {},
     "output_type": "execute_result"
    }
   ],
   "source": [
    "extra_end('Hello')"
   ]
  },
  {
   "cell_type": "code",
   "execution_count": 13,
   "id": "804565e5",
   "metadata": {},
   "outputs": [
    {
     "data": {
      "text/plain": [
       "'ababab'"
      ]
     },
     "execution_count": 13,
     "metadata": {},
     "output_type": "execute_result"
    }
   ],
   "source": [
    "extra_end('ab')"
   ]
  },
  {
   "cell_type": "code",
   "execution_count": 14,
   "id": "b03a1436",
   "metadata": {},
   "outputs": [
    {
     "data": {
      "text/plain": [
       "'hihihi'"
      ]
     },
     "execution_count": 14,
     "metadata": {},
     "output_type": "execute_result"
    }
   ],
   "source": [
    "extra_end('hi')"
   ]
  },
  {
   "cell_type": "code",
   "execution_count": null,
   "id": "ac1e69a2",
   "metadata": {},
   "outputs": [],
   "source": []
  },
  {
   "cell_type": "code",
   "execution_count": 1,
   "id": "8785860f",
   "metadata": {},
   "outputs": [],
   "source": [
    "#recursion problem"
   ]
  },
  {
   "cell_type": "code",
   "execution_count": 3,
   "id": "c024a24e",
   "metadata": {},
   "outputs": [],
   "source": [
    "def f1(n):\n",
    "    if n==0:\n",
    "        return n\n",
    "    else:\n",
    "        return n+f1(n-1)"
   ]
  },
  {
   "cell_type": "code",
   "execution_count": 3,
   "id": "f0755891",
   "metadata": {},
   "outputs": [
    {
     "data": {
      "text/plain": [
       "55"
      ]
     },
     "execution_count": 3,
     "metadata": {},
     "output_type": "execute_result"
    }
   ],
   "source": [
    "f1(10)"
   ]
  },
  {
   "cell_type": "code",
   "execution_count": 4,
   "id": "f2ea9512",
   "metadata": {},
   "outputs": [
    {
     "data": {
      "text/plain": [
       "1275"
      ]
     },
     "execution_count": 4,
     "metadata": {},
     "output_type": "execute_result"
    }
   ],
   "source": [
    "f1(50)"
   ]
  },
  {
   "cell_type": "code",
   "execution_count": 6,
   "id": "49c0f013",
   "metadata": {},
   "outputs": [
    {
     "data": {
      "text/plain": [
       "78"
      ]
     },
     "execution_count": 6,
     "metadata": {},
     "output_type": "execute_result"
    }
   ],
   "source": [
    "f1(12)"
   ]
  },
  {
   "cell_type": "code",
   "execution_count": 7,
   "id": "05b1a1c6",
   "metadata": {},
   "outputs": [
    {
     "data": {
      "text/plain": [
       "351"
      ]
     },
     "execution_count": 7,
     "metadata": {},
     "output_type": "execute_result"
    }
   ],
   "source": [
    "f1(26)"
   ]
  },
  {
   "cell_type": "code",
   "execution_count": null,
   "id": "69b68f92",
   "metadata": {},
   "outputs": [],
   "source": []
  }
 ],
 "metadata": {
  "kernelspec": {
   "display_name": "Python 3 (ipykernel)",
   "language": "python",
   "name": "python3"
  },
  "language_info": {
   "codemirror_mode": {
    "name": "ipython",
    "version": 3
   },
   "file_extension": ".py",
   "mimetype": "text/x-python",
   "name": "python",
   "nbconvert_exporter": "python",
   "pygments_lexer": "ipython3",
   "version": "3.9.12"
  }
 },
 "nbformat": 4,
 "nbformat_minor": 5
}

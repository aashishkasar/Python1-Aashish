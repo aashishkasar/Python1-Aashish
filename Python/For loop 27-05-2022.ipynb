{
 "cells": [
  {
   "cell_type": "code",
   "execution_count": 2,
   "id": "1d7779a8",
   "metadata": {},
   "outputs": [
    {
     "data": {
      "text/plain": [
       "True"
      ]
     },
     "execution_count": 2,
     "metadata": {},
     "output_type": "execute_result"
    }
   ],
   "source": [
    "x=\"abcd\"\n",
    "\"d\" in x"
   ]
  },
  {
   "cell_type": "code",
   "execution_count": 3,
   "id": "0e9c315b",
   "metadata": {},
   "outputs": [
    {
     "data": {
      "text/plain": [
       "False"
      ]
     },
     "execution_count": 3,
     "metadata": {},
     "output_type": "execute_result"
    }
   ],
   "source": [
    "\"d\" not in x"
   ]
  },
  {
   "cell_type": "code",
   "execution_count": 4,
   "id": "dc84da18",
   "metadata": {},
   "outputs": [
    {
     "data": {
      "text/plain": [
       "False"
      ]
     },
     "execution_count": 4,
     "metadata": {},
     "output_type": "execute_result"
    }
   ],
   "source": [
    "\"wb\" in x"
   ]
  },
  {
   "cell_type": "code",
   "execution_count": 5,
   "id": "63ffe8bb",
   "metadata": {},
   "outputs": [
    {
     "data": {
      "text/plain": [
       "True"
      ]
     },
     "execution_count": 5,
     "metadata": {},
     "output_type": "execute_result"
    }
   ],
   "source": [
    "\"ab\" in x"
   ]
  },
  {
   "cell_type": "code",
   "execution_count": 6,
   "id": "fa18e51a",
   "metadata": {},
   "outputs": [],
   "source": [
    "#sequencial data types ---- string, list, tupple, sets, dictionary"
   ]
  },
  {
   "cell_type": "code",
   "execution_count": 7,
   "id": "407cd77d",
   "metadata": {},
   "outputs": [
    {
     "name": "stdout",
     "output_type": "stream",
     "text": [
      "a\n",
      "b\n",
      "c\n"
     ]
    }
   ],
   "source": [
    "x=\"abc\"\n",
    "for y in x:\n",
    "    print(y)"
   ]
  },
  {
   "cell_type": "code",
   "execution_count": 9,
   "id": "92019551",
   "metadata": {},
   "outputs": [
    {
     "name": "stdout",
     "output_type": "stream",
     "text": [
      "a\n",
      "b\n",
      "c\n",
      "d\n",
      "e\n",
      "f\n",
      "g\n",
      "h\n",
      "i\n",
      "j\n",
      "k\n",
      "l\n",
      "m\n",
      "n\n",
      "o\n",
      "p\n",
      "q\n",
      "r\n",
      "s\n",
      "t\n",
      "u\n",
      "v\n",
      "w\n",
      "x\n",
      "y\n",
      "z\n"
     ]
    }
   ],
   "source": [
    "x=\"abcdefghijklmnopqrstuvwxyz\"\n",
    "for y in x:\n",
    "    print(y)"
   ]
  },
  {
   "cell_type": "code",
   "execution_count": 10,
   "id": "c927a2b1",
   "metadata": {},
   "outputs": [
    {
     "name": "stdout",
     "output_type": "stream",
     "text": [
      "a\n",
      "hi\n",
      "b\n",
      "hi\n",
      "c\n",
      "hi\n",
      "d\n",
      "hi\n",
      "e\n",
      "hi\n",
      "f\n",
      "hi\n",
      "g\n",
      "hi\n",
      "h\n",
      "hi\n",
      "i\n",
      "hi\n",
      "j\n",
      "hi\n",
      "k\n",
      "hi\n",
      "l\n",
      "hi\n",
      "m\n",
      "hi\n",
      "n\n",
      "hi\n",
      "o\n",
      "hi\n",
      "p\n",
      "hi\n",
      "q\n",
      "hi\n",
      "r\n",
      "hi\n",
      "s\n",
      "hi\n",
      "t\n",
      "hi\n",
      "u\n",
      "hi\n",
      "v\n",
      "hi\n",
      "w\n",
      "hi\n",
      "x\n",
      "hi\n",
      "y\n",
      "hi\n",
      "z\n",
      "hi\n"
     ]
    }
   ],
   "source": [
    "x=\"abcdefghijklmnopqrstuvwxyz\"\n",
    "for y in x:\n",
    "    print(y)\n",
    "    print(\"hi\")"
   ]
  },
  {
   "cell_type": "code",
   "execution_count": 11,
   "id": "d61bf34e",
   "metadata": {},
   "outputs": [
    {
     "name": "stdout",
     "output_type": "stream",
     "text": [
      "1\n",
      "2\n",
      "3\n",
      "4\n",
      "a\n"
     ]
    }
   ],
   "source": [
    "x=[1,2,3,4,\"a\"]\n",
    "for y in x:\n",
    "    print(y)"
   ]
  },
  {
   "cell_type": "code",
   "execution_count": 12,
   "id": "f23084f4",
   "metadata": {},
   "outputs": [
    {
     "name": "stdout",
     "output_type": "stream",
     "text": [
      "1\n",
      "2\n",
      "3\n",
      "4\n",
      "a\n"
     ]
    }
   ],
   "source": [
    "x=(1,2,3,4,\"a\")\n",
    "for y in x:\n",
    "    print(y)"
   ]
  },
  {
   "cell_type": "code",
   "execution_count": 13,
   "id": "f95d4d36",
   "metadata": {},
   "outputs": [
    {
     "name": "stdout",
     "output_type": "stream",
     "text": [
      "1\n",
      "2\n",
      "3\n",
      "4\n",
      "a\n"
     ]
    }
   ],
   "source": [
    "x={1,2,3,4,\"a\"}\n",
    "for y in x:\n",
    "    print(y)"
   ]
  },
  {
   "cell_type": "code",
   "execution_count": 14,
   "id": "63c3887e",
   "metadata": {},
   "outputs": [
    {
     "name": "stdout",
     "output_type": "stream",
     "text": [
      "name\n",
      "age\n",
      "wight\n",
      "height\n"
     ]
    }
   ],
   "source": [
    "x={\"name\":\"virat\",\"age\":33,\"wight\":75,\"height\":172}\n",
    "for y in x:\n",
    "    print(y)"
   ]
  },
  {
   "cell_type": "code",
   "execution_count": 15,
   "id": "83df2ffe",
   "metadata": {},
   "outputs": [
    {
     "name": "stdout",
     "output_type": "stream",
     "text": [
      "name\n",
      "age\n",
      "wight\n",
      "height\n"
     ]
    }
   ],
   "source": [
    "x={\"name\":\"virat\",\"age\":33,\"wight\":75,\"height\":172}\n",
    "for y in x.keys():\n",
    "    print(y)"
   ]
  },
  {
   "cell_type": "code",
   "execution_count": 16,
   "id": "db56e3cb",
   "metadata": {},
   "outputs": [
    {
     "name": "stdout",
     "output_type": "stream",
     "text": [
      "virat\n",
      "33\n",
      "75\n",
      "172\n"
     ]
    }
   ],
   "source": [
    "x={\"name\":\"virat\",\"age\":33,\"wight\":75,\"height\":172}\n",
    "for y in x.values():\n",
    "    print(y)"
   ]
  },
  {
   "cell_type": "code",
   "execution_count": 17,
   "id": "7c4d0947",
   "metadata": {},
   "outputs": [
    {
     "name": "stdout",
     "output_type": "stream",
     "text": [
      "('name', 'virat')\n",
      "('age', 33)\n",
      "('wight', 75)\n",
      "('height', 172)\n"
     ]
    }
   ],
   "source": [
    "x={\"name\":\"virat\",\"age\":33,\"wight\":75,\"height\":172}\n",
    "for y in x.items():\n",
    "    print(y)"
   ]
  },
  {
   "cell_type": "code",
   "execution_count": 18,
   "id": "2d3de23c",
   "metadata": {},
   "outputs": [],
   "source": [
    "#range(startig range, ending range)---also consider as sequential data type"
   ]
  },
  {
   "cell_type": "code",
   "execution_count": 19,
   "id": "32b38fe8",
   "metadata": {},
   "outputs": [
    {
     "data": {
      "text/plain": [
       "range(1, 101)"
      ]
     },
     "execution_count": 19,
     "metadata": {},
     "output_type": "execute_result"
    }
   ],
   "source": [
    "range(1,101)"
   ]
  },
  {
   "cell_type": "code",
   "execution_count": 25,
   "id": "e01675a3",
   "metadata": {},
   "outputs": [
    {
     "name": "stdout",
     "output_type": "stream",
     "text": [
      "1\n",
      "2\n",
      "3\n",
      "4\n",
      "5\n",
      "6\n",
      "7\n",
      "8\n",
      "9\n"
     ]
    }
   ],
   "source": [
    "for y in range(1,10):\n",
    "    print(y)"
   ]
  },
  {
   "cell_type": "code",
   "execution_count": 26,
   "id": "c77d496c",
   "metadata": {},
   "outputs": [
    {
     "name": "stdout",
     "output_type": "stream",
     "text": [
      "0\n",
      "2\n",
      "4\n",
      "6\n",
      "8\n"
     ]
    }
   ],
   "source": [
    "#step size ---how many jump to made\n",
    "for y in range(0,10,2):\n",
    "    print(y)"
   ]
  },
  {
   "cell_type": "code",
   "execution_count": 27,
   "id": "209128cf",
   "metadata": {},
   "outputs": [
    {
     "name": "stdout",
     "output_type": "stream",
     "text": [
      "0\n",
      "3\n",
      "6\n",
      "9\n"
     ]
    }
   ],
   "source": [
    "for y in range(0,10,3):\n",
    "    print(y)"
   ]
  },
  {
   "cell_type": "code",
   "execution_count": 28,
   "id": "a15e6a05",
   "metadata": {},
   "outputs": [
    {
     "name": "stdout",
     "output_type": "stream",
     "text": [
      "0\n",
      "1\n",
      "2\n",
      "3\n",
      "4\n"
     ]
    }
   ],
   "source": [
    "for y in range(0,10):\n",
    "    if y==5:\n",
    "        break\n",
    "    print(y)"
   ]
  },
  {
   "cell_type": "code",
   "execution_count": 29,
   "id": "c8ab5cda",
   "metadata": {},
   "outputs": [
    {
     "name": "stdout",
     "output_type": "stream",
     "text": [
      "0\n",
      "1\n",
      "2\n",
      "3\n",
      "4\n",
      "6\n",
      "7\n",
      "8\n",
      "9\n"
     ]
    }
   ],
   "source": [
    "for y in range(0,10):\n",
    "    if y==5:\n",
    "        continue\n",
    "    print(y)"
   ]
  },
  {
   "cell_type": "code",
   "execution_count": 31,
   "id": "1809e566",
   "metadata": {},
   "outputs": [
    {
     "name": "stdout",
     "output_type": "stream",
     "text": [
      "10\n",
      "9\n",
      "8\n",
      "7\n",
      "6\n",
      "5\n",
      "4\n",
      "3\n",
      "2\n",
      "1\n"
     ]
    }
   ],
   "source": [
    "for y in range(10,0,-1):\n",
    "    print(y)"
   ]
  },
  {
   "cell_type": "code",
   "execution_count": 34,
   "id": "2abd0df6",
   "metadata": {},
   "outputs": [
    {
     "name": "stdout",
     "output_type": "stream",
     "text": [
      "100\n",
      "99\n",
      "98\n",
      "97\n",
      "96\n",
      "95\n",
      "94\n",
      "93\n",
      "92\n",
      "91\n",
      "90\n",
      "89\n",
      "88\n",
      "87\n",
      "86\n",
      "85\n",
      "84\n",
      "83\n",
      "82\n",
      "81\n",
      "80\n",
      "79\n",
      "78\n",
      "77\n",
      "76\n",
      "75\n",
      "74\n",
      "73\n",
      "72\n",
      "71\n",
      "70\n",
      "69\n",
      "68\n",
      "67\n",
      "66\n",
      "65\n",
      "64\n",
      "63\n",
      "62\n",
      "61\n",
      "60\n",
      "59\n",
      "58\n",
      "57\n",
      "56\n",
      "55\n",
      "54\n",
      "53\n",
      "52\n",
      "51\n",
      "50\n",
      "49\n",
      "48\n",
      "47\n",
      "46\n",
      "45\n",
      "44\n",
      "43\n",
      "42\n",
      "41\n",
      "40\n",
      "39\n",
      "38\n",
      "37\n",
      "36\n",
      "35\n",
      "34\n",
      "33\n",
      "32\n",
      "31\n",
      "30\n",
      "29\n",
      "28\n",
      "27\n",
      "26\n",
      "25\n",
      "24\n",
      "23\n",
      "22\n",
      "21\n",
      "20\n",
      "19\n",
      "18\n",
      "17\n",
      "16\n",
      "15\n",
      "14\n",
      "13\n",
      "12\n",
      "11\n"
     ]
    }
   ],
   "source": [
    "for y in range(100,10,-1):\n",
    "    print(y)"
   ]
  },
  {
   "cell_type": "code",
   "execution_count": 35,
   "id": "1a9ebdec",
   "metadata": {},
   "outputs": [
    {
     "name": "stdout",
     "output_type": "stream",
     "text": [
      "hi\n"
     ]
    }
   ],
   "source": [
    "x=1\n",
    "if x==1:\n",
    "    print(\"hi\")"
   ]
  },
  {
   "cell_type": "code",
   "execution_count": 36,
   "id": "ed28d0c9",
   "metadata": {},
   "outputs": [
    {
     "name": "stdout",
     "output_type": "stream",
     "text": [
      "hi\n"
     ]
    }
   ],
   "source": [
    "#short hand if statement\n",
    "\n",
    "if x==1:print(\"hi\")"
   ]
  },
  {
   "cell_type": "code",
   "execution_count": 37,
   "id": "35aef699",
   "metadata": {},
   "outputs": [
    {
     "name": "stdout",
     "output_type": "stream",
     "text": [
      "hi\n",
      "bye\n"
     ]
    }
   ],
   "source": [
    "if True:\n",
    "    print(\"hi\")\n",
    "    print(\"bye\")"
   ]
  },
  {
   "cell_type": "code",
   "execution_count": 38,
   "id": "be63961e",
   "metadata": {},
   "outputs": [
    {
     "name": "stdout",
     "output_type": "stream",
     "text": [
      "hi\n",
      "bye\n"
     ]
    }
   ],
   "source": [
    "if True:print(\"hi\"),print(\"bye\")"
   ]
  },
  {
   "cell_type": "code",
   "execution_count": 44,
   "id": "2d02532e",
   "metadata": {},
   "outputs": [
    {
     "name": "stdout",
     "output_type": "stream",
     "text": [
      "bye\n"
     ]
    }
   ],
   "source": [
    "if True:\n",
    "    if x==10:\n",
    "        print(\"hi\")\n",
    "    elif x<100:\n",
    "        print(\"bye\")\n",
    "    else:\n",
    "        print(\"not equal\")"
   ]
  },
  {
   "cell_type": "code",
   "execution_count": 41,
   "id": "7e0caf0e",
   "metadata": {},
   "outputs": [
    {
     "name": "stdout",
     "output_type": "stream",
     "text": [
      "bye\n"
     ]
    }
   ],
   "source": [
    "print(\"hi\") if False else print(\"bye\")"
   ]
  },
  {
   "cell_type": "code",
   "execution_count": 49,
   "id": "4e837db7",
   "metadata": {},
   "outputs": [],
   "source": [
    "#Q l=[1,2,3,\"a\",\"b\",\"c\",14] , how many numbers and how many character?\n",
    "l=[1,2,3,\"a\",\"b\",\"c\",14]\n",
    "i=0\n",
    "c=0\n",
    "for y in l:\n",
    "    if type(y)==int:\n",
    "        i=i+1\n",
    "    else:\n",
    "        c=c+1"
   ]
  },
  {
   "cell_type": "code",
   "execution_count": 51,
   "id": "17830a98",
   "metadata": {},
   "outputs": [
    {
     "data": {
      "text/plain": [
       "4"
      ]
     },
     "execution_count": 51,
     "metadata": {},
     "output_type": "execute_result"
    }
   ],
   "source": [
    "i"
   ]
  },
  {
   "cell_type": "code",
   "execution_count": 52,
   "id": "126f51db",
   "metadata": {},
   "outputs": [
    {
     "data": {
      "text/plain": [
       "3"
      ]
     },
     "execution_count": 52,
     "metadata": {},
     "output_type": "execute_result"
    }
   ],
   "source": [
    "c"
   ]
  },
  {
   "cell_type": "code",
   "execution_count": 53,
   "id": "7ed99e93",
   "metadata": {},
   "outputs": [],
   "source": [
    "l=[1,2,3,\"a\",\"b\",\"c\",14,13.1,12+4j]\n",
    "a=0\n",
    "b=0\n",
    "c=0\n",
    "d=0\n",
    "\n",
    "for y in l:\n",
    "    if type(y)==int:\n",
    "        a+=1     \n",
    "    elif type(y)==str:\n",
    "=        b+=1\n",
    "    elif type(y)==float:\n",
    "        c+=1\n",
    "    else:\n",
    "        d+=1"
   ]
  },
  {
   "cell_type": "code",
   "execution_count": 54,
   "id": "64d2e885",
   "metadata": {},
   "outputs": [
    {
     "data": {
      "text/plain": [
       "4"
      ]
     },
     "execution_count": 54,
     "metadata": {},
     "output_type": "execute_result"
    }
   ],
   "source": [
    "a"
   ]
  },
  {
   "cell_type": "code",
   "execution_count": 55,
   "id": "2b287d61",
   "metadata": {},
   "outputs": [
    {
     "data": {
      "text/plain": [
       "3"
      ]
     },
     "execution_count": 55,
     "metadata": {},
     "output_type": "execute_result"
    }
   ],
   "source": [
    "b"
   ]
  },
  {
   "cell_type": "code",
   "execution_count": 56,
   "id": "cbaf6aef",
   "metadata": {},
   "outputs": [
    {
     "data": {
      "text/plain": [
       "1"
      ]
     },
     "execution_count": 56,
     "metadata": {},
     "output_type": "execute_result"
    }
   ],
   "source": [
    "c"
   ]
  },
  {
   "cell_type": "code",
   "execution_count": 57,
   "id": "3fccc16f",
   "metadata": {},
   "outputs": [
    {
     "data": {
      "text/plain": [
       "1"
      ]
     },
     "execution_count": 57,
     "metadata": {},
     "output_type": "execute_result"
    }
   ],
   "source": [
    "d"
   ]
  },
  {
   "cell_type": "code",
   "execution_count": 80,
   "id": "009c54b9",
   "metadata": {},
   "outputs": [],
   "source": [
    "x=0\n",
    "for y in range(0,100):\n",
    "    if y%2==0:\n",
    "        x+=1"
   ]
  },
  {
   "cell_type": "code",
   "execution_count": 81,
   "id": "b51768ec",
   "metadata": {},
   "outputs": [
    {
     "data": {
      "text/plain": [
       "50"
      ]
     },
     "execution_count": 81,
     "metadata": {},
     "output_type": "execute_result"
    }
   ],
   "source": [
    "x"
   ]
  },
  {
   "cell_type": "code",
   "execution_count": 82,
   "id": "cd3a4b31",
   "metadata": {},
   "outputs": [],
   "source": [
    "x=0\n",
    "for y in range(0,100):\n",
    "    if y%2!=0:\n",
    "        x+=1"
   ]
  },
  {
   "cell_type": "code",
   "execution_count": 83,
   "id": "c8068f8f",
   "metadata": {},
   "outputs": [
    {
     "data": {
      "text/plain": [
       "50"
      ]
     },
     "execution_count": 83,
     "metadata": {},
     "output_type": "execute_result"
    }
   ],
   "source": [
    "x"
   ]
  },
  {
   "cell_type": "code",
   "execution_count": 8,
   "id": "146c2a64",
   "metadata": {},
   "outputs": [
    {
     "ename": "SyntaxError",
     "evalue": "invalid syntax (1727336354.py, line 1)",
     "output_type": "error",
     "traceback": [
      "\u001b[1;36m  File \u001b[1;32m\"C:\\Users\\ADMIN\\AppData\\Local\\Temp\\ipykernel_4844\\1727336354.py\"\u001b[1;36m, line \u001b[1;32m1\u001b[0m\n\u001b[1;33m    for i in x;\u001b[0m\n\u001b[1;37m              ^\u001b[0m\n\u001b[1;31mSyntaxError\u001b[0m\u001b[1;31m:\u001b[0m invalid syntax\n"
     ]
    }
   ],
   "source": [
    "\n",
    "for i in x;\n",
    "    if i++10:\n",
    "        x+=1\n",
    "        "
   ]
  },
  {
   "cell_type": "code",
   "execution_count": 3,
   "id": "b38acf00",
   "metadata": {},
   "outputs": [
    {
     "name": "stdout",
     "output_type": "stream",
     "text": [
      "Enter Number: 3\n",
      "3 is Prime\n"
     ]
    }
   ],
   "source": [
    "# Program to check if a number is prime or not\n",
    "\n",
    "n=int(input(\"Enter Number: \"))\n",
    "\n",
    "for i in range(2,n):\n",
    "    if n%i == 0:\n",
    "        print(n,\"is not prime\")\n",
    "        break\n",
    "else:\n",
    "    print(n,\"is Prime\")"
   ]
  },
  {
   "cell_type": "code",
   "execution_count": 6,
   "id": "030b1891",
   "metadata": {},
   "outputs": [
    {
     "name": "stdout",
     "output_type": "stream",
     "text": [
      "Enter Number: 7\n",
      "7 is a prime number\n"
     ]
    }
   ],
   "source": [
    "# Program to check if a number is prime or not\n",
    "\n",
    "num = int(input(\"Enter Number: \"))\n",
    "\n",
    "# prime number are greater than 1\n",
    "\n",
    "if num >1:\n",
    "    # check for factors\n",
    "    for i in range(2,num):\n",
    "        if (num % i) == 0:\n",
    "            print(num,\"is not a prime number\")\n",
    "            print(i,\"times\",num//i,\"is\",num)\n",
    "            break\n",
    "    else:\n",
    "        print(num,\"is a prime number\")"
   ]
  },
  {
   "cell_type": "code",
   "execution_count": 9,
   "id": "96d1cdc5",
   "metadata": {},
   "outputs": [
    {
     "ename": "SyntaxError",
     "evalue": "invalid syntax (262603240.py, line 1)",
     "output_type": "error",
     "traceback": [
      "\u001b[1;36m  File \u001b[1;32m\"C:\\Users\\ADMIN\\AppData\\Local\\Temp\\ipykernel_8208\\262603240.py\"\u001b[1;36m, line \u001b[1;32m1\u001b[0m\n\u001b[1;33m    else:\u001b[0m\n\u001b[1;37m    ^\u001b[0m\n\u001b[1;31mSyntaxError\u001b[0m\u001b[1;31m:\u001b[0m invalid syntax\n"
     ]
    }
   ],
   "source": [
    "else:\n",
    "    print(num,\"is a prime number\")\n",
    "    \n",
    "    1000000007"
   ]
  },
  {
   "cell_type": "code",
   "execution_count": null,
   "id": "6081fb94",
   "metadata": {},
   "outputs": [],
   "source": [
    "// Armstrong\n",
    "// For a given 3 digit number, find whether it is armstrong number or not. An Armstrong number of three digits is an integer such that the sum of the cubes of its digits is equal to the number itself. Print Yes if it is a armstrong number else print No.\n",
    "\n",
    "// Input\n",
    "// One integer, denoting the 3 digit number.\n",
    "\n",
    "// Output\n",
    "// One string, denoting Yes or No.\n",
    "\n",
    "// Example\n",
    "// Input1:\n",
    "\n",
    "// 153\n",
    "// Output1:\n",
    "\n",
    "// Yes\n",
    "// Explanation:\n",
    "\n",
    "// 1^3 + 5^3 + 3^3 = 1 + 125 + 27 = 153\n",
    "easy ahe bagh kr solve\n",
    "// Mean\n",
    "// Given the marks of n students, calculate the mean.\n",
    "\n",
    "// Note: If the result is a decimal Value, print it's floor value.\n",
    "\n",
    "// Input\n",
    "// First line contains an integer, denoting n.\n",
    "\n",
    "// Second line contains n space seperated integers, denoting the marks.\n",
    "\n",
    "// Output\n",
    "// One Integer, denoting the mean of the marks.\n",
    "\n",
    "// Example\n",
    "// Input:\n",
    "\n",
    "// 4\n",
    "// 56 67 30 82\n",
    "// Output:\n",
    "\n",
    "// 58\n",
    "// Explanation:\n",
    "\n",
    "// 56+67+30+82 = 235\n",
    "// Mean = 235/4 = 58.75\n",
    "// floor(58.75) is 58\n",
    "// So, the Output is 58."
   ]
  },
  {
   "cell_type": "code",
   "execution_count": 16,
   "id": "3fe70097",
   "metadata": {},
   "outputs": [
    {
     "name": "stdout",
     "output_type": "stream",
     "text": [
      "Enter a number: 22\n",
      "22 is not a prime number\n",
      "2 times 11 is 22\n"
     ]
    }
   ],
   "source": [
    "# Program to check if a number is prime or not\n",
    "\n",
    "#num = 407\n",
    "\n",
    "# To take input from the user\n",
    "num = int(input(\"Enter a number: \"))\n",
    "\n",
    "# prime numbers are greater than 1\n",
    "if num > 1:\n",
    "   # check for factors\n",
    "   for i in range(2,num):\n",
    "       if (num % i) == 0:\n",
    "           print(num,\"is not a prime number\")\n",
    "           print(i,\"times\",num//i,\"is\",num)\n",
    "           break\n",
    "   else:\n",
    "       print(num,\"is a prime number\")\n",
    "       \n",
    "# if input number is less than\n",
    "# or equal to 1, it is not prime\n",
    "else:\n",
    "   print(num,\"is not a prime number\")"
   ]
  },
  {
   "cell_type": "code",
   "execution_count": 5,
   "id": "795ed0f6",
   "metadata": {},
   "outputs": [],
   "source": [
    "l1=[\"a\",\"b\",1,2,2.2]\n",
    "\n",
    "l2=[]\n",
    "for i in l1:\n",
    "    if str(i).isalpha():\n",
    "        l2.append(i)"
   ]
  },
  {
   "cell_type": "code",
   "execution_count": 7,
   "id": "ba8e660b",
   "metadata": {},
   "outputs": [
    {
     "data": {
      "text/plain": [
       "'ab'"
      ]
     },
     "execution_count": 7,
     "metadata": {},
     "output_type": "execute_result"
    }
   ],
   "source": [
    "\"\".join(l2)"
   ]
  },
  {
   "cell_type": "code",
   "execution_count": null,
   "id": "e33c7ffd",
   "metadata": {},
   "outputs": [],
   "source": []
  }
 ],
 "metadata": {
  "kernelspec": {
   "display_name": "Python 3 (ipykernel)",
   "language": "python",
   "name": "python3"
  },
  "language_info": {
   "codemirror_mode": {
    "name": "ipython",
    "version": 3
   },
   "file_extension": ".py",
   "mimetype": "text/x-python",
   "name": "python",
   "nbconvert_exporter": "python",
   "pygments_lexer": "ipython3",
   "version": "3.9.13"
  }
 },
 "nbformat": 4,
 "nbformat_minor": 5
}

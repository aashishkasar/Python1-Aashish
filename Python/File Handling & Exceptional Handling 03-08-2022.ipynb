{
 "cells": [
  {
   "cell_type": "markdown",
   "id": "cd831b34",
   "metadata": {},
   "source": [
    "## file handling"
   ]
  },
  {
   "cell_type": "code",
   "execution_count": 1,
   "id": "40bda12f",
   "metadata": {},
   "outputs": [],
   "source": [
    "#open()\n"
   ]
  },
  {
   "cell_type": "code",
   "execution_count": 24,
   "id": "eca96f93",
   "metadata": {},
   "outputs": [],
   "source": [
    "x=open(\"D:\\\\A Data Science\\\\File Handling\\\\New Text Document.txt\",\"r\")"
   ]
  },
  {
   "cell_type": "code",
   "execution_count": 25,
   "id": "6abd54c5",
   "metadata": {},
   "outputs": [
    {
     "data": {
      "text/plain": [
       "'Hi Everyone'"
      ]
     },
     "execution_count": 25,
     "metadata": {},
     "output_type": "execute_result"
    }
   ],
   "source": [
    "x.read()"
   ]
  },
  {
   "cell_type": "code",
   "execution_count": 26,
   "id": "8a960939",
   "metadata": {},
   "outputs": [],
   "source": [
    "x.close()"
   ]
  },
  {
   "cell_type": "code",
   "execution_count": 27,
   "id": "7dcec458",
   "metadata": {},
   "outputs": [
    {
     "ename": "ValueError",
     "evalue": "I/O operation on closed file.",
     "output_type": "error",
     "traceback": [
      "\u001b[1;31m---------------------------------------------------------------------------\u001b[0m",
      "\u001b[1;31mValueError\u001b[0m                                Traceback (most recent call last)",
      "Input \u001b[1;32mIn [27]\u001b[0m, in \u001b[0;36m<cell line: 1>\u001b[1;34m()\u001b[0m\n\u001b[1;32m----> 1\u001b[0m \u001b[43mx\u001b[49m\u001b[38;5;241;43m.\u001b[39;49m\u001b[43mread\u001b[49m\u001b[43m(\u001b[49m\u001b[43m)\u001b[49m\n",
      "\u001b[1;31mValueError\u001b[0m: I/O operation on closed file."
     ]
    }
   ],
   "source": [
    "x.read()"
   ]
  },
  {
   "cell_type": "code",
   "execution_count": 28,
   "id": "f136f3d1",
   "metadata": {},
   "outputs": [],
   "source": [
    "x.close()"
   ]
  },
  {
   "cell_type": "code",
   "execution_count": 29,
   "id": "70c7ffa7",
   "metadata": {},
   "outputs": [],
   "source": [
    "x=open(\"D:\\\\A Data Science\\\\File Handling\\\\New Text Document.txt\",\"w\")"
   ]
  },
  {
   "cell_type": "code",
   "execution_count": 30,
   "id": "f2f2c7fe",
   "metadata": {},
   "outputs": [
    {
     "data": {
      "text/plain": [
       "11"
      ]
     },
     "execution_count": 30,
     "metadata": {},
     "output_type": "execute_result"
    }
   ],
   "source": [
    "x.write(\"Hi Everyone\")"
   ]
  },
  {
   "cell_type": "code",
   "execution_count": 31,
   "id": "c87829e9",
   "metadata": {},
   "outputs": [],
   "source": [
    "x.close()"
   ]
  },
  {
   "cell_type": "code",
   "execution_count": 32,
   "id": "019f6ea0",
   "metadata": {},
   "outputs": [],
   "source": [
    "x=open(\"D:\\\\A Data Science\\\\File Handling\\\\New Text Document.txt\",\"r\")"
   ]
  },
  {
   "cell_type": "code",
   "execution_count": 33,
   "id": "a8c4177c",
   "metadata": {},
   "outputs": [
    {
     "data": {
      "text/plain": [
       "'Hi Everyone'"
      ]
     },
     "execution_count": 33,
     "metadata": {},
     "output_type": "execute_result"
    }
   ],
   "source": [
    "x.read()"
   ]
  },
  {
   "cell_type": "code",
   "execution_count": 34,
   "id": "b44b5e51",
   "metadata": {},
   "outputs": [],
   "source": [
    "x.close()"
   ]
  },
  {
   "cell_type": "code",
   "execution_count": 35,
   "id": "acab8713",
   "metadata": {},
   "outputs": [],
   "source": [
    "x=open(\"D:\\\\A Data Science\\\\File Handling\\\\New Text Document.txt\",\"a\")"
   ]
  },
  {
   "cell_type": "code",
   "execution_count": 36,
   "id": "8e97a8fd",
   "metadata": {},
   "outputs": [
    {
     "data": {
      "text/plain": [
       "20"
      ]
     },
     "execution_count": 36,
     "metadata": {},
     "output_type": "execute_result"
    }
   ],
   "source": [
    "x.write(\" Learn File Handling\")"
   ]
  },
  {
   "cell_type": "code",
   "execution_count": 38,
   "id": "7c48f8a8",
   "metadata": {},
   "outputs": [],
   "source": [
    "x.close()"
   ]
  },
  {
   "cell_type": "code",
   "execution_count": 39,
   "id": "5389ca37",
   "metadata": {},
   "outputs": [],
   "source": [
    "x=open(\"D:\\\\A Data Science\\\\File Handling\\\\New Text Document.txt\",\"r\")"
   ]
  },
  {
   "cell_type": "code",
   "execution_count": 40,
   "id": "537c4e0a",
   "metadata": {},
   "outputs": [
    {
     "data": {
      "text/plain": [
       "'Hi Everyone Learn File Handling'"
      ]
     },
     "execution_count": 40,
     "metadata": {},
     "output_type": "execute_result"
    }
   ],
   "source": [
    "x.read()"
   ]
  },
  {
   "cell_type": "code",
   "execution_count": 41,
   "id": "282e8408",
   "metadata": {},
   "outputs": [],
   "source": [
    "x.close()"
   ]
  },
  {
   "cell_type": "code",
   "execution_count": 43,
   "id": "cef7efb2",
   "metadata": {},
   "outputs": [],
   "source": [
    "x=open(\"D:\\\\A Data Science\\\\File Handling\\\\New Text Document1.txt\",\"x\")"
   ]
  },
  {
   "cell_type": "code",
   "execution_count": 44,
   "id": "cdac2019",
   "metadata": {},
   "outputs": [],
   "source": [
    "x.close()"
   ]
  },
  {
   "cell_type": "code",
   "execution_count": 50,
   "id": "5d2c9a67",
   "metadata": {},
   "outputs": [],
   "source": [
    "x=open(\"D:\\\\A Data Science\\\\File Handling\\\\New Text Document1.txt\",\"w\")"
   ]
  },
  {
   "cell_type": "code",
   "execution_count": 51,
   "id": "374757b3",
   "metadata": {},
   "outputs": [
    {
     "data": {
      "text/plain": [
       "26"
      ]
     },
     "execution_count": 51,
     "metadata": {},
     "output_type": "execute_result"
    }
   ],
   "source": [
    "x.write(\"hey hows the file handling\")"
   ]
  },
  {
   "cell_type": "code",
   "execution_count": 52,
   "id": "48f25864",
   "metadata": {},
   "outputs": [],
   "source": [
    "x.close()"
   ]
  },
  {
   "cell_type": "code",
   "execution_count": 53,
   "id": "a9b3f3ae",
   "metadata": {},
   "outputs": [],
   "source": [
    "x=open(\"D:\\\\A Data Science\\\\File Handling\\\\New Text Document1.txt\",\"r\")"
   ]
  },
  {
   "cell_type": "code",
   "execution_count": 54,
   "id": "3f4bc84e",
   "metadata": {},
   "outputs": [
    {
     "data": {
      "text/plain": [
       "'hey hows the file handling'"
      ]
     },
     "execution_count": 54,
     "metadata": {},
     "output_type": "execute_result"
    }
   ],
   "source": [
    "x.read()"
   ]
  },
  {
   "cell_type": "code",
   "execution_count": 55,
   "id": "a9e4e4f1",
   "metadata": {},
   "outputs": [],
   "source": [
    "x.close()"
   ]
  },
  {
   "cell_type": "code",
   "execution_count": 56,
   "id": "635df6f1",
   "metadata": {},
   "outputs": [],
   "source": [
    "x=open(\"D:\\\\A Data Science\\\\File Handling\\\\New Text Document1.txt\",\"a\")"
   ]
  },
  {
   "cell_type": "code",
   "execution_count": 57,
   "id": "c843fb46",
   "metadata": {},
   "outputs": [
    {
     "data": {
      "text/plain": [
       "18"
      ]
     },
     "execution_count": 57,
     "metadata": {},
     "output_type": "execute_result"
    }
   ],
   "source": [
    "x.write(\"Easy To Understand\")"
   ]
  },
  {
   "cell_type": "code",
   "execution_count": 58,
   "id": "f44cd943",
   "metadata": {},
   "outputs": [],
   "source": [
    "x.close()"
   ]
  },
  {
   "cell_type": "code",
   "execution_count": 62,
   "id": "bd6f395b",
   "metadata": {},
   "outputs": [],
   "source": [
    "x=open(\"D:\\\\A Data Science\\\\File Handling\\\\New Text Document1.txt\",\"r\")"
   ]
  },
  {
   "cell_type": "code",
   "execution_count": 63,
   "id": "5d79ac94",
   "metadata": {},
   "outputs": [
    {
     "data": {
      "text/plain": [
       "'hey hows the file handlingEasy To Understand'"
      ]
     },
     "execution_count": 63,
     "metadata": {},
     "output_type": "execute_result"
    }
   ],
   "source": [
    "x.read()"
   ]
  },
  {
   "cell_type": "code",
   "execution_count": 64,
   "id": "ccf7389a",
   "metadata": {},
   "outputs": [],
   "source": [
    "x.close()"
   ]
  },
  {
   "cell_type": "code",
   "execution_count": 10,
   "id": "dca34611",
   "metadata": {},
   "outputs": [],
   "source": [
    "x=open(\"D:\\\\A Data Science\\\\File Handling\\\\New Text Document1.txt\",\"r+\")"
   ]
  },
  {
   "cell_type": "code",
   "execution_count": 11,
   "id": "b6f9c55a",
   "metadata": {},
   "outputs": [
    {
     "data": {
      "text/plain": [
       "'hey hows the file handlingEasy To Understandhi'"
      ]
     },
     "execution_count": 11,
     "metadata": {},
     "output_type": "execute_result"
    }
   ],
   "source": [
    "x.read()"
   ]
  },
  {
   "cell_type": "code",
   "execution_count": 12,
   "id": "7da08ad6",
   "metadata": {},
   "outputs": [
    {
     "data": {
      "text/plain": [
       "3"
      ]
     },
     "execution_count": 12,
     "metadata": {},
     "output_type": "execute_result"
    }
   ],
   "source": [
    "x.write(\" hi\")"
   ]
  },
  {
   "cell_type": "code",
   "execution_count": 13,
   "id": "947308df",
   "metadata": {},
   "outputs": [],
   "source": [
    "x.close()"
   ]
  },
  {
   "cell_type": "code",
   "execution_count": 14,
   "id": "94f2f432",
   "metadata": {},
   "outputs": [],
   "source": [
    "x=open(\"D:\\\\A Data Science\\\\File Handling\\\\New Text Document1.txt\",\"r\")"
   ]
  },
  {
   "cell_type": "code",
   "execution_count": 15,
   "id": "d2a1622c",
   "metadata": {},
   "outputs": [
    {
     "data": {
      "text/plain": [
       "'hey hows the file handlingEasy To Understandhi hi'"
      ]
     },
     "execution_count": 15,
     "metadata": {},
     "output_type": "execute_result"
    }
   ],
   "source": [
    "x.read()"
   ]
  },
  {
   "cell_type": "markdown",
   "id": "2769bb48",
   "metadata": {},
   "source": [
    "## exception handling"
   ]
  },
  {
   "cell_type": "code",
   "execution_count": 65,
   "id": "ff52a9b7",
   "metadata": {},
   "outputs": [
    {
     "ename": "SyntaxError",
     "evalue": "invalid syntax (685912549.py, line 1)",
     "output_type": "error",
     "traceback": [
      "\u001b[1;36m  Input \u001b[1;32mIn [65]\u001b[1;36m\u001b[0m\n\u001b[1;33m    x=1 x=2\u001b[0m\n\u001b[1;37m        ^\u001b[0m\n\u001b[1;31mSyntaxError\u001b[0m\u001b[1;31m:\u001b[0m invalid syntax\n"
     ]
    }
   ],
   "source": [
    "x=1 x=2"
   ]
  },
  {
   "cell_type": "markdown",
   "id": "6fb3b954",
   "metadata": {},
   "source": [
    "## try and expect"
   ]
  },
  {
   "cell_type": "code",
   "execution_count": 67,
   "id": "3ef4b5c5",
   "metadata": {},
   "outputs": [
    {
     "ename": "ZeroDivisionError",
     "evalue": "division by zero",
     "output_type": "error",
     "traceback": [
      "\u001b[1;31m---------------------------------------------------------------------------\u001b[0m",
      "\u001b[1;31mZeroDivisionError\u001b[0m                         Traceback (most recent call last)",
      "Input \u001b[1;32mIn [67]\u001b[0m, in \u001b[0;36m<cell line: 1>\u001b[1;34m()\u001b[0m\n\u001b[1;32m----> 1\u001b[0m \u001b[38;5;241;43m1\u001b[39;49m\u001b[38;5;241;43m/\u001b[39;49m\u001b[38;5;241;43m0\u001b[39;49m\n\u001b[0;32m      2\u001b[0m \u001b[38;5;28mprint\u001b[39m(\u001b[38;5;124m\"\u001b[39m\u001b[38;5;124mHi\u001b[39m\u001b[38;5;124m\"\u001b[39m)\n",
      "\u001b[1;31mZeroDivisionError\u001b[0m: division by zero"
     ]
    }
   ],
   "source": [
    "1/0\n",
    "print(\"Hi\")"
   ]
  },
  {
   "cell_type": "code",
   "execution_count": 70,
   "id": "ef182f5d",
   "metadata": {},
   "outputs": [
    {
     "name": "stdout",
     "output_type": "stream",
     "text": [
      "check the number of element\n",
      "Hi\n"
     ]
    }
   ],
   "source": [
    "try:\n",
    "    l=[1,2,3,4]\n",
    "    l[6]\n",
    "except ZeroDivisionError:\n",
    "    print(\" in python we cannot divide by 0\")\n",
    "except IndexError:\n",
    "    print(\"check the number of element\")\n",
    "print(\"Hi\")    "
   ]
  },
  {
   "cell_type": "code",
   "execution_count": 78,
   "id": "410d5a24",
   "metadata": {},
   "outputs": [
    {
     "ename": "IndexError",
     "evalue": "list index out of range",
     "output_type": "error",
     "traceback": [
      "\u001b[1;31m---------------------------------------------------------------------------\u001b[0m",
      "\u001b[1;31mIndexError\u001b[0m                                Traceback (most recent call last)",
      "Input \u001b[1;32mIn [78]\u001b[0m, in \u001b[0;36m<cell line: 2>\u001b[1;34m()\u001b[0m\n\u001b[0;32m      1\u001b[0m l\u001b[38;5;241m=\u001b[39m[\u001b[38;5;241m1\u001b[39m,\u001b[38;5;241m2\u001b[39m,\u001b[38;5;241m3\u001b[39m,\u001b[38;5;241m4\u001b[39m]\n\u001b[1;32m----> 2\u001b[0m \u001b[43ml\u001b[49m\u001b[43m[\u001b[49m\u001b[38;5;241;43m6\u001b[39;49m\u001b[43m]\u001b[49m\n",
      "\u001b[1;31mIndexError\u001b[0m: list index out of range"
     ]
    }
   ],
   "source": [
    "l=[1,2,3,4]\n",
    "l[6]"
   ]
  },
  {
   "cell_type": "code",
   "execution_count": 73,
   "id": "9daf4256",
   "metadata": {},
   "outputs": [
    {
     "name": "stdout",
     "output_type": "stream",
     "text": [
      " in python we cannot divide by 0\n",
      "Hi\n"
     ]
    }
   ],
   "source": [
    "try:\n",
    "    l=[1,2,3,4]\n",
    "    l[6]\n",
    "except (ZeroDivisionError,IndexError):\n",
    "    print(\" in python we cannot divide by 0\")\n",
    "\n",
    "print(\"Hi\")    "
   ]
  },
  {
   "cell_type": "code",
   "execution_count": 75,
   "id": "ca983e0a",
   "metadata": {},
   "outputs": [
    {
     "ename": "TypeError",
     "evalue": "unsupported operand type(s) for +: 'int' and 'str'",
     "output_type": "error",
     "traceback": [
      "\u001b[1;31m---------------------------------------------------------------------------\u001b[0m",
      "\u001b[1;31mTypeError\u001b[0m                                 Traceback (most recent call last)",
      "Input \u001b[1;32mIn [75]\u001b[0m, in \u001b[0;36m<cell line: 1>\u001b[1;34m()\u001b[0m\n\u001b[1;32m----> 1\u001b[0m \u001b[38;5;241;43m1\u001b[39;49m\u001b[38;5;241;43m+\u001b[39;49m\u001b[38;5;124;43m\"\u001b[39;49m\u001b[38;5;124;43ms\u001b[39;49m\u001b[38;5;124;43m\"\u001b[39;49m\n",
      "\u001b[1;31mTypeError\u001b[0m: unsupported operand type(s) for +: 'int' and 'str'"
     ]
    }
   ],
   "source": [
    "1+\"s\""
   ]
  },
  {
   "cell_type": "code",
   "execution_count": 76,
   "id": "6b0fc737",
   "metadata": {},
   "outputs": [
    {
     "name": "stdout",
     "output_type": "stream",
     "text": [
      "go and learn python\n",
      "Hi\n"
     ]
    }
   ],
   "source": [
    "try:\n",
    "    1+\"s\"\n",
    "except (ZeroDivisionError,IndexError):\n",
    "    print(\" in python we cannot divide by 0\")\n",
    "except TypeError:\n",
    "    print(\"go and learn python\")\n",
    "print(\"Hi\")  "
   ]
  },
  {
   "cell_type": "code",
   "execution_count": 79,
   "id": "7ff7d794",
   "metadata": {},
   "outputs": [
    {
     "name": "stdout",
     "output_type": "stream",
     "text": [
      "a\n",
      "number missing\n"
     ]
    }
   ],
   "source": [
    "try:\n",
    "    x=int(input())\n",
    "    z=int(input())\n",
    "    print(x+y)\n",
    "except ValueError:\n",
    "    print(\"number missing\")\n",
    "else:\n",
    "    print('hi')\n",
    "    "
   ]
  },
  {
   "cell_type": "code",
   "execution_count": 3,
   "id": "4ffce197",
   "metadata": {},
   "outputs": [
    {
     "name": "stdout",
     "output_type": "stream",
     "text": [
      "q\n",
      "number missing\n",
      "3\n",
      "0.3333333333333333\n"
     ]
    }
   ],
   "source": [
    "try:\n",
    "    x=1+int(input())\n",
    "    z=1/int(input())\n",
    "    print(x+y)\n",
    "except ValueError:    \n",
    "    print(\"number missing\")\n",
    "except NameError:\n",
    "    print(\"char is not divde\")\n",
    "else:\n",
    "    print('hi')\n",
    "finally:\n",
    "    print(x)\n",
    "    print(z)\n",
    "    "
   ]
  },
  {
   "cell_type": "code",
   "execution_count": 5,
   "id": "dac38ca2",
   "metadata": {},
   "outputs": [
    {
     "ename": "NameError",
     "evalue": "name 'o' is not defined",
     "output_type": "error",
     "traceback": [
      "\u001b[1;31m---------------------------------------------------------------------------\u001b[0m",
      "\u001b[1;31mNameError\u001b[0m                                 Traceback (most recent call last)",
      "Input \u001b[1;32mIn [5]\u001b[0m, in \u001b[0;36m<cell line: 1>\u001b[1;34m()\u001b[0m\n\u001b[1;32m----> 1\u001b[0m z\u001b[38;5;241m=\u001b[39m\u001b[43mo\u001b[49m\n",
      "\u001b[1;31mNameError\u001b[0m: name 'o' is not defined"
     ]
    }
   ],
   "source": [
    "z=o\n",
    "\n",
    "try:\n",
    "    x=1+int(input())\n",
    "    print(x+y)\n",
    "except NameError:\n",
    "    print(\"Name is not define\")\n",
    "else:\n",
    "    print(\"hi\")\n",
    "    "
   ]
  },
  {
   "cell_type": "code",
   "execution_count": 14,
   "id": "200ece9b",
   "metadata": {},
   "outputs": [
    {
     "name": "stdout",
     "output_type": "stream",
     "text": [
      "1\n",
      "2\n",
      "3\n",
      "5\n"
     ]
    }
   ],
   "source": [
    "a=0\n",
    "b=1\n",
    "\n",
    "for y in range(1,5):\n",
    "    c=a+b\n",
    "    print(c)\n",
    "    a=b\n",
    "    b=c"
   ]
  },
  {
   "cell_type": "code",
   "execution_count": 17,
   "id": "7ee9b9da",
   "metadata": {},
   "outputs": [
    {
     "name": "stdout",
     "output_type": "stream",
     "text": [
      "enter the number of fibonacci series: 8\n",
      "0 1 1 2 3 5 8 13 \n",
      "sum of 8 terms of series = 33\n"
     ]
    }
   ],
   "source": [
    "n=int(input(\"enter the number of fibonacci series: \"))\n",
    "a,b=0,1\n",
    "s=a+b\n",
    "print(a,b,end=\" \")\n",
    "for i in range(n-2):\n",
    "    print(a+b,end=\" \")\n",
    "    a,b=b, a+b\n",
    "    s=s+b\n",
    "print()\n",
    "print(\"sum of\",n,\"terms of series =\", s)"
   ]
  },
  {
   "cell_type": "markdown",
   "id": "8fcf9ab2",
   "metadata": {},
   "source": [
    "## Recursion"
   ]
  },
  {
   "cell_type": "code",
   "execution_count": 18,
   "id": "f256a04b",
   "metadata": {},
   "outputs": [],
   "source": [
    "def f2(n):\n",
    "    if n<=1:\n",
    "        return n\n",
    "    else:\n",
    "        return (f2(n-1)+f2(n-2))"
   ]
  },
  {
   "cell_type": "code",
   "execution_count": 20,
   "id": "b6623a0c",
   "metadata": {},
   "outputs": [
    {
     "name": "stdout",
     "output_type": "stream",
     "text": [
      "0\n",
      "1\n",
      "1\n",
      "2\n",
      "3\n",
      "5\n",
      "8\n"
     ]
    }
   ],
   "source": [
    "for y in range(0,7):\n",
    "    print(f2(y))"
   ]
  },
  {
   "cell_type": "code",
   "execution_count": null,
   "id": "15811581",
   "metadata": {},
   "outputs": [],
   "source": []
  }
 ],
 "metadata": {
  "kernelspec": {
   "display_name": "Python 3 (ipykernel)",
   "language": "python",
   "name": "python3"
  },
  "language_info": {
   "codemirror_mode": {
    "name": "ipython",
    "version": 3
   },
   "file_extension": ".py",
   "mimetype": "text/x-python",
   "name": "python",
   "nbconvert_exporter": "python",
   "pygments_lexer": "ipython3",
   "version": "3.9.13"
  }
 },
 "nbformat": 4,
 "nbformat_minor": 5
}

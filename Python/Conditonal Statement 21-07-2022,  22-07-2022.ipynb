{
 "cells": [
  {
   "cell_type": "code",
   "execution_count": 1,
   "id": "197ecc8f",
   "metadata": {},
   "outputs": [],
   "source": [
    "#Conditional statement\n"
   ]
  },
  {
   "cell_type": "code",
   "execution_count": 2,
   "id": "4eb36c18",
   "metadata": {},
   "outputs": [
    {
     "name": "stdout",
     "output_type": "stream",
     "text": [
      "hi\n",
      "bye\n"
     ]
    }
   ],
   "source": [
    "x=10\n",
    "\n",
    "if x>3:\n",
    "    print(\"hi\")\n",
    "    print(\"bye\")"
   ]
  },
  {
   "cell_type": "code",
   "execution_count": 1,
   "id": "6edcef57",
   "metadata": {},
   "outputs": [
    {
     "name": "stdout",
     "output_type": "stream",
     "text": [
      "your hight56\n",
      "your taller\n"
     ]
    }
   ],
   "source": [
    "\n",
    "x=int(input(\"your hight\"))\n",
    "\n",
    "if x>50:\n",
    "    print(\"your taller\")\n",
    ". "
   ]
  },
  {
   "cell_type": "code",
   "execution_count": 2,
   "id": "cf024ef6",
   "metadata": {},
   "outputs": [
    {
     "name": "stdout",
     "output_type": "stream",
     "text": [
      "your hight49\n",
      "your smaller\n"
     ]
    }
   ],
   "source": [
    "\n",
    "x=int(input(\"your hight\"))\n",
    "\n",
    "if x<50:\n",
    "    print(\"your smaller\")\n"
   ]
  },
  {
   "cell_type": "code",
   "execution_count": 3,
   "id": "2023f7d6",
   "metadata": {},
   "outputs": [
    {
     "name": "stdout",
     "output_type": "stream",
     "text": [
      "your hight55\n",
      "your taller\n"
     ]
    }
   ],
   "source": [
    "x=int(input(\"your hight\"))\n",
    "\n",
    "if x>50:\n",
    "    print(\"your taller\")\n"
   ]
  },
  {
   "cell_type": "code",
   "execution_count": 7,
   "id": "483e5e7b",
   "metadata": {},
   "outputs": [
    {
     "name": "stdout",
     "output_type": "stream",
     "text": [
      "your hight :55\n",
      "your taller\n"
     ]
    }
   ],
   "source": [
    "x=int(input(\"your hight :\"))\n",
    "\n",
    "if x>50:\n",
    "    print(\"your taller\")\n",
    "elif x<50:\n",
    "    print(\"your smaller \")\n",
    "    "
   ]
  },
  {
   "cell_type": "code",
   "execution_count": 13,
   "id": "9f4b7d41",
   "metadata": {},
   "outputs": [
    {
     "name": "stdout",
     "output_type": "stream",
     "text": [
      "only shown alphabets: asdh\n",
      "your string contains all alphabets\n"
     ]
    }
   ],
   "source": [
    "x=input(\"only shown alphabets: \")\n",
    "\n",
    "if x.isalpha():\n",
    "    print(\"your string contains all alphabets\")\n"
   ]
  },
  {
   "cell_type": "code",
   "execution_count": 15,
   "id": "4b926e0a",
   "metadata": {},
   "outputs": [
    {
     "name": "stdout",
     "output_type": "stream",
     "text": [
      "only shown alphabets: 123\n",
      "your string contains all digit\n"
     ]
    }
   ],
   "source": [
    "x=input(\"only shown alphabets: \")\n",
    "\n",
    "if x.isalpha():\n",
    "    print(\"your string contains all alphabets\")\n",
    "elif x.isdigit():\n",
    "    print(\"your string contains all digit\")\n",
    "    "
   ]
  },
  {
   "cell_type": "code",
   "execution_count": 16,
   "id": "30a8285c",
   "metadata": {},
   "outputs": [],
   "source": [
    "#22-07-2022\n",
    "\n",
    "#if-else condition"
   ]
  },
  {
   "cell_type": "code",
   "execution_count": 17,
   "id": "3a699d13",
   "metadata": {},
   "outputs": [
    {
     "name": "stdout",
     "output_type": "stream",
     "text": [
      "greater\n"
     ]
    }
   ],
   "source": [
    "x=10\n",
    "if x<11:\n",
    "    print(\"greater\")\n",
    "else:\n",
    "    print(\"lesser\")"
   ]
  },
  {
   "cell_type": "code",
   "execution_count": 18,
   "id": "96912d35",
   "metadata": {},
   "outputs": [
    {
     "name": "stdout",
     "output_type": "stream",
     "text": [
      "lesser\n"
     ]
    }
   ],
   "source": [
    "x=10\n",
    "if x<1:\n",
    "    print(\"greater\")\n",
    "else:\n",
    "    print(\"lesser\")"
   ]
  },
  {
   "cell_type": "code",
   "execution_count": 19,
   "id": "d8b3ff8b",
   "metadata": {},
   "outputs": [
    {
     "name": "stdout",
     "output_type": "stream",
     "text": [
      "hi\n"
     ]
    }
   ],
   "source": [
    "x=10\n",
    "if x==10 and x%5==0: \n",
    "    print(\"hi\")\n",
    "else:\n",
    "    print(\"lesser\")"
   ]
  },
  {
   "cell_type": "code",
   "execution_count": 20,
   "id": "26989eda",
   "metadata": {},
   "outputs": [
    {
     "name": "stdout",
     "output_type": "stream",
     "text": [
      "hi\n"
     ]
    }
   ],
   "source": [
    "x=10\n",
    "if x==10 and x%5==0 and x%2==0: \n",
    "    print(\"hi\")\n",
    "else:\n",
    "    print(\"lesser\")"
   ]
  },
  {
   "cell_type": "code",
   "execution_count": 4,
   "id": "92993af7",
   "metadata": {},
   "outputs": [
    {
     "name": "stdout",
     "output_type": "stream",
     "text": [
      "tyep any number45\n",
      "your value is not satisfy the condition\n"
     ]
    }
   ],
   "source": [
    "x=int(input(\"tyep any number\"))\n",
    "if x==10 and x%5==0 and x%2==0:\n",
    "    print(\"value greter than 10 and divisible by both 5 and 2\")\n",
    "else:\n",
    "    print(\"your value is not satisfy the condition\")"
   ]
  },
  {
   "cell_type": "code",
   "execution_count": 7,
   "id": "4d3f1bba",
   "metadata": {},
   "outputs": [
    {
     "name": "stdout",
     "output_type": "stream",
     "text": [
      "tyep any number55\n",
      "your value is not satisfy the condition\n"
     ]
    }
   ],
   "source": [
    "x=int(input(\"tyep any number\"))\n",
    "if not (x<10 or x%5==0 or x%2==0): \n",
    "    print(\"value greter than 10 and divisible by both 5 and 2\")\n",
    "else:\n",
    "    print(\"your value is not satisfy the condition\")"
   ]
  },
  {
   "cell_type": "code",
   "execution_count": 9,
   "id": "036fe86f",
   "metadata": {},
   "outputs": [
    {
     "name": "stdout",
     "output_type": "stream",
     "text": [
      "tyep any number55\n",
      "your value is not satisfy the condition\n"
     ]
    }
   ],
   "source": [
    "x=int(input(\"tyep any number\"))\n",
    "if not (x<50 or x%5==0 or x%2==0): \n",
    "    print(\"value greter than 50 and divisible by both 5 and 2\")\n",
    "else:\n",
    "    print(\"your value is not satisfy the condition\")\n"
   ]
  },
  {
   "cell_type": "code",
   "execution_count": 10,
   "id": "6b7f2dad",
   "metadata": {},
   "outputs": [
    {
     "name": "stdout",
     "output_type": "stream",
     "text": [
      "tyep any number50\n",
      "your value is not satisfy the condition\n"
     ]
    }
   ],
   "source": [
    "x=int(input(\"tyep any number\"))\n",
    "if not (x<50 or x%5==0 or x%2==0): \n",
    "    print(\"value greter than 50 and divisible by both 5 and 2\")\n",
    "else:\n",
    "    print(\"your value is not satisfy the condition\")\n"
   ]
  },
  {
   "cell_type": "code",
   "execution_count": 1,
   "id": "a910e7db",
   "metadata": {},
   "outputs": [
    {
     "name": "stdout",
     "output_type": "stream",
     "text": [
      "tyep any number50\n",
      "value greter than 50 and divisible by both 5 and 2\n"
     ]
    }
   ],
   "source": [
    "x=int(input(\"tyep any number\"))\n",
    "if  (x<50 or x%5==0 or x%2==0): \n",
    "    print(\"value greter than 50 and divisible by both 5 and 2\")\n",
    "else:\n",
    "    print(\"your value is not satisfy the condition\")\n"
   ]
  },
  {
   "cell_type": "code",
   "execution_count": 2,
   "id": "21596eb4",
   "metadata": {},
   "outputs": [
    {
     "name": "stdout",
     "output_type": "stream",
     "text": [
      "tyep any number50\n",
      "value greter than 50 and divisible by both 5 and 2\n"
     ]
    }
   ],
   "source": [
    "x=int(input(\"tyep any number\"))\n",
    "if not (x<50 and x%5==0 and x%2==0): \n",
    "    print(\"value greter than 50 and divisible by both 5 and 2\")\n",
    "else:\n",
    "    print(\"your value is not satisfy the condition\")\n"
   ]
  },
  {
   "cell_type": "code",
   "execution_count": 1,
   "id": "93654918",
   "metadata": {},
   "outputs": [
    {
     "name": "stdout",
     "output_type": "stream",
     "text": [
      "type any number5\n",
      "value greter than 50 \n"
     ]
    }
   ],
   "source": [
    "x=int(input(\"type any number\"))\n",
    "if not x>=50: \n",
    "    print(\"value greter than 50 \")\n",
    "elif x%2==0:\n",
    "    print(\"value divisible by 2\")\n",
    "elif x%5==0:\n",
    "    print(\"value divisible by 5\")\n",
    "else:\n",
    "    print(\"your value is not satisfy the condition\")"
   ]
  },
  {
   "cell_type": "code",
   "execution_count": 7,
   "id": "5ccbe4db",
   "metadata": {},
   "outputs": [
    {
     "name": "stdout",
     "output_type": "stream",
     "text": [
      "type your total marks55\n",
      "type your total marks68\n",
      "you get placed in c3\n"
     ]
    }
   ],
   "source": [
    "t_m=int(input(\"type your total marks\"))\n",
    "s_m=int(input(\"type your total marks\"))\n",
    "\n",
    "if t_m>80 and s_m>90:\n",
    "    print(\"you get placed in c1\")\n",
    "elif t_m>80:\n",
    "    print(\"you get placed in c2\")\n",
    "elif t_m>30:\n",
    "    print(\"you get placed in c3\")\n",
    "else:    \n",
    "    print(\"bye bye\")"
   ]
  },
  {
   "cell_type": "code",
   "execution_count": 8,
   "id": "2116f2be",
   "metadata": {},
   "outputs": [
    {
     "name": "stdout",
     "output_type": "stream",
     "text": [
      "type your total marks90\n",
      "type your total marks90\n",
      "you get placed in c2\n"
     ]
    }
   ],
   "source": [
    "t_m=int(input(\"type your total marks\"))\n",
    "s_m=int(input(\"type your total marks\"))\n",
    "\n",
    "if t_m>80 and s_m>90:\n",
    "    print(\"you get placed in c1\")\n",
    "elif t_m>80:\n",
    "    print(\"you get placed in c2\")\n",
    "elif t_m>30:\n",
    "    print(\"you get placed in c3\")\n",
    "else:    \n",
    "    print(\"bye bye\")"
   ]
  },
  {
   "cell_type": "code",
   "execution_count": 9,
   "id": "fec4e6e3",
   "metadata": {},
   "outputs": [
    {
     "name": "stdout",
     "output_type": "stream",
     "text": [
      "type your total marks95\n",
      "type your total marks95\n",
      "you get placed in c1\n"
     ]
    }
   ],
   "source": [
    "t_m=int(input(\"type your total marks\"))\n",
    "s_m=int(input(\"type your total marks\"))\n",
    "\n",
    "if t_m>80 and s_m>90:\n",
    "    print(\"you get placed in c1\")\n",
    "elif t_m>80:\n",
    "    print(\"you get placed in c2\")\n",
    "elif t_m>30:\n",
    "    print(\"you get placed in c3\")\n",
    "else:    \n",
    "    print(\"bye bye\")"
   ]
  },
  {
   "cell_type": "code",
   "execution_count": 3,
   "id": "09985fc7",
   "metadata": {},
   "outputs": [
    {
     "name": "stdout",
     "output_type": "stream",
     "text": [
      "type any number55\n",
      "hi\n"
     ]
    }
   ],
   "source": [
    "x=int(input(\"type any number\"))\n",
    "\n",
    "if    (x%5==0 ):\n",
    "    print(\"hi\")\n",
    "else:\n",
    "    print(\"bye\")\n"
   ]
  },
  {
   "cell_type": "code",
   "execution_count": 5,
   "id": "2b0432e0",
   "metadata": {},
   "outputs": [
    {
     "name": "stdout",
     "output_type": "stream",
     "text": [
      " 10\n",
      "valu not divisible\n"
     ]
    }
   ],
   "source": [
    "x=int(input(\" \"))\n",
    "\n",
    "if  (x/3==0 ):\n",
    "    print(\"value divisible last digit \")\n",
    "else:\n",
    "    print(\"valu not divisible\")\n",
    "    "
   ]
  },
  {
   "cell_type": "code",
   "execution_count": 8,
   "id": "4ffbc859",
   "metadata": {},
   "outputs": [
    {
     "name": "stdout",
     "output_type": "stream",
     "text": [
      " 136\n",
      "valu not divisible\n"
     ]
    }
   ],
   "source": [
    "#Write a program to check whether the last digit of a number( entered by user ) is \n",
    " #divisible by 3 or not.\n",
    "    \n",
    "x=int(input(\" \"))\n",
    "\n",
    "if  (x/3==0 ):\n",
    "    print(\"value divisible last digit \")\n",
    "elif (x/3=)\n",
    "    print(\"\")\n",
    "else:\n",
    "    print(\"valu not divisible\")"
   ]
  },
  {
   "cell_type": "code",
   "execution_count": 11,
   "id": "1748119a",
   "metadata": {},
   "outputs": [
    {
     "name": "stdout",
     "output_type": "stream",
     "text": [
      "age of person 18\n",
      " Eligibel for voting \n"
     ]
    }
   ],
   "source": [
    "#4. Write program to check whether a person is eligible for voting or not\n",
    "\n",
    "x=int(input(\"age of person \"))\n",
    "if  x>=18: \n",
    "    print(\" Eligibel for voting \")\n",
    "else:\n",
    "    print(\" Not Eligible voting \")"
   ]
  },
  {
   "cell_type": "code",
   "execution_count": 1,
   "id": "f1c81020",
   "metadata": {},
   "outputs": [
    {
     "name": "stdout",
     "output_type": "stream",
     "text": [
      " Age of person :44\n",
      " Eligibel for voting \n"
     ]
    }
   ],
   "source": [
    "#4. Write program to check whether a person is eligible for voting or not\n",
    "\n",
    "x=int(input(\" Age of person :\"))\n",
    "if  x>=18: \n",
    "    print(\" Eligibel for voting \")\n",
    "else:\n",
    "    print(\" Not Eligible voting \")"
   ]
  },
  {
   "cell_type": "code",
   "execution_count": 6,
   "id": "e198cdc8",
   "metadata": {},
   "outputs": [
    {
     "name": "stdout",
     "output_type": "stream",
     "text": [
      "Enter Number : 44\n",
      " even number \n"
     ]
    }
   ],
   "source": [
    "#Q5. Write a program to check whether a number entered by user is even or odd.\n",
    "\n",
    "User=int(input(\"Enter Number : \"))\n",
    "\n",
    "if User%2==0:\n",
    "    print(\" even number \")\n",
    "else:\n",
    "    print(\" odd number \")"
   ]
  },
  {
   "cell_type": "code",
   "execution_count": 10,
   "id": "cc11ba8b",
   "metadata": {},
   "outputs": [
    {
     "name": "stdout",
     "output_type": "stream",
     "text": [
      "Enter Number : 50\n",
      " not divisible 7\n"
     ]
    }
   ],
   "source": [
    "#Q6. Write a program to check whether a number is divisible by 7 or not.\n",
    "x=int(input(\"Enter Number : \"))\n",
    "\n",
    "if x%7==0:\n",
    "    print(\" divisible 7\")\n",
    "else:\n",
    "    print(\" not divisible 7\")"
   ]
  },
  {
   "cell_type": "code",
   "execution_count": 12,
   "id": "7c9da58f",
   "metadata": {},
   "outputs": [],
   "source": [
    "#Q1. Write a program to accept percentage from the user and display the grade according to the following criteria:\n",
    "\n",
    "        # Marks                                    Grade\n",
    "        # > 90                                        A\n",
    "        # > 80 and <= 90                              B\n",
    "        # >= 60 and <= 80                             C\n",
    "        # below 60                                    D\n",
    "\n"
   ]
  },
  {
   "cell_type": "code",
   "execution_count": 31,
   "id": "32ff46a1",
   "metadata": {},
   "outputs": [
    {
     "name": "stdout",
     "output_type": "stream",
     "text": [
      "Student Marks : 56\n",
      "Grade D\n"
     ]
    }
   ],
   "source": [
    "s_g=int(input(\"Student Marks : \"))\n",
    "\n",
    "\n",
    "if s_g>90:\n",
    "    print(\"Grade A\")\n",
    "elif s_g>80 and s_g<=90:\n",
    "    print(\"Grade B\")\n",
    "elif s_g>60 and s_g<=80:\n",
    "    print(\"Grade C\")\n",
    "elif s_g<60:    \n",
    "    print(\"Grade D\")"
   ]
  },
  {
   "cell_type": "code",
   "execution_count": 21,
   "id": "c4c4bd91",
   "metadata": {},
   "outputs": [],
   "source": [
    "#Q2. Write a program to accept the cost price of a bike and display the road tax to be paid according to the following criteria :\n",
    "    \n",
    "       # Cost price (in Rs)                                       Tax\n",
    "       # > 100000                                                  15 %\n",
    "       # > 50000 and <= 100000                                     10%\n",
    "       # <= 50000             \n",
    "       #                                                           5%\n"
   ]
  },
  {
   "cell_type": "code",
   "execution_count": 26,
   "id": "372c2ab8",
   "metadata": {},
   "outputs": [
    {
     "name": "stdout",
     "output_type": "stream",
     "text": [
      "Cost price of bike : 99000\n",
      "The Road Tax 10% \n"
     ]
    }
   ],
   "source": [
    "cost=int(input(\"Cost price of bike : \"))\n",
    "\n",
    "\n",
    "if cost>100000:\n",
    "    print(\"The Road Tax 15% \")\n",
    "elif cost>50000 and cost<=100000:\n",
    "    print(\"The Road Tax 10% \")\n",
    "else:\n",
    "    print(\"Your bike price below <=50000,  Tax 5% \")"
   ]
  },
  {
   "cell_type": "code",
   "execution_count": 27,
   "id": "8d5d3bb3",
   "metadata": {},
   "outputs": [],
   "source": [
    "#Q8. Write a program to calculate the electricity bill (accept number of unit from user) according to the following criteria :\n",
    "#Unit                                                          Price  \n",
    "#First 100 units                                               no charge\n",
    "#Next 100 units                                                Rs 5 per unit\n",
    "#After 200 units                                               Rs 10 per unit\n",
    "#(For example if input unit is 350 than total bill amount is Rs2000)"
   ]
  },
  {
   "cell_type": "code",
   "execution_count": 30,
   "id": "92622aa5",
   "metadata": {},
   "outputs": [
    {
     "name": "stdout",
     "output_type": "stream",
     "text": [
      "Accept number of unit from user 450\n",
      "Charges Pay Rs 3000\n"
     ]
    }
   ],
   "source": [
    "x=int(input(\"Accept number of unit from user \"))\n",
    "\n",
    "if x<=100:\n",
    "    print(\"No Charges Pay\")\n",
    "elif x>100 and x<=200: \n",
    "    print(\"Charges Pay Rs\", (x-100)*5)\n",
    "elif x>=200:\n",
    "    print(\"Charges Pay Rs\",(100*5)+(x-200)*10)"
   ]
  },
  {
   "cell_type": "code",
   "execution_count": null,
   "id": "4b3ed77c",
   "metadata": {},
   "outputs": [],
   "source": []
  }
 ],
 "metadata": {
  "kernelspec": {
   "display_name": "Python 3 (ipykernel)",
   "language": "python",
   "name": "python3"
  },
  "language_info": {
   "codemirror_mode": {
    "name": "ipython",
    "version": 3
   },
   "file_extension": ".py",
   "mimetype": "text/x-python",
   "name": "python",
   "nbconvert_exporter": "python",
   "pygments_lexer": "ipython3",
   "version": "3.9.13"
  }
 },
 "nbformat": 4,
 "nbformat_minor": 5
}

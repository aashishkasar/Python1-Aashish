{
 "cells": [
  {
   "cell_type": "code",
   "execution_count": 3,
   "id": "2fba88eb",
   "metadata": {},
   "outputs": [],
   "source": [
    "x={\"name\":\"virat\",\"age\":25,\"phon_n\":9595,\"height\":5.11}"
   ]
  },
  {
   "cell_type": "code",
   "execution_count": 4,
   "id": "2dfa5393",
   "metadata": {},
   "outputs": [
    {
     "data": {
      "text/plain": [
       "dict"
      ]
     },
     "execution_count": 4,
     "metadata": {},
     "output_type": "execute_result"
    }
   ],
   "source": [
    "type(x)"
   ]
  },
  {
   "cell_type": "code",
   "execution_count": 5,
   "id": "d563ed46",
   "metadata": {},
   "outputs": [
    {
     "data": {
      "text/plain": [
       "{'name': 'virat', 'age': 25, 'phon_n': 9595, 'height': 5.11}"
      ]
     },
     "execution_count": 5,
     "metadata": {},
     "output_type": "execute_result"
    }
   ],
   "source": [
    "x"
   ]
  },
  {
   "cell_type": "code",
   "execution_count": 7,
   "id": "0f6037e0",
   "metadata": {},
   "outputs": [
    {
     "data": {
      "text/plain": [
       "dict_keys(['name', 'age', 'phon_n', 'height'])"
      ]
     },
     "execution_count": 7,
     "metadata": {},
     "output_type": "execute_result"
    }
   ],
   "source": [
    "x.keys()"
   ]
  },
  {
   "cell_type": "code",
   "execution_count": 9,
   "id": "2aa8e319",
   "metadata": {},
   "outputs": [
    {
     "data": {
      "text/plain": [
       "dict_values(['virat', 25, 9595, 5.11])"
      ]
     },
     "execution_count": 9,
     "metadata": {},
     "output_type": "execute_result"
    }
   ],
   "source": [
    "x.values()"
   ]
  },
  {
   "cell_type": "code",
   "execution_count": 10,
   "id": "e96491d2",
   "metadata": {},
   "outputs": [
    {
     "data": {
      "text/plain": [
       "dict_items([('name', 'virat'), ('age', 25), ('phon_n', 9595), ('height', 5.11)])"
      ]
     },
     "execution_count": 10,
     "metadata": {},
     "output_type": "execute_result"
    }
   ],
   "source": [
    "x.items()"
   ]
  },
  {
   "cell_type": "code",
   "execution_count": 11,
   "id": "02bab6ac",
   "metadata": {},
   "outputs": [
    {
     "data": {
      "text/plain": [
       "{'name': 'virat', 'age': 25, 'phon_n': 9595, 'height': 5.11}"
      ]
     },
     "execution_count": 11,
     "metadata": {},
     "output_type": "execute_result"
    }
   ],
   "source": [
    "x"
   ]
  },
  {
   "cell_type": "code",
   "execution_count": 12,
   "id": "d1839fa5",
   "metadata": {},
   "outputs": [
    {
     "data": {
      "text/plain": [
       "25"
      ]
     },
     "execution_count": 12,
     "metadata": {},
     "output_type": "execute_result"
    }
   ],
   "source": [
    "x[\"age\"]"
   ]
  },
  {
   "cell_type": "code",
   "execution_count": 13,
   "id": "5bfc2278",
   "metadata": {},
   "outputs": [
    {
     "data": {
      "text/plain": [
       "5.11"
      ]
     },
     "execution_count": 13,
     "metadata": {},
     "output_type": "execute_result"
    }
   ],
   "source": [
    "x[\"height\"]"
   ]
  },
  {
   "cell_type": "code",
   "execution_count": 14,
   "id": "e96f9954",
   "metadata": {},
   "outputs": [],
   "source": [
    "#replace value in keys\n",
    "\n",
    "x[\"age\"]=33"
   ]
  },
  {
   "cell_type": "code",
   "execution_count": 15,
   "id": "57d818f0",
   "metadata": {},
   "outputs": [
    {
     "data": {
      "text/plain": [
       "{'name': 'virat', 'age': 33, 'phon_n': 9595, 'height': 5.11}"
      ]
     },
     "execution_count": 15,
     "metadata": {},
     "output_type": "execute_result"
    }
   ],
   "source": [
    "x"
   ]
  },
  {
   "cell_type": "code",
   "execution_count": 16,
   "id": "672b0cd0",
   "metadata": {},
   "outputs": [],
   "source": [
    "x[\"height\"]=5.10"
   ]
  },
  {
   "cell_type": "code",
   "execution_count": 17,
   "id": "247eeff0",
   "metadata": {},
   "outputs": [
    {
     "data": {
      "text/plain": [
       "{'name': 'virat', 'age': 33, 'phon_n': 9595, 'height': 5.1}"
      ]
     },
     "execution_count": 17,
     "metadata": {},
     "output_type": "execute_result"
    }
   ],
   "source": [
    "x"
   ]
  },
  {
   "cell_type": "code",
   "execution_count": 18,
   "id": "fd4af11a",
   "metadata": {},
   "outputs": [],
   "source": [
    "#how to add element\n",
    "\n",
    "x[\"weight\"]=74"
   ]
  },
  {
   "cell_type": "code",
   "execution_count": 19,
   "id": "95b21b22",
   "metadata": {},
   "outputs": [
    {
     "data": {
      "text/plain": [
       "{'name': 'virat', 'age': 33, 'phon_n': 9595, 'height': 5.1, 'weight': 74}"
      ]
     },
     "execution_count": 19,
     "metadata": {},
     "output_type": "execute_result"
    }
   ],
   "source": [
    "x"
   ]
  },
  {
   "cell_type": "code",
   "execution_count": 20,
   "id": "d051e7b1",
   "metadata": {},
   "outputs": [],
   "source": [
    "x[\"weight\"]=77"
   ]
  },
  {
   "cell_type": "code",
   "execution_count": 21,
   "id": "3e588028",
   "metadata": {},
   "outputs": [
    {
     "data": {
      "text/plain": [
       "{'name': 'virat', 'age': 33, 'phon_n': 9595, 'height': 5.1, 'weight': 77}"
      ]
     },
     "execution_count": 21,
     "metadata": {},
     "output_type": "execute_result"
    }
   ],
   "source": [
    "x"
   ]
  },
  {
   "cell_type": "code",
   "execution_count": 22,
   "id": "81a3b443",
   "metadata": {},
   "outputs": [],
   "source": [
    "del x[\"phon_n\"]"
   ]
  },
  {
   "cell_type": "code",
   "execution_count": 23,
   "id": "83418c81",
   "metadata": {},
   "outputs": [
    {
     "data": {
      "text/plain": [
       "{'name': 'virat', 'age': 33, 'height': 5.1, 'weight': 77}"
      ]
     },
     "execution_count": 23,
     "metadata": {},
     "output_type": "execute_result"
    }
   ],
   "source": [
    "x"
   ]
  },
  {
   "cell_type": "code",
   "execution_count": 24,
   "id": "2a004834",
   "metadata": {},
   "outputs": [],
   "source": [
    "#update multiple value\n",
    "# update()"
   ]
  },
  {
   "cell_type": "code",
   "execution_count": 27,
   "id": "ceb0226a",
   "metadata": {},
   "outputs": [
    {
     "data": {
      "text/plain": [
       "{'name': 'rohit', 'age': 34, 'height': 5.13, 'weight': 97}"
      ]
     },
     "execution_count": 27,
     "metadata": {},
     "output_type": "execute_result"
    }
   ],
   "source": [
    "x={'name': 'virat', 'age': 33, 'height': 5.1, 'weight': 77}\n",
    "x.update({'name': 'rohit', 'age': 34, 'height': 5.13, 'weight': 97})\n",
    "x"
   ]
  },
  {
   "cell_type": "code",
   "execution_count": 29,
   "id": "71d3c612",
   "metadata": {},
   "outputs": [
    {
     "data": {
      "text/plain": [
       "{'name': 'virat', 'age': 33, 'height': 5.1, 'weight': 77}"
      ]
     },
     "execution_count": 29,
     "metadata": {},
     "output_type": "execute_result"
    }
   ],
   "source": [
    "x={'name': 'virat', 'age': 33, 'height': 5.1, 'weight': 77}\n",
    "x.get('virat')\n",
    "x"
   ]
  },
  {
   "cell_type": "code",
   "execution_count": null,
   "id": "13857f11",
   "metadata": {},
   "outputs": [],
   "source": []
  }
 ],
 "metadata": {
  "kernelspec": {
   "display_name": "Python 3 (ipykernel)",
   "language": "python",
   "name": "python3"
  },
  "language_info": {
   "codemirror_mode": {
    "name": "ipython",
    "version": 3
   },
   "file_extension": ".py",
   "mimetype": "text/x-python",
   "name": "python",
   "nbconvert_exporter": "python",
   "pygments_lexer": "ipython3",
   "version": "3.9.12"
  }
 },
 "nbformat": 4,
 "nbformat_minor": 5
}

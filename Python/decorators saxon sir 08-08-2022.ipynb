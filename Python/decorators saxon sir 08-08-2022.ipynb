{
 "cells": [
  {
   "cell_type": "code",
   "execution_count": 15,
   "id": "febc2405",
   "metadata": {},
   "outputs": [],
   "source": [
    "def f1():\n",
    "    print(\"welcome\")\n",
    "    print(\"bye\")"
   ]
  },
  {
   "cell_type": "code",
   "execution_count": 23,
   "id": "43aea86d",
   "metadata": {},
   "outputs": [],
   "source": [
    "\n",
    "def d(function):\n",
    "    def wrapper():\n",
    "        print(\"hi\")\n",
    "        function()\n",
    "    return wrapper"
   ]
  },
  {
   "cell_type": "code",
   "execution_count": 17,
   "id": "2e1de7df",
   "metadata": {},
   "outputs": [],
   "source": [
    "x=d(f1)"
   ]
  },
  {
   "cell_type": "code",
   "execution_count": 18,
   "id": "0a91a611",
   "metadata": {},
   "outputs": [
    {
     "name": "stdout",
     "output_type": "stream",
     "text": [
      "welcome\n",
      "hi\n",
      "bye\n"
     ]
    }
   ],
   "source": [
    "x()"
   ]
  },
  {
   "cell_type": "code",
   "execution_count": 21,
   "id": "61bb3940",
   "metadata": {},
   "outputs": [],
   "source": [
    "@d\n",
    "def f1():\n",
    "    print(\"welcome\")\n",
    "    print(\"bye\")"
   ]
  },
  {
   "cell_type": "code",
   "execution_count": 22,
   "id": "ad4cba9b",
   "metadata": {},
   "outputs": [
    {
     "name": "stdout",
     "output_type": "stream",
     "text": [
      "welcome\n",
      "welcome\n",
      "bye\n",
      "bye\n"
     ]
    }
   ],
   "source": [
    "f1()"
   ]
  },
  {
   "cell_type": "code",
   "execution_count": 24,
   "id": "87961179",
   "metadata": {},
   "outputs": [],
   "source": [
    "@d\n",
    "def f2():\n",
    "    print(\"java\")"
   ]
  },
  {
   "cell_type": "code",
   "execution_count": 25,
   "id": "891429bb",
   "metadata": {},
   "outputs": [
    {
     "name": "stdout",
     "output_type": "stream",
     "text": [
      "hi\n",
      "java\n"
     ]
    }
   ],
   "source": [
    "f2()"
   ]
  },
  {
   "cell_type": "code",
   "execution_count": 37,
   "id": "f7834ec6",
   "metadata": {},
   "outputs": [
    {
     "data": {
      "text/plain": [
       "1659942113.6505094"
      ]
     },
     "execution_count": 37,
     "metadata": {},
     "output_type": "execute_result"
    }
   ],
   "source": [
    "import time\n",
    "time.time()"
   ]
  },
  {
   "cell_type": "code",
   "execution_count": 27,
   "id": "a270c329",
   "metadata": {},
   "outputs": [],
   "source": [
    "def f1():\n",
    "    x=[]\n",
    "    for y in range(1,100):\n",
    "        x.append(y)\n",
    "    return x"
   ]
  },
  {
   "cell_type": "code",
   "execution_count": 38,
   "id": "6ef57171",
   "metadata": {},
   "outputs": [],
   "source": [
    "def d(function):\n",
    "    def wrapper():\n",
    "        x=time.time()\n",
    "        function()\n",
    "        y=time.time()\n",
    "        return y-x\n",
    "    return wrapper"
   ]
  },
  {
   "cell_type": "code",
   "execution_count": 45,
   "id": "7a802b4a",
   "metadata": {},
   "outputs": [],
   "source": [
    "@d\n",
    "def f1():\n",
    "    x=[]\n",
    "    for y in range(1,100000000):\n",
    "        x.append(y)\n",
    "    return x"
   ]
  },
  {
   "cell_type": "code",
   "execution_count": 46,
   "id": "8a9d285e",
   "metadata": {},
   "outputs": [
    {
     "data": {
      "text/plain": [
       "10.219114065170288"
      ]
     },
     "execution_count": 46,
     "metadata": {},
     "output_type": "execute_result"
    }
   ],
   "source": [
    "f1()"
   ]
  },
  {
   "cell_type": "code",
   "execution_count": null,
   "id": "52c7a71b",
   "metadata": {},
   "outputs": [],
   "source": []
  }
 ],
 "metadata": {
  "kernelspec": {
   "display_name": "Python 3 (ipykernel)",
   "language": "python",
   "name": "python3"
  },
  "language_info": {
   "codemirror_mode": {
    "name": "ipython",
    "version": 3
   },
   "file_extension": ".py",
   "mimetype": "text/x-python",
   "name": "python",
   "nbconvert_exporter": "python",
   "pygments_lexer": "ipython3",
   "version": "3.9.12"
  }
 },
 "nbformat": 4,
 "nbformat_minor": 5
}

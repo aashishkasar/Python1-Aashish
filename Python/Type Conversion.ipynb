{
 "cells": [
  {
   "cell_type": "code",
   "execution_count": 2,
   "id": "14b3f363",
   "metadata": {},
   "outputs": [],
   "source": [
    "x=1\n",
    "y=1.1"
   ]
  },
  {
   "cell_type": "code",
   "execution_count": 4,
   "id": "83c1d91a",
   "metadata": {},
   "outputs": [
    {
     "data": {
      "text/plain": [
       "2.2"
      ]
     },
     "execution_count": 4,
     "metadata": {},
     "output_type": "execute_result"
    }
   ],
   "source": [
    "x+y"
   ]
  },
  {
   "cell_type": "code",
   "execution_count": 5,
   "id": "cbc6c3cc",
   "metadata": {},
   "outputs": [],
   "source": [
    "x=2.1\n",
    "y=1+2j"
   ]
  },
  {
   "cell_type": "code",
   "execution_count": 6,
   "id": "79377094",
   "metadata": {},
   "outputs": [
    {
     "data": {
      "text/plain": [
       "(3.1+2j)"
      ]
     },
     "execution_count": 6,
     "metadata": {},
     "output_type": "execute_result"
    }
   ],
   "source": [
    "x+y"
   ]
  },
  {
   "cell_type": "code",
   "execution_count": 7,
   "id": "20b3bb3a",
   "metadata": {},
   "outputs": [],
   "source": [
    "x=1"
   ]
  },
  {
   "cell_type": "code",
   "execution_count": 8,
   "id": "d4524ecb",
   "metadata": {},
   "outputs": [
    {
     "data": {
      "text/plain": [
       "1"
      ]
     },
     "execution_count": 8,
     "metadata": {},
     "output_type": "execute_result"
    }
   ],
   "source": [
    "int(x)"
   ]
  },
  {
   "cell_type": "code",
   "execution_count": 9,
   "id": "75bf79dc",
   "metadata": {},
   "outputs": [],
   "source": [
    "x=2.1"
   ]
  },
  {
   "cell_type": "code",
   "execution_count": 10,
   "id": "2df65942",
   "metadata": {},
   "outputs": [
    {
     "data": {
      "text/plain": [
       "2"
      ]
     },
     "execution_count": 10,
     "metadata": {},
     "output_type": "execute_result"
    }
   ],
   "source": [
    "int(x)"
   ]
  },
  {
   "cell_type": "code",
   "execution_count": 11,
   "id": "aa7f9be9",
   "metadata": {},
   "outputs": [],
   "source": [
    "x=2+0j"
   ]
  },
  {
   "cell_type": "code",
   "execution_count": 12,
   "id": "982ca952",
   "metadata": {},
   "outputs": [
    {
     "ename": "TypeError",
     "evalue": "can't convert complex to int",
     "output_type": "error",
     "traceback": [
      "\u001b[1;31m---------------------------------------------------------------------------\u001b[0m",
      "\u001b[1;31mTypeError\u001b[0m                                 Traceback (most recent call last)",
      "Input \u001b[1;32mIn [12]\u001b[0m, in \u001b[0;36m<cell line: 1>\u001b[1;34m()\u001b[0m\n\u001b[1;32m----> 1\u001b[0m \u001b[38;5;28;43mint\u001b[39;49m\u001b[43m(\u001b[49m\u001b[43mx\u001b[49m\u001b[43m)\u001b[49m\n",
      "\u001b[1;31mTypeError\u001b[0m: can't convert complex to int"
     ]
    }
   ],
   "source": [
    "int(x)"
   ]
  },
  {
   "cell_type": "code",
   "execution_count": 13,
   "id": "dd624694",
   "metadata": {},
   "outputs": [],
   "source": [
    "x=10"
   ]
  },
  {
   "cell_type": "code",
   "execution_count": 14,
   "id": "38d6940c",
   "metadata": {},
   "outputs": [
    {
     "data": {
      "text/plain": [
       "10.0"
      ]
     },
     "execution_count": 14,
     "metadata": {},
     "output_type": "execute_result"
    }
   ],
   "source": [
    "float(x)"
   ]
  },
  {
   "cell_type": "code",
   "execution_count": 15,
   "id": "33d6a703",
   "metadata": {},
   "outputs": [],
   "source": [
    "x1=1\n",
    "x2=1.1\n",
    "x3=2+0j"
   ]
  },
  {
   "cell_type": "code",
   "execution_count": 16,
   "id": "3327e6d9",
   "metadata": {},
   "outputs": [
    {
     "data": {
      "text/plain": [
       "(1+0j)"
      ]
     },
     "execution_count": 16,
     "metadata": {},
     "output_type": "execute_result"
    }
   ],
   "source": [
    "complex(x1)"
   ]
  },
  {
   "cell_type": "code",
   "execution_count": 17,
   "id": "0766a3ee",
   "metadata": {},
   "outputs": [
    {
     "data": {
      "text/plain": [
       "(1.1+0j)"
      ]
     },
     "execution_count": 17,
     "metadata": {},
     "output_type": "execute_result"
    }
   ],
   "source": [
    "complex(x2)"
   ]
  },
  {
   "cell_type": "code",
   "execution_count": 19,
   "id": "f75f1e46",
   "metadata": {},
   "outputs": [
    {
     "data": {
      "text/plain": [
       "(2+0j)"
      ]
     },
     "execution_count": 19,
     "metadata": {},
     "output_type": "execute_result"
    }
   ],
   "source": [
    "complex(x3)"
   ]
  },
  {
   "cell_type": "code",
   "execution_count": null,
   "id": "47d7cbec",
   "metadata": {},
   "outputs": [],
   "source": []
  }
 ],
 "metadata": {
  "kernelspec": {
   "display_name": "Python 3 (ipykernel)",
   "language": "python",
   "name": "python3"
  },
  "language_info": {
   "codemirror_mode": {
    "name": "ipython",
    "version": 3
   },
   "file_extension": ".py",
   "mimetype": "text/x-python",
   "name": "python",
   "nbconvert_exporter": "python",
   "pygments_lexer": "ipython3",
   "version": "3.9.12"
  }
 },
 "nbformat": 4,
 "nbformat_minor": 5
}

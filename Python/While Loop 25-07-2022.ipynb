{
 "cells": [
  {
   "cell_type": "code",
   "execution_count": 1,
   "id": "f27229c5",
   "metadata": {},
   "outputs": [
    {
     "name": "stdout",
     "output_type": "stream",
     "text": [
      "hi\n",
      "hi\n",
      "hi\n"
     ]
    }
   ],
   "source": [
    "x=0\n",
    "while x<3:\n",
    "    print(\"hi\")\n",
    "    x=x+1"
   ]
  },
  {
   "cell_type": "code",
   "execution_count": 2,
   "id": "f0386f76",
   "metadata": {},
   "outputs": [
    {
     "name": "stdout",
     "output_type": "stream",
     "text": [
      "0\n",
      "1\n",
      "2\n"
     ]
    }
   ],
   "source": [
    "x=0\n",
    "while x<3:\n",
    "    print(x)\n",
    "    x=x+1"
   ]
  },
  {
   "cell_type": "code",
   "execution_count": 3,
   "id": "df3086c3",
   "metadata": {},
   "outputs": [
    {
     "name": "stdout",
     "output_type": "stream",
     "text": [
      "0\n",
      "1\n",
      "2\n",
      "3\n",
      "4\n",
      "5\n",
      "6\n",
      "7\n",
      "8\n",
      "9\n",
      "10\n"
     ]
    }
   ],
   "source": [
    "x=0\n",
    "while x<11:\n",
    "    print(x)\n",
    "    x=x+1"
   ]
  },
  {
   "cell_type": "code",
   "execution_count": 4,
   "id": "a9e08b8d",
   "metadata": {},
   "outputs": [
    {
     "name": "stdout",
     "output_type": "stream",
     "text": [
      "10\n",
      "9\n",
      "8\n",
      "7\n",
      "6\n",
      "5\n",
      "4\n",
      "3\n",
      "2\n",
      "1\n"
     ]
    }
   ],
   "source": [
    "x=10\n",
    "while x>0:\n",
    "    print(x)\n",
    "    x=x-1"
   ]
  },
  {
   "cell_type": "code",
   "execution_count": 5,
   "id": "8aec063c",
   "metadata": {},
   "outputs": [
    {
     "name": "stdout",
     "output_type": "stream",
     "text": [
      "a\n",
      "b\n",
      "c\n",
      "d\n",
      "e\n"
     ]
    }
   ],
   "source": [
    "x=0\n",
    "y=\"abcde\"\n",
    "while x<5:\n",
    "    print(y[x])\n",
    "    x=x+1"
   ]
  },
  {
   "cell_type": "code",
   "execution_count": 6,
   "id": "35e138da",
   "metadata": {},
   "outputs": [
    {
     "name": "stdout",
     "output_type": "stream",
     "text": [
      "type the stringaa\n",
      "a\n",
      "a\n"
     ]
    }
   ],
   "source": [
    "x=0\n",
    "y=input(\"type the string\")\n",
    "l=len(y)\n",
    "\n",
    "while x<l:\n",
    "    print(y[x])\n",
    "    x=x+1"
   ]
  },
  {
   "cell_type": "code",
   "execution_count": 27,
   "id": "9114e756",
   "metadata": {},
   "outputs": [
    {
     "name": "stderr",
     "output_type": "stream",
     "text": [
      "\n",
      "KeyboardInterrupt\n",
      "\n"
     ]
    }
   ],
   "source": [
    "x=0\n",
    "y=input(\"type the string : \")\n",
    "l=len(y)\n",
    "\n",
    "while x<5:\n",
    "    print(y[x])\n",
    "    x=x+1"
   ]
  },
  {
   "cell_type": "code",
   "execution_count": 9,
   "id": "5a6c61e1",
   "metadata": {},
   "outputs": [
    {
     "name": "stdout",
     "output_type": "stream",
     "text": [
      "1\n",
      "2\n",
      "3\n",
      "4\n",
      "a\n"
     ]
    }
   ],
   "source": [
    "x=[1,2,3,4,\"a\"]\n",
    "i=0\n",
    "while i<len(x):\n",
    "    print(x[i])\n",
    "    i=i+1"
   ]
  },
  {
   "cell_type": "code",
   "execution_count": 10,
   "id": "58cc68c9",
   "metadata": {},
   "outputs": [
    {
     "name": "stdout",
     "output_type": "stream",
     "text": [
      "2\n",
      "4\n",
      "6\n",
      "8\n",
      "10\n",
      "12\n",
      "14\n",
      "16\n",
      "18\n",
      "20\n"
     ]
    }
   ],
   "source": [
    "x=[1,2,3,4,5,6,7,8,9,10,11,12,13,14,15,16,17,18,19,20]\n",
    "y=0\n",
    "while y<len(x):\n",
    "    if x[y]%2==0:\n",
    "        print(x[y])\n",
    "    y=y+1"
   ]
  },
  {
   "cell_type": "code",
   "execution_count": 11,
   "id": "3bac0fc8",
   "metadata": {},
   "outputs": [
    {
     "name": "stdout",
     "output_type": "stream",
     "text": [
      "1\n",
      "4\n",
      "9\n",
      "16\n",
      "25\n"
     ]
    }
   ],
   "source": [
    "x=[1,2,3,4,5]\n",
    "y=0\n",
    "while y<len(x):\n",
    "    if x[y]**2:\n",
    "        print(x[y]**2)\n",
    "    y=y+1"
   ]
  },
  {
   "cell_type": "code",
   "execution_count": 12,
   "id": "a01c3beb",
   "metadata": {},
   "outputs": [
    {
     "name": "stdout",
     "output_type": "stream",
     "text": [
      "a\n",
      "c\n",
      "e\n",
      "g\n",
      "i\n"
     ]
    }
   ],
   "source": [
    "y=\"abcdefghi\"\n",
    "x=0\n",
    "while x<len(y):\n",
    "    if x%2==0:\n",
    "        print(y[x])\n",
    "    x=x+1 "
   ]
  },
  {
   "cell_type": "code",
   "execution_count": 13,
   "id": "a4a61360",
   "metadata": {},
   "outputs": [
    {
     "name": "stdout",
     "output_type": "stream",
     "text": [
      "AbCdE\n"
     ]
    }
   ],
   "source": [
    "x=\"abcde\"\n",
    "y=0\n",
    "k=''\n",
    "while y<len(x):\n",
    "    if y%2==0:\n",
    "        k=k+(x[y].upper())\n",
    "    else:\n",
    "        k=k+(x[y])\n",
    "        \n",
    "    y=y+1\n",
    "print(k)"
   ]
  },
  {
   "cell_type": "code",
   "execution_count": 14,
   "id": "d4e30649",
   "metadata": {},
   "outputs": [
    {
     "name": "stdout",
     "output_type": "stream",
     "text": [
      "enter any string Aashish1326\n",
      "AaShIsH1326\n"
     ]
    }
   ],
   "source": [
    "x=input(\"enter any string \")\n",
    "y=0\n",
    "k=''\n",
    "while y<len(x):\n",
    "    if y%2==0:\n",
    "        k=k+(x[y].upper())\n",
    "    else:\n",
    "        k=k+(x[y])\n",
    "        \n",
    "    y=y+1\n",
    "print(k)"
   ]
  },
  {
   "cell_type": "code",
   "execution_count": 14,
   "id": "66664a07",
   "metadata": {},
   "outputs": [
    {
     "name": "stdout",
     "output_type": "stream",
     "text": [
      "<class 'str'>\n",
      "<class 'float'>\n",
      "<class 'int'>\n",
      "<class 'str'>\n",
      "<class 'complex'>\n"
     ]
    }
   ],
   "source": [
    "x=[\"a\",1.2,322,\"abc\",1+2j]\n",
    "y=0\n",
    "while y<len(x):\n",
    "    print(type((x[y])))\n",
    "    y=y+1"
   ]
  },
  {
   "cell_type": "code",
   "execution_count": 25,
   "id": "b9108036",
   "metadata": {},
   "outputs": [
    {
     "name": "stdout",
     "output_type": "stream",
     "text": [
      "abde\n",
      "10\n"
     ]
    }
   ],
   "source": [
    "#Q3 x=[\"a\",\"b\",1,2,3,\"d\",\"e\",4]\n",
    "#from these list two o/p ---1)\"abcde\"---2)1+2+3+4=10\n",
    "\n",
    "\n",
    "x=[\"a\",\"b\",'1','2','3',\"d\",\"e\",'4']\n",
    "y=0\n",
    "k=''\n",
    "c=0\n",
    "\n",
    "while y<len(x):\n",
    "    if x[y].isalpha():\n",
    "        k=k+x[y]\n",
    "    else:\n",
    "        c=c+int(x[y])\n",
    "        \n",
    "    y=y+1\n",
    "print(k)\n",
    "print(c)"
   ]
  },
  {
   "cell_type": "code",
   "execution_count": 28,
   "id": "b1af64af",
   "metadata": {},
   "outputs": [
    {
     "data": {
      "text/plain": [
       "[2, 'd', 'b', 6]"
      ]
     },
     "execution_count": 28,
     "metadata": {},
     "output_type": "execute_result"
    }
   ],
   "source": [
    "#Q5) Creat Two List l=[1,2,3,\"a\",\"b\"], l2=[6,1,3,\"a\",\"d\"] output=create a list to get common elements o/p l3=[6,d,b,2]\n",
    "\n",
    "\n",
    "x1=[1,2,3,'a','b']\n",
    "x2=[6,1,3,'a','d']\n",
    "a=set(x1)\n",
    "b=set(x2)\n",
    "c=a.difference(b)\n",
    "d=b.difference(a)\n",
    "c.update(d)\n",
    "a=list(c)\n",
    "a"
   ]
  },
  {
   "cell_type": "code",
   "execution_count": 5,
   "id": "105ac71a",
   "metadata": {},
   "outputs": [
    {
     "name": "stdout",
     "output_type": "stream",
     "text": [
      "0\n"
     ]
    }
   ],
   "source": [
    "#26\n",
    "\n",
    "x=0\n",
    "while x<3:\n",
    "    if x==0:\n",
    "        print(x)\n",
    "        break\n",
    "    x=x+1"
   ]
  },
  {
   "cell_type": "code",
   "execution_count": 6,
   "id": "b49eb697",
   "metadata": {},
   "outputs": [],
   "source": [
    "x=0\n",
    "while x<3:\n",
    "    if x==0:\n",
    "        break\n",
    "        print(x)\n",
    "    x=x+1    "
   ]
  },
  {
   "cell_type": "code",
   "execution_count": 8,
   "id": "87252251",
   "metadata": {},
   "outputs": [
    {
     "name": "stdout",
     "output_type": "stream",
     "text": [
      "1\n"
     ]
    }
   ],
   "source": [
    "x=0\n",
    "while x<3:\n",
    "    if x==1:\n",
    "        print(x)\n",
    "        break\n",
    "    x=x+1"
   ]
  },
  {
   "cell_type": "code",
   "execution_count": 3,
   "id": "06d83928",
   "metadata": {},
   "outputs": [
    {
     "name": "stdout",
     "output_type": "stream",
     "text": [
      "0\n",
      "1\n",
      "2\n",
      "3\n",
      "4\n",
      "5\n"
     ]
    }
   ],
   "source": [
    "x=0\n",
    "while x<=10:\n",
    "    print(x)\n",
    "    if x==5:\n",
    "        break\n",
    "    x=x+1"
   ]
  },
  {
   "cell_type": "code",
   "execution_count": null,
   "id": "0436cef1",
   "metadata": {},
   "outputs": [],
   "source": [
    "\n",
    "x=0\n",
    "while x<3:\n",
    "    print(\"hi\")\n",
    "    print(\"bye\")\n",
    "    if x==2:\n",
    "        "
   ]
  },
  {
   "cell_type": "code",
   "execution_count": 5,
   "id": "2d2c684f",
   "metadata": {},
   "outputs": [
    {
     "name": "stdout",
     "output_type": "stream",
     "text": [
      "Enter a number: 153\n",
      "153 is an Armstrong number\n"
     ]
    }
   ],
   "source": [
    "# Check Armstrong number 3 number only\n",
    "\n",
    "num = int(input(\"Enter a number: \"))\n",
    "\n",
    "sum = 0\n",
    "\n",
    "temp = num\n",
    "while temp > 0:\n",
    "    digit = temp % 10\n",
    "    sum += digit ** 3\n",
    "    temp //= 10\n",
    "    \n",
    "if num == sum:\n",
    "    print(num, \"is an Armstrong number\")\n",
    "else:\n",
    "    print(num,\"is not an Armstrong number\")"
   ]
  },
  {
   "cell_type": "code",
   "execution_count": null,
   "id": "ed5c10ef",
   "metadata": {},
   "outputs": [],
   "source": []
  },
  {
   "cell_type": "code",
   "execution_count": 10,
   "id": "88bdc5df",
   "metadata": {},
   "outputs": [
    {
     "name": "stdout",
     "output_type": "stream",
     "text": [
      "Enter a number: 143\n",
      "143 is not an Armstrong number\n"
     ]
    }
   ],
   "source": [
    "# Check Armstrong number of n digits\n",
    "\n",
    "num = int(input(\"Enter a number: \"))\n",
    "order = len(str(num))\n",
    "\n",
    "sum = 0\n",
    "\n",
    "temp = num\n",
    "while temp > 0:\n",
    "    digit = temp % 10\n",
    "    sum += digit ** order\n",
    "    temp //= 10\n",
    "    \n",
    "if num == sum:\n",
    "    print(num, \"is an Armstrong number\")\n",
    "else:\n",
    "    print(num,\"is not an Armstrong number\")"
   ]
  },
  {
   "cell_type": "code",
   "execution_count": 11,
   "id": "25195d19",
   "metadata": {},
   "outputs": [
    {
     "data": {
      "text/plain": [
       "3"
      ]
     },
     "execution_count": 11,
     "metadata": {},
     "output_type": "execute_result"
    }
   ],
   "source": [
    "13%10"
   ]
  },
  {
   "cell_type": "code",
   "execution_count": null,
   "id": "1b609edd",
   "metadata": {},
   "outputs": [],
   "source": [
    "// num = int(input(\"Enter a number: \"))// 153 \n",
    "// order = len(str(num))// 3\n",
    "\n",
    "// sum = 0;//27 , 152 ,153\n",
    "\n",
    "// temp = num;//153\n",
    "// while temp > 0://153 ,15 ,1\n",
    "//     digit = temp % 10// 153%10----->3  , 15%10---->5 ,1%10---->1;\n",
    "//     sum += digit ** order // sum=sum+digit^3-------->0+3^3=27 ,27+5^3---->152;  152+1^3--->153\n",
    "//     temp //= 10//temp=temp//10--->153//10--->15 ---------->15//10--->1;\n",
    "    \n",
    "// if num == sum:\n",
    "//     print(num, \"is an Armstrong number\")\n",
    "// else:\n",
    "//     print(num,\"is not an Armstrong number\")"
   ]
  }
 ],
 "metadata": {
  "kernelspec": {
   "display_name": "Python 3 (ipykernel)",
   "language": "python",
   "name": "python3"
  },
  "language_info": {
   "codemirror_mode": {
    "name": "ipython",
    "version": 3
   },
   "file_extension": ".py",
   "mimetype": "text/x-python",
   "name": "python",
   "nbconvert_exporter": "python",
   "pygments_lexer": "ipython3",
   "version": "3.9.13"
  }
 },
 "nbformat": 4,
 "nbformat_minor": 5
}
